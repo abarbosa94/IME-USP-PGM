{
 "cells": [
  {
   "cell_type": "code",
   "execution_count": 16,
   "metadata": {},
   "outputs": [],
   "source": [
    "%matplotlib inline  \n",
    "import feather\n",
    "import pandas as pd\n",
    "import matplotlib.pyplot as plt\n",
    "import networkx as nx\n",
    "from networkx.drawing.nx_agraph import graphviz_layout\n",
    "import numpy as np\n",
    "import pgmpy\n",
    "from pgmpy.estimators import BayesianEstimator\n",
    "from pgmpy.estimators import HillClimbSearch, BicScore\n",
    "from sklearn.preprocessing import LabelEncoder\n",
    "from tqdm import tqdm\n",
    "import warnings\n",
    "\n",
    "pd.set_option('display.max_columns',None)\n",
    "warnings.filterwarnings('ignore')"
   ]
  },
  {
   "cell_type": "code",
   "execution_count": 2,
   "metadata": {},
   "outputs": [
    {
     "name": "stdout",
     "output_type": "stream",
     "text": [
      "CPU times: user 866 ms, sys: 540 ms, total: 1.41 s\n",
      "Wall time: 819 ms\n"
     ]
    }
   ],
   "source": [
    "%%time\n",
    "pandas_df = feather.read_dataframe('data/sample_feather')"
   ]
  },
  {
   "cell_type": "markdown",
   "metadata": {},
   "source": [
    "# Discretizing the Response Variables\n",
    "\n",
    "For the Type of data we will be using here, all the variables are required to be Discrete. Thus we need to Discretize all grade variables from students"
   ]
  },
  {
   "cell_type": "code",
   "execution_count": 3,
   "metadata": {},
   "outputs": [],
   "source": [
    "grades = ['NU_NOTA_CN','NU_NOTA_CH','NU_NOTA_LC','NU_NOTA_MT', 'NU_NOTA_REDACAO']"
   ]
  },
  {
   "cell_type": "code",
   "execution_count": 4,
   "metadata": {},
   "outputs": [],
   "source": [
    "before = pandas_df[grades].head()"
   ]
  },
  {
   "cell_type": "code",
   "execution_count": 5,
   "metadata": {},
   "outputs": [],
   "source": [
    "pandas_df['NU_NOTA_CN'] = pd.cut(pandas_df['NU_NOTA_CN'], bins=[-1,300,500,650,850,1000],labels=['muito baixa','baixa','media','alta','muito alta'])\n",
    "pandas_df['NU_NOTA_CH'] = pd.cut(pandas_df['NU_NOTA_CH'], bins=[-1,300,500,650,850,1000],labels=['muito baixa','baixa','media','alta','muito alta'])\n",
    "pandas_df['NU_NOTA_LC'] = pd.cut(pandas_df['NU_NOTA_LC'], bins=[-1,300,500,650,850,1000],labels=['muito baixa','baixa','media','alta','muito alta'])\n",
    "pandas_df['NU_NOTA_MT'] = pd.cut(pandas_df['NU_NOTA_MT'], bins=[-1,300,500,650,850,1000],labels=['muito baixa','baixa','media','alta','muito alta'])\n",
    "pandas_df['NU_NOTA_REDACAO'] = pd.cut(pandas_df['NU_NOTA_REDACAO'], bins=[-1,300,500,650,850,1000],labels=['muito baixa','baixa','media','alta','muito alta'])"
   ]
  },
  {
   "cell_type": "code",
   "execution_count": 6,
   "metadata": {},
   "outputs": [
    {
     "data": {
      "text/plain": [
       "{'alta', 'baixa', 'media', 'muito alta', 'muito baixa'}"
      ]
     },
     "execution_count": 6,
     "metadata": {},
     "output_type": "execute_result"
    }
   ],
   "source": [
    "set(pandas_df['NU_NOTA_MT'])"
   ]
  },
  {
   "cell_type": "code",
   "execution_count": 162,
   "metadata": {},
   "outputs": [
    {
     "data": {
      "text/plain": [
       "442675"
      ]
     },
     "execution_count": 162,
     "metadata": {},
     "output_type": "execute_result"
    }
   ],
   "source": [
    "len(pandas_df)"
   ]
  },
  {
   "cell_type": "code",
   "execution_count": 163,
   "metadata": {},
   "outputs": [
    {
     "data": {
      "text/html": [
       "<div>\n",
       "<style scoped>\n",
       "    .dataframe tbody tr th:only-of-type {\n",
       "        vertical-align: middle;\n",
       "    }\n",
       "\n",
       "    .dataframe tbody tr th {\n",
       "        vertical-align: top;\n",
       "    }\n",
       "\n",
       "    .dataframe thead th {\n",
       "        text-align: right;\n",
       "    }\n",
       "</style>\n",
       "<table border=\"1\" class=\"dataframe\">\n",
       "  <thead>\n",
       "    <tr style=\"text-align: right;\">\n",
       "      <th></th>\n",
       "      <th>NU_NOTA_CN</th>\n",
       "      <th>NU_NOTA_CH</th>\n",
       "      <th>NU_NOTA_LC</th>\n",
       "      <th>NU_NOTA_MT</th>\n",
       "      <th>NU_NOTA_REDACAO</th>\n",
       "    </tr>\n",
       "  </thead>\n",
       "  <tbody>\n",
       "    <tr>\n",
       "      <th>0</th>\n",
       "      <td>465.1</td>\n",
       "      <td>560.4</td>\n",
       "      <td>537.6</td>\n",
       "      <td>522.2</td>\n",
       "      <td>580.0</td>\n",
       "    </tr>\n",
       "    <tr>\n",
       "      <th>1</th>\n",
       "      <td>638.9</td>\n",
       "      <td>642.9</td>\n",
       "      <td>622.2</td>\n",
       "      <td>658.8</td>\n",
       "      <td>920.0</td>\n",
       "    </tr>\n",
       "    <tr>\n",
       "      <th>2</th>\n",
       "      <td>569.6</td>\n",
       "      <td>566.4</td>\n",
       "      <td>575.1</td>\n",
       "      <td>605.3</td>\n",
       "      <td>640.0</td>\n",
       "    </tr>\n",
       "    <tr>\n",
       "      <th>3</th>\n",
       "      <td>570.1</td>\n",
       "      <td>572.5</td>\n",
       "      <td>601.7</td>\n",
       "      <td>701.6</td>\n",
       "      <td>620.0</td>\n",
       "    </tr>\n",
       "    <tr>\n",
       "      <th>4</th>\n",
       "      <td>508.9</td>\n",
       "      <td>436.5</td>\n",
       "      <td>489.1</td>\n",
       "      <td>602.8</td>\n",
       "      <td>600.0</td>\n",
       "    </tr>\n",
       "  </tbody>\n",
       "</table>\n",
       "</div>"
      ],
      "text/plain": [
       "   NU_NOTA_CN  NU_NOTA_CH  NU_NOTA_LC  NU_NOTA_MT  NU_NOTA_REDACAO\n",
       "0       465.1       560.4       537.6       522.2            580.0\n",
       "1       638.9       642.9       622.2       658.8            920.0\n",
       "2       569.6       566.4       575.1       605.3            640.0\n",
       "3       570.1       572.5       601.7       701.6            620.0\n",
       "4       508.9       436.5       489.1       602.8            600.0"
      ]
     },
     "execution_count": 163,
     "metadata": {},
     "output_type": "execute_result"
    }
   ],
   "source": [
    "before"
   ]
  },
  {
   "cell_type": "code",
   "execution_count": 164,
   "metadata": {},
   "outputs": [
    {
     "data": {
      "text/html": [
       "<div>\n",
       "<style scoped>\n",
       "    .dataframe tbody tr th:only-of-type {\n",
       "        vertical-align: middle;\n",
       "    }\n",
       "\n",
       "    .dataframe tbody tr th {\n",
       "        vertical-align: top;\n",
       "    }\n",
       "\n",
       "    .dataframe thead th {\n",
       "        text-align: right;\n",
       "    }\n",
       "</style>\n",
       "<table border=\"1\" class=\"dataframe\">\n",
       "  <thead>\n",
       "    <tr style=\"text-align: right;\">\n",
       "      <th></th>\n",
       "      <th>NU_NOTA_CN</th>\n",
       "      <th>NU_NOTA_CH</th>\n",
       "      <th>NU_NOTA_LC</th>\n",
       "      <th>NU_NOTA_MT</th>\n",
       "      <th>NU_NOTA_REDACAO</th>\n",
       "    </tr>\n",
       "  </thead>\n",
       "  <tbody>\n",
       "    <tr>\n",
       "      <th>0</th>\n",
       "      <td>baixa</td>\n",
       "      <td>media</td>\n",
       "      <td>media</td>\n",
       "      <td>media</td>\n",
       "      <td>media</td>\n",
       "    </tr>\n",
       "    <tr>\n",
       "      <th>1</th>\n",
       "      <td>media</td>\n",
       "      <td>media</td>\n",
       "      <td>media</td>\n",
       "      <td>alta</td>\n",
       "      <td>muito alta</td>\n",
       "    </tr>\n",
       "    <tr>\n",
       "      <th>2</th>\n",
       "      <td>media</td>\n",
       "      <td>media</td>\n",
       "      <td>media</td>\n",
       "      <td>media</td>\n",
       "      <td>media</td>\n",
       "    </tr>\n",
       "    <tr>\n",
       "      <th>3</th>\n",
       "      <td>media</td>\n",
       "      <td>media</td>\n",
       "      <td>media</td>\n",
       "      <td>alta</td>\n",
       "      <td>media</td>\n",
       "    </tr>\n",
       "    <tr>\n",
       "      <th>4</th>\n",
       "      <td>media</td>\n",
       "      <td>baixa</td>\n",
       "      <td>baixa</td>\n",
       "      <td>media</td>\n",
       "      <td>media</td>\n",
       "    </tr>\n",
       "  </tbody>\n",
       "</table>\n",
       "</div>"
      ],
      "text/plain": [
       "  NU_NOTA_CN NU_NOTA_CH NU_NOTA_LC NU_NOTA_MT NU_NOTA_REDACAO\n",
       "0      baixa      media      media      media           media\n",
       "1      media      media      media       alta      muito alta\n",
       "2      media      media      media      media           media\n",
       "3      media      media      media       alta           media\n",
       "4      media      baixa      baixa      media           media"
      ]
     },
     "execution_count": 164,
     "metadata": {},
     "output_type": "execute_result"
    }
   ],
   "source": [
    "pandas_df[grades].head()"
   ]
  },
  {
   "cell_type": "markdown",
   "metadata": {},
   "source": [
    "# Structure Learning\n",
    "## Some simple tests"
   ]
  },
  {
   "cell_type": "code",
   "execution_count": 12,
   "metadata": {},
   "outputs": [
    {
     "data": {
      "text/plain": [
       "(5534, 82)"
      ]
     },
     "execution_count": 12,
     "metadata": {},
     "output_type": "execute_result"
    }
   ],
   "source": [
    "len(set(pandas_df['CO_MUNICIPIO_RESIDENCIA'])), len(set(pandas_df['NU_IDADE']))"
   ]
  },
  {
   "cell_type": "code",
   "execution_count": 19,
   "metadata": {},
   "outputs": [],
   "source": [
    "est = HillClimbSearch(pandas_df[grades+['Q00{}'.format(i) for i in range(1,10)]],\n",
    "                      scoring_method=BicScore(pandas_df[grades+['Q00{}'.format(i) for i in range(1,10)]]))"
   ]
  },
  {
   "cell_type": "code",
   "execution_count": 12,
   "metadata": {},
   "outputs": [
    {
     "name": "stdout",
     "output_type": "stream",
     "text": [
      "CPU times: user 3min 42s, sys: 11.1 s, total: 3min 53s\n",
      "Wall time: 19.5 s\n"
     ]
    }
   ],
   "source": [
    "%%time\n",
    "best_model = est.estimate()"
   ]
  },
  {
   "cell_type": "markdown",
   "metadata": {},
   "source": [
    "### Variable study - 10% total size\n",
    "\n",
    "5 variables - 26s\n",
    "\n",
    "6 variables - 51s (~25s)\n",
    "\n",
    "7 variables - 100s (~50s)\n",
    "\n",
    "8 variables (Including Idade) - 180s (~80s)\n",
    "\n",
    "9 variables (Including Idade)- 288s (~100s)\n",
    "\n",
    "10 variables (Including Idade) - 480s(~200s)\n",
    "\n",
    "11 variables (not including Idade) - 720s (~240)\n",
    "\n",
    "14 variables - 24 minutos\n",
    "\n",
    "4 variables (Including Residence Code) - 520s\n"
   ]
  },
  {
   "cell_type": "markdown",
   "metadata": {},
   "source": [
    "Aparently, it does depent on the number of \"categories in a variable\". Thus, using the residence code might not be a good idea."
   ]
  },
  {
   "cell_type": "code",
   "execution_count": 81,
   "metadata": {},
   "outputs": [
    {
     "data": {
      "image/png": "[encoded data removed]",
      "text/plain": [
       "<Figure size 432x288 with 1 Axes>"
      ]
     },
     "metadata": {},
     "output_type": "display_data"
    }
   ],
   "source": [
    "nx.draw(best_model, with_labels=True, pos=graphviz_layout(best_model))\n",
    "plt.show();"
   ]
  },
  {
   "cell_type": "markdown",
   "metadata": {},
   "source": [
    "### Variable Study (Taking 10% sample; 1% total)"
   ]
  },
  {
   "cell_type": "markdown",
   "metadata": {},
   "source": [
    "5 variáveis - 3s\n",
    "\n",
    "14 variáveos - 4 minutos\n",
    "\n",
    "16 variáveis - 7 minutos\n",
    "\n",
    "18 variáveis - 11 minutos\n",
    "\n",
    "20 variáveis - 17 minutos\n",
    "\n",
    "24 variáveis - 30 minutos"
   ]
  },
  {
   "cell_type": "code",
   "execution_count": 7,
   "metadata": {},
   "outputs": [],
   "source": [
    "pandas_sample = pandas_df.sample(frac=0.1,random_state=17)"
   ]
  },
  {
   "cell_type": "code",
   "execution_count": 8,
   "metadata": {},
   "outputs": [],
   "source": [
    "est = HillClimbSearch(pandas_sample[grades+['Q00{}'.format(i) for i in range(1,10)]],\n",
    "                      scoring_method=BicScore(pandas_sample[grades+['Q00{}'.format(i) for i in range(1,10)]]))"
   ]
  },
  {
   "cell_type": "code",
   "execution_count": 9,
   "metadata": {},
   "outputs": [
    {
     "name": "stdout",
     "output_type": "stream",
     "text": [
      "CPU times: user 4min 33s, sys: 218 ms, total: 4min 33s\n",
      "Wall time: 4min 33s\n"
     ]
    }
   ],
   "source": [
    "%%time\n",
    "best_model = est.estimate()"
   ]
  },
  {
   "cell_type": "code",
   "execution_count": 10,
   "metadata": {},
   "outputs": [
    {
     "data": {
      "text/plain": [
       "14"
      ]
     },
     "execution_count": 10,
     "metadata": {},
     "output_type": "execute_result"
    }
   ],
   "source": [
    "len(sorted(best_model.nodes()))"
   ]
  },
  {
   "cell_type": "code",
   "execution_count": 11,
   "metadata": {},
   "outputs": [
    {
     "data": {
      "image/png": "[encoded data removed]",
      "text/plain": [
       "<Figure size 432x288 with 1 Axes>"
      ]
     },
     "metadata": {},
     "output_type": "display_data"
    }
   ],
   "source": [
    "nx.draw(best_model, with_labels=True, pos=graphviz_layout(best_model))\n",
    "plt.show();"
   ]
  },
  {
   "cell_type": "markdown",
   "metadata": {},
   "source": [
    "# Increase the feature numbers\n",
    "\n",
    "Sample Size reduction\n",
    "\n",
    "- Variable of Interest: `NU_NOTA_MT`\n",
    "- Only Socialeconomic Questionary Data\n",
    "- Need to Convert All Variables to Discrete Integers due to Lib requirements"
   ]
  },
  {
   "cell_type": "code",
   "execution_count": 8,
   "metadata": {},
   "outputs": [],
   "source": [
    "columns = ['NU_NOTA_MT']+['Q00{}'.format(i) for i in range(1,10)]+['Q0{}'.format(i) for i in range(10,28)]"
   ]
  },
  {
   "cell_type": "code",
   "execution_count": 9,
   "metadata": {},
   "outputs": [
    {
     "data": {
      "text/html": [
       "<div>\n",
       "<style scoped>\n",
       "    .dataframe tbody tr th:only-of-type {\n",
       "        vertical-align: middle;\n",
       "    }\n",
       "\n",
       "    .dataframe tbody tr th {\n",
       "        vertical-align: top;\n",
       "    }\n",
       "\n",
       "    .dataframe thead th {\n",
       "        text-align: right;\n",
       "    }\n",
       "</style>\n",
       "<table border=\"1\" class=\"dataframe\">\n",
       "  <thead>\n",
       "    <tr style=\"text-align: right;\">\n",
       "      <th></th>\n",
       "      <th>NU_NOTA_MT</th>\n",
       "      <th>Q001</th>\n",
       "      <th>Q002</th>\n",
       "      <th>Q003</th>\n",
       "      <th>Q004</th>\n",
       "      <th>Q005</th>\n",
       "      <th>Q006</th>\n",
       "      <th>Q007</th>\n",
       "      <th>Q008</th>\n",
       "      <th>Q009</th>\n",
       "      <th>Q010</th>\n",
       "      <th>Q011</th>\n",
       "      <th>Q012</th>\n",
       "      <th>Q013</th>\n",
       "      <th>Q014</th>\n",
       "      <th>Q015</th>\n",
       "      <th>Q016</th>\n",
       "      <th>Q017</th>\n",
       "      <th>Q018</th>\n",
       "      <th>Q019</th>\n",
       "      <th>Q020</th>\n",
       "      <th>Q021</th>\n",
       "      <th>Q022</th>\n",
       "      <th>Q023</th>\n",
       "      <th>Q024</th>\n",
       "      <th>Q025</th>\n",
       "      <th>Q026</th>\n",
       "      <th>Q027</th>\n",
       "    </tr>\n",
       "  </thead>\n",
       "  <tbody>\n",
       "    <tr>\n",
       "      <th>0</th>\n",
       "      <td>media</td>\n",
       "      <td>C</td>\n",
       "      <td>B</td>\n",
       "      <td>C</td>\n",
       "      <td>B</td>\n",
       "      <td>2.0</td>\n",
       "      <td>C</td>\n",
       "      <td>A</td>\n",
       "      <td>B</td>\n",
       "      <td>B</td>\n",
       "      <td>B</td>\n",
       "      <td>A</td>\n",
       "      <td>B</td>\n",
       "      <td>A</td>\n",
       "      <td>B</td>\n",
       "      <td>A</td>\n",
       "      <td>A</td>\n",
       "      <td>A</td>\n",
       "      <td>A</td>\n",
       "      <td>A</td>\n",
       "      <td>A</td>\n",
       "      <td>A</td>\n",
       "      <td>C</td>\n",
       "      <td>A</td>\n",
       "      <td>B</td>\n",
       "      <td>B</td>\n",
       "      <td>B</td>\n",
       "      <td>A</td>\n",
       "    </tr>\n",
       "    <tr>\n",
       "      <th>1</th>\n",
       "      <td>baixa</td>\n",
       "      <td>E</td>\n",
       "      <td>E</td>\n",
       "      <td>A</td>\n",
       "      <td>A</td>\n",
       "      <td>5.0</td>\n",
       "      <td>B</td>\n",
       "      <td>A</td>\n",
       "      <td>B</td>\n",
       "      <td>C</td>\n",
       "      <td>A</td>\n",
       "      <td>B</td>\n",
       "      <td>B</td>\n",
       "      <td>A</td>\n",
       "      <td>A</td>\n",
       "      <td>A</td>\n",
       "      <td>A</td>\n",
       "      <td>A</td>\n",
       "      <td>A</td>\n",
       "      <td>B</td>\n",
       "      <td>B</td>\n",
       "      <td>A</td>\n",
       "      <td>B</td>\n",
       "      <td>A</td>\n",
       "      <td>B</td>\n",
       "      <td>B</td>\n",
       "      <td>B</td>\n",
       "      <td>A</td>\n",
       "    </tr>\n",
       "    <tr>\n",
       "      <th>2</th>\n",
       "      <td>alta</td>\n",
       "      <td>F</td>\n",
       "      <td>F</td>\n",
       "      <td>D</td>\n",
       "      <td>D</td>\n",
       "      <td>1.0</td>\n",
       "      <td>G</td>\n",
       "      <td>A</td>\n",
       "      <td>B</td>\n",
       "      <td>B</td>\n",
       "      <td>A</td>\n",
       "      <td>A</td>\n",
       "      <td>B</td>\n",
       "      <td>A</td>\n",
       "      <td>B</td>\n",
       "      <td>A</td>\n",
       "      <td>B</td>\n",
       "      <td>A</td>\n",
       "      <td>B</td>\n",
       "      <td>B</td>\n",
       "      <td>B</td>\n",
       "      <td>B</td>\n",
       "      <td>B</td>\n",
       "      <td>B</td>\n",
       "      <td>B</td>\n",
       "      <td>B</td>\n",
       "      <td>A</td>\n",
       "      <td>A</td>\n",
       "    </tr>\n",
       "    <tr>\n",
       "      <th>3</th>\n",
       "      <td>alta</td>\n",
       "      <td>E</td>\n",
       "      <td>E</td>\n",
       "      <td>F</td>\n",
       "      <td>B</td>\n",
       "      <td>3.0</td>\n",
       "      <td>D</td>\n",
       "      <td>A</td>\n",
       "      <td>B</td>\n",
       "      <td>D</td>\n",
       "      <td>B</td>\n",
       "      <td>A</td>\n",
       "      <td>B</td>\n",
       "      <td>B</td>\n",
       "      <td>B</td>\n",
       "      <td>B</td>\n",
       "      <td>B</td>\n",
       "      <td>A</td>\n",
       "      <td>A</td>\n",
       "      <td>B</td>\n",
       "      <td>B</td>\n",
       "      <td>A</td>\n",
       "      <td>C</td>\n",
       "      <td>A</td>\n",
       "      <td>B</td>\n",
       "      <td>B</td>\n",
       "      <td>B</td>\n",
       "      <td>A</td>\n",
       "    </tr>\n",
       "    <tr>\n",
       "      <th>4</th>\n",
       "      <td>baixa</td>\n",
       "      <td>A</td>\n",
       "      <td>E</td>\n",
       "      <td>B</td>\n",
       "      <td>B</td>\n",
       "      <td>5.0</td>\n",
       "      <td>A</td>\n",
       "      <td>A</td>\n",
       "      <td>B</td>\n",
       "      <td>C</td>\n",
       "      <td>A</td>\n",
       "      <td>A</td>\n",
       "      <td>B</td>\n",
       "      <td>A</td>\n",
       "      <td>A</td>\n",
       "      <td>A</td>\n",
       "      <td>B</td>\n",
       "      <td>A</td>\n",
       "      <td>A</td>\n",
       "      <td>B</td>\n",
       "      <td>B</td>\n",
       "      <td>A</td>\n",
       "      <td>D</td>\n",
       "      <td>A</td>\n",
       "      <td>A</td>\n",
       "      <td>A</td>\n",
       "      <td>A</td>\n",
       "      <td>A</td>\n",
       "    </tr>\n",
       "  </tbody>\n",
       "</table>\n",
       "</div>"
      ],
      "text/plain": [
       "  NU_NOTA_MT Q001 Q002 Q003 Q004  Q005 Q006 Q007 Q008 Q009 Q010 Q011 Q012  \\\n",
       "0      media    C    B    C    B   2.0    C    A    B    B    B    A    B   \n",
       "1      baixa    E    E    A    A   5.0    B    A    B    C    A    B    B   \n",
       "2       alta    F    F    D    D   1.0    G    A    B    B    A    A    B   \n",
       "3       alta    E    E    F    B   3.0    D    A    B    D    B    A    B   \n",
       "4      baixa    A    E    B    B   5.0    A    A    B    C    A    A    B   \n",
       "\n",
       "  Q013 Q014 Q015 Q016 Q017 Q018 Q019 Q020 Q021 Q022 Q023 Q024 Q025 Q026 Q027  \n",
       "0    A    B    A    A    A    A    A    A    A    C    A    B    B    B    A  \n",
       "1    A    A    A    A    A    A    B    B    A    B    A    B    B    B    A  \n",
       "2    A    B    A    B    A    B    B    B    B    B    B    B    B    A    A  \n",
       "3    B    B    B    B    A    A    B    B    A    C    A    B    B    B    A  \n",
       "4    A    A    A    B    A    A    B    B    A    D    A    A    A    A    A  "
      ]
     },
     "execution_count": 9,
     "metadata": {},
     "output_type": "execute_result"
    }
   ],
   "source": [
    "sample_subset = pandas_sample[columns].copy()\n",
    "sample_subset = sample_subset.reset_index(drop=True)\n",
    "sample_subset.head()"
   ]
  },
  {
   "cell_type": "code",
   "execution_count": 12,
   "metadata": {},
   "outputs": [
    {
     "name": "stderr",
     "output_type": "stream",
     "text": [
      "100%|██████████| 28/28 [00:00<00:00, 57.47it/s]\n"
     ]
    }
   ],
   "source": [
    "dict_columns = {}\n",
    "for column in tqdm(columns):\n",
    "    transf = LabelEncoder()\n",
    "    sample_subset[column] = transf.fit_transform(sample_subset[column])\n",
    "    dict_columns[column] =  transf.classes_"
   ]
  },
  {
   "cell_type": "code",
   "execution_count": 13,
   "metadata": {},
   "outputs": [
    {
     "data": {
      "text/html": [
       "<div>\n",
       "<style scoped>\n",
       "    .dataframe tbody tr th:only-of-type {\n",
       "        vertical-align: middle;\n",
       "    }\n",
       "\n",
       "    .dataframe tbody tr th {\n",
       "        vertical-align: top;\n",
       "    }\n",
       "\n",
       "    .dataframe thead th {\n",
       "        text-align: right;\n",
       "    }\n",
       "</style>\n",
       "<table border=\"1\" class=\"dataframe\">\n",
       "  <thead>\n",
       "    <tr style=\"text-align: right;\">\n",
       "      <th></th>\n",
       "      <th>NU_NOTA_MT</th>\n",
       "      <th>Q001</th>\n",
       "      <th>Q002</th>\n",
       "      <th>Q003</th>\n",
       "      <th>Q004</th>\n",
       "      <th>Q005</th>\n",
       "      <th>Q006</th>\n",
       "      <th>Q007</th>\n",
       "      <th>Q008</th>\n",
       "      <th>Q009</th>\n",
       "      <th>Q010</th>\n",
       "      <th>Q011</th>\n",
       "      <th>Q012</th>\n",
       "      <th>Q013</th>\n",
       "      <th>Q014</th>\n",
       "      <th>Q015</th>\n",
       "      <th>Q016</th>\n",
       "      <th>Q017</th>\n",
       "      <th>Q018</th>\n",
       "      <th>Q019</th>\n",
       "      <th>Q020</th>\n",
       "      <th>Q021</th>\n",
       "      <th>Q022</th>\n",
       "      <th>Q023</th>\n",
       "      <th>Q024</th>\n",
       "      <th>Q025</th>\n",
       "      <th>Q026</th>\n",
       "      <th>Q027</th>\n",
       "    </tr>\n",
       "  </thead>\n",
       "  <tbody>\n",
       "    <tr>\n",
       "      <th>0</th>\n",
       "      <td>2</td>\n",
       "      <td>2</td>\n",
       "      <td>1</td>\n",
       "      <td>2</td>\n",
       "      <td>1</td>\n",
       "      <td>1</td>\n",
       "      <td>2</td>\n",
       "      <td>0</td>\n",
       "      <td>1</td>\n",
       "      <td>1</td>\n",
       "      <td>1</td>\n",
       "      <td>0</td>\n",
       "      <td>1</td>\n",
       "      <td>0</td>\n",
       "      <td>1</td>\n",
       "      <td>0</td>\n",
       "      <td>0</td>\n",
       "      <td>0</td>\n",
       "      <td>0</td>\n",
       "      <td>0</td>\n",
       "      <td>0</td>\n",
       "      <td>0</td>\n",
       "      <td>2</td>\n",
       "      <td>0</td>\n",
       "      <td>1</td>\n",
       "      <td>1</td>\n",
       "      <td>1</td>\n",
       "      <td>0</td>\n",
       "    </tr>\n",
       "    <tr>\n",
       "      <th>1</th>\n",
       "      <td>1</td>\n",
       "      <td>4</td>\n",
       "      <td>4</td>\n",
       "      <td>0</td>\n",
       "      <td>0</td>\n",
       "      <td>4</td>\n",
       "      <td>1</td>\n",
       "      <td>0</td>\n",
       "      <td>1</td>\n",
       "      <td>2</td>\n",
       "      <td>0</td>\n",
       "      <td>1</td>\n",
       "      <td>1</td>\n",
       "      <td>0</td>\n",
       "      <td>0</td>\n",
       "      <td>0</td>\n",
       "      <td>0</td>\n",
       "      <td>0</td>\n",
       "      <td>0</td>\n",
       "      <td>1</td>\n",
       "      <td>1</td>\n",
       "      <td>0</td>\n",
       "      <td>1</td>\n",
       "      <td>0</td>\n",
       "      <td>1</td>\n",
       "      <td>1</td>\n",
       "      <td>1</td>\n",
       "      <td>0</td>\n",
       "    </tr>\n",
       "    <tr>\n",
       "      <th>2</th>\n",
       "      <td>0</td>\n",
       "      <td>5</td>\n",
       "      <td>5</td>\n",
       "      <td>3</td>\n",
       "      <td>3</td>\n",
       "      <td>0</td>\n",
       "      <td>6</td>\n",
       "      <td>0</td>\n",
       "      <td>1</td>\n",
       "      <td>1</td>\n",
       "      <td>0</td>\n",
       "      <td>0</td>\n",
       "      <td>1</td>\n",
       "      <td>0</td>\n",
       "      <td>1</td>\n",
       "      <td>0</td>\n",
       "      <td>1</td>\n",
       "      <td>0</td>\n",
       "      <td>1</td>\n",
       "      <td>1</td>\n",
       "      <td>1</td>\n",
       "      <td>1</td>\n",
       "      <td>1</td>\n",
       "      <td>1</td>\n",
       "      <td>1</td>\n",
       "      <td>1</td>\n",
       "      <td>0</td>\n",
       "      <td>0</td>\n",
       "    </tr>\n",
       "    <tr>\n",
       "      <th>3</th>\n",
       "      <td>0</td>\n",
       "      <td>4</td>\n",
       "      <td>4</td>\n",
       "      <td>5</td>\n",
       "      <td>1</td>\n",
       "      <td>2</td>\n",
       "      <td>3</td>\n",
       "      <td>0</td>\n",
       "      <td>1</td>\n",
       "      <td>3</td>\n",
       "      <td>1</td>\n",
       "      <td>0</td>\n",
       "      <td>1</td>\n",
       "      <td>1</td>\n",
       "      <td>1</td>\n",
       "      <td>1</td>\n",
       "      <td>1</td>\n",
       "      <td>0</td>\n",
       "      <td>0</td>\n",
       "      <td>1</td>\n",
       "      <td>1</td>\n",
       "      <td>0</td>\n",
       "      <td>2</td>\n",
       "      <td>0</td>\n",
       "      <td>1</td>\n",
       "      <td>1</td>\n",
       "      <td>1</td>\n",
       "      <td>0</td>\n",
       "    </tr>\n",
       "    <tr>\n",
       "      <th>4</th>\n",
       "      <td>1</td>\n",
       "      <td>0</td>\n",
       "      <td>4</td>\n",
       "      <td>1</td>\n",
       "      <td>1</td>\n",
       "      <td>4</td>\n",
       "      <td>0</td>\n",
       "      <td>0</td>\n",
       "      <td>1</td>\n",
       "      <td>2</td>\n",
       "      <td>0</td>\n",
       "      <td>0</td>\n",
       "      <td>1</td>\n",
       "      <td>0</td>\n",
       "      <td>0</td>\n",
       "      <td>0</td>\n",
       "      <td>1</td>\n",
       "      <td>0</td>\n",
       "      <td>0</td>\n",
       "      <td>1</td>\n",
       "      <td>1</td>\n",
       "      <td>0</td>\n",
       "      <td>3</td>\n",
       "      <td>0</td>\n",
       "      <td>0</td>\n",
       "      <td>0</td>\n",
       "      <td>0</td>\n",
       "      <td>0</td>\n",
       "    </tr>\n",
       "  </tbody>\n",
       "</table>\n",
       "</div>"
      ],
      "text/plain": [
       "   NU_NOTA_MT  Q001  Q002  Q003  Q004  Q005  Q006  Q007  Q008  Q009  Q010  \\\n",
       "0           2     2     1     2     1     1     2     0     1     1     1   \n",
       "1           1     4     4     0     0     4     1     0     1     2     0   \n",
       "2           0     5     5     3     3     0     6     0     1     1     0   \n",
       "3           0     4     4     5     1     2     3     0     1     3     1   \n",
       "4           1     0     4     1     1     4     0     0     1     2     0   \n",
       "\n",
       "   Q011  Q012  Q013  Q014  Q015  Q016  Q017  Q018  Q019  Q020  Q021  Q022  \\\n",
       "0     0     1     0     1     0     0     0     0     0     0     0     2   \n",
       "1     1     1     0     0     0     0     0     0     1     1     0     1   \n",
       "2     0     1     0     1     0     1     0     1     1     1     1     1   \n",
       "3     0     1     1     1     1     1     0     0     1     1     0     2   \n",
       "4     0     1     0     0     0     1     0     0     1     1     0     3   \n",
       "\n",
       "   Q023  Q024  Q025  Q026  Q027  \n",
       "0     0     1     1     1     0  \n",
       "1     0     1     1     1     0  \n",
       "2     1     1     1     0     0  \n",
       "3     0     1     1     1     0  \n",
       "4     0     0     0     0     0  "
      ]
     },
     "execution_count": 13,
     "metadata": {},
     "output_type": "execute_result"
    }
   ],
   "source": [
    "sample_subset.head()"
   ]
  },
  {
   "cell_type": "code",
   "execution_count": 14,
   "metadata": {},
   "outputs": [],
   "source": [
    "est = HillClimbSearch(sample_subset,\n",
    "                      scoring_method=BicScore(sample_subset))"
   ]
  },
  {
   "cell_type": "code",
   "execution_count": null,
   "metadata": {},
   "outputs": [],
   "source": [
    "%%time\n",
    "best_model = est.estimate()"
   ]
  },
  {
   "cell_type": "code",
   "execution_count": 17,
   "metadata": {},
   "outputs": [
    {
     "data": {
      "text/plain": [
       "28"
      ]
     },
     "execution_count": 17,
     "metadata": {},
     "output_type": "execute_result"
    }
   ],
   "source": [
    "len(sorted(best_model.nodes()))"
   ]
  },
  {
   "cell_type": "markdown",
   "metadata": {},
   "source": [
    "First Model"
   ]
  },
  {
   "cell_type": "code",
   "execution_count": 18,
   "metadata": {},
   "outputs": [
    {
     "data": {
      "image/png": "[encoded data removed]",
      "text/plain": [
       "<Figure size 432x288 with 1 Axes>"
      ]
     },
     "metadata": {},
     "output_type": "display_data"
    }
   ],
   "source": [
    "nx.draw(best_model, with_labels=True, pos=graphviz_layout(best_model))\n",
    "plt.show();"
   ]
  },
  {
   "cell_type": "markdown",
   "metadata": {},
   "source": [
    "Most Recent Model"
   ]
  },
  {
   "cell_type": "code",
   "execution_count": 18,
   "metadata": {},
   "outputs": [
    {
     "data": {
      "image/png": "[encoded data removed]",
      "text/plain": [
       "<Figure size 432x288 with 1 Axes>"
      ]
     },
     "metadata": {},
     "output_type": "display_data"
    }
   ],
   "source": [
    "nx.draw(best_model, with_labels=True, pos=graphviz_layout(best_model))\n",
    "plt.show();"
   ]
  },
  {
   "cell_type": "markdown",
   "metadata": {},
   "source": [
    "### Interesting relationships\n",
    "\n",
    "Na sua residência tem TV por assinatura? (21) -> Na sua residência tem aparelho de DVD?(20) -> Na sua residência tem acesso à Internet? (25)\n",
    "\n",
    "Na sua residência tem aparelho de DVD?(20) -> Na sua residência tem telefone fixo? (23) -> Na sua residência tem telefone celular? (22)\n",
    "\n",
    "Na sua residência tem aparelho de DVD?(20) -> NU_NOTA_MT "
   ]
  },
  {
   "cell_type": "markdown",
   "metadata": {},
   "source": [
    "# Parameter Learning\n",
    "\n",
    "Using Bayesian Estimator\n",
    "\n",
    "First, the structure has not parameterization at all"
   ]
  },
  {
   "cell_type": "code",
   "execution_count": 53,
   "metadata": {},
   "outputs": [],
   "source": [
    "for cpd in best_model.get_cpds():\n",
    "    print(cpd)"
   ]
  },
  {
   "cell_type": "code",
   "execution_count": 75,
   "metadata": {},
   "outputs": [
    {
     "data": {
      "text/html": [
       "<div>\n",
       "<style scoped>\n",
       "    .dataframe tbody tr th:only-of-type {\n",
       "        vertical-align: middle;\n",
       "    }\n",
       "\n",
       "    .dataframe tbody tr th {\n",
       "        vertical-align: top;\n",
       "    }\n",
       "\n",
       "    .dataframe thead th {\n",
       "        text-align: right;\n",
       "    }\n",
       "</style>\n",
       "<table border=\"1\" class=\"dataframe\">\n",
       "  <thead>\n",
       "    <tr style=\"text-align: right;\">\n",
       "      <th></th>\n",
       "      <th>NU_NOTA_MT</th>\n",
       "      <th>Q001</th>\n",
       "      <th>Q002</th>\n",
       "      <th>Q003</th>\n",
       "      <th>Q004</th>\n",
       "      <th>Q005</th>\n",
       "      <th>Q006</th>\n",
       "      <th>Q007</th>\n",
       "      <th>Q008</th>\n",
       "      <th>Q009</th>\n",
       "      <th>Q010</th>\n",
       "      <th>Q011</th>\n",
       "      <th>Q012</th>\n",
       "      <th>Q013</th>\n",
       "      <th>Q014</th>\n",
       "      <th>Q015</th>\n",
       "      <th>Q016</th>\n",
       "      <th>Q017</th>\n",
       "      <th>Q018</th>\n",
       "      <th>Q019</th>\n",
       "      <th>Q020</th>\n",
       "      <th>Q021</th>\n",
       "      <th>Q022</th>\n",
       "      <th>Q023</th>\n",
       "      <th>Q024</th>\n",
       "      <th>Q025</th>\n",
       "      <th>Q026</th>\n",
       "      <th>Q027</th>\n",
       "    </tr>\n",
       "  </thead>\n",
       "  <tbody>\n",
       "    <tr>\n",
       "      <th>0</th>\n",
       "      <td>media</td>\n",
       "      <td>B</td>\n",
       "      <td>D</td>\n",
       "      <td>B</td>\n",
       "      <td>B</td>\n",
       "      <td>3.0</td>\n",
       "      <td>F</td>\n",
       "      <td>A</td>\n",
       "      <td>B</td>\n",
       "      <td>B</td>\n",
       "      <td>A</td>\n",
       "      <td>A</td>\n",
       "      <td>B</td>\n",
       "      <td>A</td>\n",
       "      <td>B</td>\n",
       "      <td>A</td>\n",
       "      <td>B</td>\n",
       "      <td>A</td>\n",
       "      <td>B</td>\n",
       "      <td>C</td>\n",
       "      <td>B</td>\n",
       "      <td>A</td>\n",
       "      <td>C</td>\n",
       "      <td>B</td>\n",
       "      <td>C</td>\n",
       "      <td>B</td>\n",
       "      <td>A</td>\n",
       "      <td>A</td>\n",
       "    </tr>\n",
       "    <tr>\n",
       "      <th>1</th>\n",
       "      <td>alta</td>\n",
       "      <td>C</td>\n",
       "      <td>D</td>\n",
       "      <td>C</td>\n",
       "      <td>B</td>\n",
       "      <td>2.0</td>\n",
       "      <td>H</td>\n",
       "      <td>A</td>\n",
       "      <td>C</td>\n",
       "      <td>D</td>\n",
       "      <td>A</td>\n",
       "      <td>B</td>\n",
       "      <td>B</td>\n",
       "      <td>B</td>\n",
       "      <td>A</td>\n",
       "      <td>A</td>\n",
       "      <td>B</td>\n",
       "      <td>A</td>\n",
       "      <td>A</td>\n",
       "      <td>C</td>\n",
       "      <td>A</td>\n",
       "      <td>A</td>\n",
       "      <td>C</td>\n",
       "      <td>A</td>\n",
       "      <td>B</td>\n",
       "      <td>B</td>\n",
       "      <td>A</td>\n",
       "      <td>A</td>\n",
       "    </tr>\n",
       "    <tr>\n",
       "      <th>2</th>\n",
       "      <td>media</td>\n",
       "      <td>F</td>\n",
       "      <td>G</td>\n",
       "      <td>E</td>\n",
       "      <td>E</td>\n",
       "      <td>2.0</td>\n",
       "      <td>O</td>\n",
       "      <td>A</td>\n",
       "      <td>C</td>\n",
       "      <td>C</td>\n",
       "      <td>B</td>\n",
       "      <td>A</td>\n",
       "      <td>B</td>\n",
       "      <td>A</td>\n",
       "      <td>B</td>\n",
       "      <td>A</td>\n",
       "      <td>B</td>\n",
       "      <td>A</td>\n",
       "      <td>A</td>\n",
       "      <td>D</td>\n",
       "      <td>B</td>\n",
       "      <td>B</td>\n",
       "      <td>C</td>\n",
       "      <td>B</td>\n",
       "      <td>C</td>\n",
       "      <td>B</td>\n",
       "      <td>C</td>\n",
       "      <td>D</td>\n",
       "    </tr>\n",
       "    <tr>\n",
       "      <th>3</th>\n",
       "      <td>alta</td>\n",
       "      <td>B</td>\n",
       "      <td>B</td>\n",
       "      <td>A</td>\n",
       "      <td>A</td>\n",
       "      <td>5.0</td>\n",
       "      <td>B</td>\n",
       "      <td>A</td>\n",
       "      <td>B</td>\n",
       "      <td>D</td>\n",
       "      <td>A</td>\n",
       "      <td>B</td>\n",
       "      <td>B</td>\n",
       "      <td>A</td>\n",
       "      <td>A</td>\n",
       "      <td>A</td>\n",
       "      <td>B</td>\n",
       "      <td>A</td>\n",
       "      <td>A</td>\n",
       "      <td>C</td>\n",
       "      <td>B</td>\n",
       "      <td>A</td>\n",
       "      <td>D</td>\n",
       "      <td>A</td>\n",
       "      <td>B</td>\n",
       "      <td>B</td>\n",
       "      <td>A</td>\n",
       "      <td>A</td>\n",
       "    </tr>\n",
       "    <tr>\n",
       "      <th>4</th>\n",
       "      <td>media</td>\n",
       "      <td>C</td>\n",
       "      <td>E</td>\n",
       "      <td>A</td>\n",
       "      <td>B</td>\n",
       "      <td>3.0</td>\n",
       "      <td>B</td>\n",
       "      <td>A</td>\n",
       "      <td>B</td>\n",
       "      <td>D</td>\n",
       "      <td>A</td>\n",
       "      <td>B</td>\n",
       "      <td>B</td>\n",
       "      <td>A</td>\n",
       "      <td>B</td>\n",
       "      <td>A</td>\n",
       "      <td>A</td>\n",
       "      <td>A</td>\n",
       "      <td>A</td>\n",
       "      <td>B</td>\n",
       "      <td>A</td>\n",
       "      <td>A</td>\n",
       "      <td>B</td>\n",
       "      <td>A</td>\n",
       "      <td>B</td>\n",
       "      <td>B</td>\n",
       "      <td>B</td>\n",
       "      <td>A</td>\n",
       "    </tr>\n",
       "  </tbody>\n",
       "</table>\n",
       "</div>"
      ],
      "text/plain": [
       "  NU_NOTA_MT Q001 Q002 Q003 Q004  Q005 Q006 Q007 Q008 Q009 Q010 Q011 Q012  \\\n",
       "0      media    B    D    B    B   3.0    F    A    B    B    A    A    B   \n",
       "1       alta    C    D    C    B   2.0    H    A    C    D    A    B    B   \n",
       "2      media    F    G    E    E   2.0    O    A    C    C    B    A    B   \n",
       "3       alta    B    B    A    A   5.0    B    A    B    D    A    B    B   \n",
       "4      media    C    E    A    B   3.0    B    A    B    D    A    B    B   \n",
       "\n",
       "  Q013 Q014 Q015 Q016 Q017 Q018 Q019 Q020 Q021 Q022 Q023 Q024 Q025 Q026 Q027  \n",
       "0    A    B    A    B    A    B    C    B    A    C    B    C    B    A    A  \n",
       "1    B    A    A    B    A    A    C    A    A    C    A    B    B    A    A  \n",
       "2    A    B    A    B    A    A    D    B    B    C    B    C    B    C    D  \n",
       "3    A    A    A    B    A    A    C    B    A    D    A    B    B    A    A  \n",
       "4    A    B    A    A    A    A    B    A    A    B    A    B    B    B    A  "
      ]
     },
     "execution_count": 75,
     "metadata": {},
     "output_type": "execute_result"
    }
   ],
   "source": []
  },
  {
   "cell_type": "code",
   "execution_count": 96,
   "metadata": {},
   "outputs": [],
   "source": [
    "from pgmpy.estimators import BayesianEstimator\n",
    "est = BayesianEstimator(best_model, sample_subset)"
   ]
  },
  {
   "cell_type": "code",
   "execution_count": 103,
   "metadata": {},
   "outputs": [
    {
     "name": "stdout",
     "output_type": "stream",
     "text": [
      "╒═══════════════╤═════════╤═════════╕\n",
      "│ Q020          │ Q020(0) │ Q020(1) │\n",
      "├───────────────┼─────────┼─────────┤\n",
      "│ NU_NOTA_MT(0) │ 0.2     │ 0.2     │\n",
      "├───────────────┼─────────┼─────────┤\n",
      "│ NU_NOTA_MT(1) │ 0.2     │ 0.2     │\n",
      "├───────────────┼─────────┼─────────┤\n",
      "│ NU_NOTA_MT(2) │ 0.2     │ 0.2     │\n",
      "├───────────────┼─────────┼─────────┤\n",
      "│ NU_NOTA_MT(3) │ 0.2     │ 0.2     │\n",
      "├───────────────┼─────────┼─────────┤\n",
      "│ NU_NOTA_MT(4) │ 0.2     │ 0.2     │\n",
      "╘═══════════════╧═════════╧═════════╛\n"
     ]
    }
   ],
   "source": [
    "print(est.estimate_cpd('NU_NOTA_MT', prior_type='BDeu', equivalent_sample_size=1000))"
   ]
  },
  {
   "cell_type": "code",
   "execution_count": 121,
   "metadata": {
    "collapsed": true
   },
   "outputs": [
    {
     "name": "stderr",
     "output_type": "stream",
     "text": [
      "WARNING:root:Replacing existing CPD for NU_NOTA_MT\n",
      "WARNING:root:Replacing existing CPD for Q001\n",
      "WARNING:root:Replacing existing CPD for Q002\n",
      "WARNING:root:Replacing existing CPD for Q003\n",
      "WARNING:root:Replacing existing CPD for Q004\n",
      "WARNING:root:Replacing existing CPD for Q005\n",
      "WARNING:root:Replacing existing CPD for Q006\n",
      "WARNING:root:Replacing existing CPD for Q007\n",
      "WARNING:root:Replacing existing CPD for Q008\n",
      "WARNING:root:Replacing existing CPD for Q009\n",
      "WARNING:root:Replacing existing CPD for Q010\n",
      "WARNING:root:Replacing existing CPD for Q011\n",
      "WARNING:root:Replacing existing CPD for Q012\n",
      "WARNING:root:Replacing existing CPD for Q013\n",
      "WARNING:root:Replacing existing CPD for Q014\n",
      "WARNING:root:Replacing existing CPD for Q015\n",
      "WARNING:root:Replacing existing CPD for Q016\n",
      "WARNING:root:Replacing existing CPD for Q017\n",
      "WARNING:root:Replacing existing CPD for Q018\n",
      "WARNING:root:Replacing existing CPD for Q019\n",
      "WARNING:root:Replacing existing CPD for Q020\n",
      "WARNING:root:Replacing existing CPD for Q021\n",
      "WARNING:root:Replacing existing CPD for Q022\n",
      "WARNING:root:Replacing existing CPD for Q023\n",
      "WARNING:root:Replacing existing CPD for Q024\n",
      "WARNING:root:Replacing existing CPD for Q025\n",
      "WARNING:root:Replacing existing CPD for Q026\n",
      "WARNING:root:Replacing existing CPD for Q027\n"
     ]
    },
    {
     "name": "stdout",
     "output_type": "stream",
     "text": [
      "CPU times: user 3min 12s, sys: 9.7 s, total: 3min 22s\n",
      "Wall time: 26 s\n"
     ]
    }
   ],
   "source": [
    "%%time\n",
    "best_model.fit(pandas_df[columns], estimator=BayesianEstimator, prior_type=\"K2\")"
   ]
  },
  {
   "cell_type": "code",
   "execution_count": 122,
   "metadata": {},
   "outputs": [
    {
     "name": "stdout",
     "output_type": "stream",
     "text": [
      "╒═════════════════════════╤═════════╤═════════╕\n",
      "│ Q020                    │ Q020(A) │ Q020(B) │\n",
      "├─────────────────────────┼─────────┼─────────┤\n",
      "│ NU_NOTA_MT(alta)        │ 0.2     │ 0.2     │\n",
      "├─────────────────────────┼─────────┼─────────┤\n",
      "│ NU_NOTA_MT(baixa)       │ 0.2     │ 0.2     │\n",
      "├─────────────────────────┼─────────┼─────────┤\n",
      "│ NU_NOTA_MT(media)       │ 0.2     │ 0.2     │\n",
      "├─────────────────────────┼─────────┼─────────┤\n",
      "│ NU_NOTA_MT(muito alta)  │ 0.2     │ 0.2     │\n",
      "├─────────────────────────┼─────────┼─────────┤\n",
      "│ NU_NOTA_MT(muito baixa) │ 0.2     │ 0.2     │\n",
      "╘═════════════════════════╧═════════╧═════════╛\n",
      "╒═════════╤═════════╤═════════╕\n",
      "│ Q018    │ Q018(A) │ Q018(B) │\n",
      "├─────────┼─────────┼─────────┤\n",
      "│ Q001(A) │ 0.125   │ 0.125   │\n",
      "├─────────┼─────────┼─────────┤\n",
      "│ Q001(B) │ 0.125   │ 0.125   │\n",
      "├─────────┼─────────┼─────────┤\n",
      "│ Q001(C) │ 0.125   │ 0.125   │\n",
      "├─────────┼─────────┼─────────┤\n",
      "│ Q001(D) │ 0.125   │ 0.125   │\n",
      "├─────────┼─────────┼─────────┤\n",
      "│ Q001(E) │ 0.125   │ 0.125   │\n",
      "├─────────┼─────────┼─────────┤\n",
      "│ Q001(F) │ 0.125   │ 0.125   │\n",
      "├─────────┼─────────┼─────────┤\n",
      "│ Q001(G) │ 0.125   │ 0.125   │\n",
      "├─────────┼─────────┼─────────┤\n",
      "│ Q001(H) │ 0.125   │ 0.125   │\n",
      "╘═════════╧═════════╧═════════╛\n",
      "╒═════════╤═════════╤═════════╕\n",
      "│ Q021    │ Q021(A) │ Q021(B) │\n",
      "├─────────┼─────────┼─────────┤\n",
      "│ Q002(A) │ 0.125   │ 0.125   │\n",
      "├─────────┼─────────┼─────────┤\n",
      "│ Q002(B) │ 0.125   │ 0.125   │\n",
      "├─────────┼─────────┼─────────┤\n",
      "│ Q002(C) │ 0.125   │ 0.125   │\n",
      "├─────────┼─────────┼─────────┤\n",
      "│ Q002(D) │ 0.125   │ 0.125   │\n",
      "├─────────┼─────────┼─────────┤\n",
      "│ Q002(E) │ 0.125   │ 0.125   │\n",
      "├─────────┼─────────┼─────────┤\n",
      "│ Q002(F) │ 0.125   │ 0.125   │\n",
      "├─────────┼─────────┼─────────┤\n",
      "│ Q002(G) │ 0.125   │ 0.125   │\n",
      "├─────────┼─────────┼─────────┤\n",
      "│ Q002(H) │ 0.125   │ 0.125   │\n",
      "╘═════════╧═════════╧═════════╛\n",
      "╒═════════╤═════════════════════╤═════════════════════╕\n",
      "│ Q025    │ Q025(A)             │ Q025(B)             │\n",
      "├─────────┼─────────────────────┼─────────────────────┤\n",
      "│ Q003(A) │ 0.16666666666666666 │ 0.16666666666666666 │\n",
      "├─────────┼─────────────────────┼─────────────────────┤\n",
      "│ Q003(B) │ 0.16666666666666666 │ 0.16666666666666666 │\n",
      "├─────────┼─────────────────────┼─────────────────────┤\n",
      "│ Q003(C) │ 0.16666666666666666 │ 0.16666666666666666 │\n",
      "├─────────┼─────────────────────┼─────────────────────┤\n",
      "│ Q003(D) │ 0.16666666666666666 │ 0.16666666666666666 │\n",
      "├─────────┼─────────────────────┼─────────────────────┤\n",
      "│ Q003(E) │ 0.16666666666666666 │ 0.16666666666666666 │\n",
      "├─────────┼─────────────────────┼─────────────────────┤\n",
      "│ Q003(F) │ 0.16666666666666666 │ 0.16666666666666666 │\n",
      "╘═════════╧═════════════════════╧═════════════════════╛\n",
      "╒═════════╤═════════════════════╤═════════════════════╕\n",
      "│ Q025    │ Q025(A)             │ Q025(B)             │\n",
      "├─────────┼─────────────────────┼─────────────────────┤\n",
      "│ Q004(A) │ 0.16666666666666666 │ 0.16666666666666666 │\n",
      "├─────────┼─────────────────────┼─────────────────────┤\n",
      "│ Q004(B) │ 0.16666666666666666 │ 0.16666666666666666 │\n",
      "├─────────┼─────────────────────┼─────────────────────┤\n",
      "│ Q004(C) │ 0.16666666666666666 │ 0.16666666666666666 │\n",
      "├─────────┼─────────────────────┼─────────────────────┤\n",
      "│ Q004(D) │ 0.16666666666666666 │ 0.16666666666666666 │\n",
      "├─────────┼─────────────────────┼─────────────────────┤\n",
      "│ Q004(E) │ 0.16666666666666666 │ 0.16666666666666666 │\n",
      "├─────────┼─────────────────────┼─────────────────────┤\n",
      "│ Q004(F) │ 0.16666666666666666 │ 0.16666666666666666 │\n",
      "╘═════════╧═════════════════════╧═════════════════════╛\n",
      "╒════════════╤═════════╤═════════╕\n",
      "│ Q021       │ Q021(A) │ Q021(B) │\n",
      "├────────────┼─────────┼─────────┤\n",
      "│ Q005(1.0)  │ 0.05    │ 0.05    │\n",
      "├────────────┼─────────┼─────────┤\n",
      "│ Q005(2.0)  │ 0.05    │ 0.05    │\n",
      "├────────────┼─────────┼─────────┤\n",
      "│ Q005(3.0)  │ 0.05    │ 0.05    │\n",
      "├────────────┼─────────┼─────────┤\n",
      "│ Q005(4.0)  │ 0.05    │ 0.05    │\n",
      "├────────────┼─────────┼─────────┤\n",
      "│ Q005(5.0)  │ 0.05    │ 0.05    │\n",
      "├────────────┼─────────┼─────────┤\n",
      "│ Q005(6.0)  │ 0.05    │ 0.05    │\n",
      "├────────────┼─────────┼─────────┤\n",
      "│ Q005(7.0)  │ 0.05    │ 0.05    │\n",
      "├────────────┼─────────┼─────────┤\n",
      "│ Q005(8.0)  │ 0.05    │ 0.05    │\n",
      "├────────────┼─────────┼─────────┤\n",
      "│ Q005(9.0)  │ 0.05    │ 0.05    │\n",
      "├────────────┼─────────┼─────────┤\n",
      "│ Q005(10.0) │ 0.05    │ 0.05    │\n",
      "├────────────┼─────────┼─────────┤\n",
      "│ Q005(11.0) │ 0.05    │ 0.05    │\n",
      "├────────────┼─────────┼─────────┤\n",
      "│ Q005(12.0) │ 0.05    │ 0.05    │\n",
      "├────────────┼─────────┼─────────┤\n",
      "│ Q005(13.0) │ 0.05    │ 0.05    │\n",
      "├────────────┼─────────┼─────────┤\n",
      "│ Q005(14.0) │ 0.05    │ 0.05    │\n",
      "├────────────┼─────────┼─────────┤\n",
      "│ Q005(15.0) │ 0.05    │ 0.05    │\n",
      "├────────────┼─────────┼─────────┤\n",
      "│ Q005(16.0) │ 0.05    │ 0.05    │\n",
      "├────────────┼─────────┼─────────┤\n",
      "│ Q005(17.0) │ 0.05    │ 0.05    │\n",
      "├────────────┼─────────┼─────────┤\n",
      "│ Q005(18.0) │ 0.05    │ 0.05    │\n",
      "├────────────┼─────────┼─────────┤\n",
      "│ Q005(19.0) │ 0.05    │ 0.05    │\n",
      "├────────────┼─────────┼─────────┤\n",
      "│ Q005(20.0) │ 0.05    │ 0.05    │\n",
      "╘════════════╧═════════╧═════════╛\n",
      "╒═════════╤══════════════════════╤══════════════════════╕\n",
      "│ Q025    │ Q025(A)              │ Q025(B)              │\n",
      "├─────────┼──────────────────────┼──────────────────────┤\n",
      "│ Q006(A) │ 0.058823529411764705 │ 0.058823529411764705 │\n",
      "├─────────┼──────────────────────┼──────────────────────┤\n",
      "│ Q006(B) │ 0.058823529411764705 │ 0.058823529411764705 │\n",
      "├─────────┼──────────────────────┼──────────────────────┤\n",
      "│ Q006(C) │ 0.058823529411764705 │ 0.058823529411764705 │\n",
      "├─────────┼──────────────────────┼──────────────────────┤\n",
      "│ Q006(D) │ 0.058823529411764705 │ 0.058823529411764705 │\n",
      "├─────────┼──────────────────────┼──────────────────────┤\n",
      "│ Q006(E) │ 0.058823529411764705 │ 0.058823529411764705 │\n",
      "├─────────┼──────────────────────┼──────────────────────┤\n",
      "│ Q006(F) │ 0.058823529411764705 │ 0.058823529411764705 │\n",
      "├─────────┼──────────────────────┼──────────────────────┤\n",
      "│ Q006(G) │ 0.058823529411764705 │ 0.058823529411764705 │\n",
      "├─────────┼──────────────────────┼──────────────────────┤\n",
      "│ Q006(H) │ 0.058823529411764705 │ 0.058823529411764705 │\n",
      "├─────────┼──────────────────────┼──────────────────────┤\n",
      "│ Q006(I) │ 0.058823529411764705 │ 0.058823529411764705 │\n",
      "├─────────┼──────────────────────┼──────────────────────┤\n",
      "│ Q006(J) │ 0.058823529411764705 │ 0.058823529411764705 │\n",
      "├─────────┼──────────────────────┼──────────────────────┤\n",
      "│ Q006(K) │ 0.058823529411764705 │ 0.058823529411764705 │\n",
      "├─────────┼──────────────────────┼──────────────────────┤\n",
      "│ Q006(L) │ 0.058823529411764705 │ 0.058823529411764705 │\n",
      "├─────────┼──────────────────────┼──────────────────────┤\n",
      "│ Q006(M) │ 0.058823529411764705 │ 0.058823529411764705 │\n",
      "├─────────┼──────────────────────┼──────────────────────┤\n",
      "│ Q006(N) │ 0.058823529411764705 │ 0.058823529411764705 │\n",
      "├─────────┼──────────────────────┼──────────────────────┤\n",
      "│ Q006(O) │ 0.058823529411764705 │ 0.058823529411764705 │\n",
      "├─────────┼──────────────────────┼──────────────────────┤\n",
      "│ Q006(P) │ 0.058823529411764705 │ 0.058823529411764705 │\n",
      "├─────────┼──────────────────────┼──────────────────────┤\n",
      "│ Q006(Q) │ 0.058823529411764705 │ 0.058823529411764705 │\n",
      "╘═════════╧══════════════════════╧══════════════════════╛\n",
      "╒═════════╤═════════╤═════════╤═════════╤═════════╤═════════╕\n",
      "│ Q012    │ Q012(A) │ Q012(B) │ Q012(C) │ Q012(D) │ Q012(E) │\n",
      "├─────────┼─────────┼─────────┼─────────┼─────────┼─────────┤\n",
      "│ Q007(A) │ 0.25    │ 0.25    │ 0.25    │ 0.25    │ 0.25    │\n",
      "├─────────┼─────────┼─────────┼─────────┼─────────┼─────────┤\n",
      "│ Q007(B) │ 0.25    │ 0.25    │ 0.25    │ 0.25    │ 0.25    │\n",
      "├─────────┼─────────┼─────────┼─────────┼─────────┼─────────┤\n",
      "│ Q007(C) │ 0.25    │ 0.25    │ 0.25    │ 0.25    │ 0.25    │\n",
      "├─────────┼─────────┼─────────┼─────────┼─────────┼─────────┤\n",
      "│ Q007(D) │ 0.25    │ 0.25    │ 0.25    │ 0.25    │ 0.25    │\n",
      "╘═════════╧═════════╧═════════╧═════════╧═════════╧═════════╛\n",
      "╒═════════╤═════════╤═════════╕\n",
      "│ Q021    │ Q021(A) │ Q021(B) │\n",
      "├─────────┼─────────┼─────────┤\n",
      "│ Q008(A) │ 0.2     │ 0.2     │\n",
      "├─────────┼─────────┼─────────┤\n",
      "│ Q008(B) │ 0.2     │ 0.2     │\n",
      "├─────────┼─────────┼─────────┤\n",
      "│ Q008(C) │ 0.2     │ 0.2     │\n",
      "├─────────┼─────────┼─────────┤\n",
      "│ Q008(D) │ 0.2     │ 0.2     │\n",
      "├─────────┼─────────┼─────────┤\n",
      "│ Q008(E) │ 0.2     │ 0.2     │\n",
      "╘═════════╧═════════╧═════════╛\n",
      "╒═════════╤═════════╤═════════╕\n",
      "│ Q025    │ Q025(A) │ Q025(B) │\n",
      "├─────────┼─────────┼─────────┤\n",
      "│ Q009(A) │ 0.2     │ 0.2     │\n",
      "├─────────┼─────────┼─────────┤\n",
      "│ Q009(B) │ 0.2     │ 0.2     │\n",
      "├─────────┼─────────┼─────────┤\n",
      "│ Q009(C) │ 0.2     │ 0.2     │\n",
      "├─────────┼─────────┼─────────┤\n",
      "│ Q009(D) │ 0.2     │ 0.2     │\n",
      "├─────────┼─────────┼─────────┤\n",
      "│ Q009(E) │ 0.2     │ 0.2     │\n",
      "╘═════════╧═════════╧═════════╛\n",
      "╒═════════╤═════════╤═════════╕\n",
      "│ Q025    │ Q025(A) │ Q025(B) │\n",
      "├─────────┼─────────┼─────────┤\n",
      "│ Q010(A) │ 0.2     │ 0.2     │\n",
      "├─────────┼─────────┼─────────┤\n",
      "│ Q010(B) │ 0.2     │ 0.2     │\n",
      "├─────────┼─────────┼─────────┤\n",
      "│ Q010(C) │ 0.2     │ 0.2     │\n",
      "├─────────┼─────────┼─────────┤\n",
      "│ Q010(D) │ 0.2     │ 0.2     │\n",
      "├─────────┼─────────┼─────────┤\n",
      "│ Q010(E) │ 0.2     │ 0.2     │\n",
      "╘═════════╧═════════╧═════════╛\n",
      "╒═════════╤═════════╤═════════╕\n",
      "│ Q021    │ Q021(A) │ Q021(B) │\n",
      "├─────────┼─────────┼─────────┤\n",
      "│ Q011(A) │ 0.2     │ 0.2     │\n",
      "├─────────┼─────────┼─────────┤\n",
      "│ Q011(B) │ 0.2     │ 0.2     │\n",
      "├─────────┼─────────┼─────────┤\n",
      "│ Q011(C) │ 0.2     │ 0.2     │\n",
      "├─────────┼─────────┼─────────┤\n",
      "│ Q011(D) │ 0.2     │ 0.2     │\n",
      "├─────────┼─────────┼─────────┤\n",
      "│ Q011(E) │ 0.2     │ 0.2     │\n",
      "╘═════════╧═════════╧═════════╛\n",
      "╒═════════╤═════════╤═════════╤═════════╤═════════╤═════════╕\n",
      "│ Q017    │ Q017(A) │ Q017(B) │ Q017(C) │ Q017(D) │ Q017(E) │\n",
      "├─────────┼─────────┼─────────┼─────────┼─────────┼─────────┤\n",
      "│ Q012(A) │ 0.2     │ 0.2     │ 0.2     │ 0.2     │ 0.2     │\n",
      "├─────────┼─────────┼─────────┼─────────┼─────────┼─────────┤\n",
      "│ Q012(B) │ 0.2     │ 0.2     │ 0.2     │ 0.2     │ 0.2     │\n",
      "├─────────┼─────────┼─────────┼─────────┼─────────┼─────────┤\n",
      "│ Q012(C) │ 0.2     │ 0.2     │ 0.2     │ 0.2     │ 0.2     │\n",
      "├─────────┼─────────┼─────────┼─────────┼─────────┼─────────┤\n",
      "│ Q012(D) │ 0.2     │ 0.2     │ 0.2     │ 0.2     │ 0.2     │\n",
      "├─────────┼─────────┼─────────┼─────────┼─────────┼─────────┤\n",
      "│ Q012(E) │ 0.2     │ 0.2     │ 0.2     │ 0.2     │ 0.2     │\n",
      "╘═════════╧═════════╧═════════╧═════════╧═════════╧═════════╛\n",
      "╒═════════╤═════════╤═════════╕\n",
      "│ Q018    │ Q018(A) │ Q018(B) │\n",
      "├─────────┼─────────┼─────────┤\n",
      "│ Q013(A) │ 0.2     │ 0.2     │\n",
      "├─────────┼─────────┼─────────┤\n",
      "│ Q013(B) │ 0.2     │ 0.2     │\n",
      "├─────────┼─────────┼─────────┤\n",
      "│ Q013(C) │ 0.2     │ 0.2     │\n",
      "├─────────┼─────────┼─────────┤\n",
      "│ Q013(D) │ 0.2     │ 0.2     │\n",
      "├─────────┼─────────┼─────────┤\n",
      "│ Q013(E) │ 0.2     │ 0.2     │\n",
      "╘═════════╧═════════╧═════════╛\n",
      "╒═════════╤═════════╤═════════╕\n",
      "│ Q023    │ Q023(A) │ Q023(B) │\n",
      "├─────────┼─────────┼─────────┤\n",
      "│ Q014(A) │ 0.2     │ 0.2     │\n",
      "├─────────┼─────────┼─────────┤\n",
      "│ Q014(B) │ 0.2     │ 0.2     │\n",
      "├─────────┼─────────┼─────────┤\n",
      "│ Q014(C) │ 0.2     │ 0.2     │\n",
      "├─────────┼─────────┼─────────┤\n",
      "│ Q014(D) │ 0.2     │ 0.2     │\n",
      "├─────────┼─────────┼─────────┤\n",
      "│ Q014(E) │ 0.2     │ 0.2     │\n",
      "╘═════════╧═════════╧═════════╛\n",
      "╒═════════╤═════════╤═════════╕\n",
      "│ Q021    │ Q021(A) │ Q021(B) │\n",
      "├─────────┼─────────┼─────────┤\n",
      "│ Q015(A) │ 0.2     │ 0.2     │\n",
      "├─────────┼─────────┼─────────┤\n",
      "│ Q015(B) │ 0.2     │ 0.2     │\n",
      "├─────────┼─────────┼─────────┤\n",
      "│ Q015(C) │ 0.2     │ 0.2     │\n",
      "├─────────┼─────────┼─────────┤\n",
      "│ Q015(D) │ 0.2     │ 0.2     │\n",
      "├─────────┼─────────┼─────────┤\n",
      "│ Q015(E) │ 0.2     │ 0.2     │\n",
      "╘═════════╧═════════╧═════════╛\n",
      "╒═════════╤═════════╤═════════╕\n",
      "│ Q020    │ Q020(A) │ Q020(B) │\n",
      "├─────────┼─────────┼─────────┤\n",
      "│ Q016(A) │ 0.2     │ 0.2     │\n",
      "├─────────┼─────────┼─────────┤\n",
      "│ Q016(B) │ 0.2     │ 0.2     │\n",
      "├─────────┼─────────┼─────────┤\n",
      "│ Q016(C) │ 0.2     │ 0.2     │\n",
      "├─────────┼─────────┼─────────┤\n",
      "│ Q016(D) │ 0.2     │ 0.2     │\n",
      "├─────────┼─────────┼─────────┤\n",
      "│ Q016(E) │ 0.2     │ 0.2     │\n",
      "╘═════════╧═════════╧═════════╛\n",
      "╒═════════╤═════════════╕\n",
      "│ Q017(A) │ 0.972831    │\n",
      "├─────────┼─────────────┤\n",
      "│ Q017(B) │ 0.0263034   │\n",
      "├─────────┼─────────────┤\n",
      "│ Q017(C) │ 0.000510527 │\n",
      "├─────────┼─────────────┤\n",
      "│ Q017(D) │ 0.000146833 │\n",
      "├─────────┼─────────────┤\n",
      "│ Q017(E) │ 0.000207825 │\n",
      "╘═════════╧═════════════╛\n",
      "╒═════════╤═════════╤═════════╤═════════╤═════════╕\n",
      "│ Q007    │ Q007(A) │ Q007(B) │ Q007(C) │ Q007(D) │\n",
      "├─────────┼─────────┼─────────┼─────────┼─────────┤\n",
      "│ Q018(A) │ 0.5     │ 0.5     │ 0.5     │ 0.5     │\n",
      "├─────────┼─────────┼─────────┼─────────┼─────────┤\n",
      "│ Q018(B) │ 0.5     │ 0.5     │ 0.5     │ 0.5     │\n",
      "╘═════════╧═════════╧═════════╧═════════╧═════════╛\n",
      "╒═════════╤═════════╤═════════╕\n",
      "│ Q020    │ Q020(A) │ Q020(B) │\n",
      "├─────────┼─────────┼─────────┤\n",
      "│ Q019(A) │ 0.2     │ 0.2     │\n",
      "├─────────┼─────────┼─────────┤\n",
      "│ Q019(B) │ 0.2     │ 0.2     │\n",
      "├─────────┼─────────┼─────────┤\n",
      "│ Q019(C) │ 0.2     │ 0.2     │\n",
      "├─────────┼─────────┼─────────┤\n",
      "│ Q019(D) │ 0.2     │ 0.2     │\n",
      "├─────────┼─────────┼─────────┤\n",
      "│ Q019(E) │ 0.2     │ 0.2     │\n",
      "╘═════════╧═════════╧═════════╛\n",
      "╒═════════╤═════════╤═════════╕\n",
      "│ Q021    │ Q021(A) │ Q021(B) │\n",
      "├─────────┼─────────┼─────────┤\n",
      "│ Q020(A) │ 0.5     │ 0.5     │\n",
      "├─────────┼─────────┼─────────┤\n",
      "│ Q020(B) │ 0.5     │ 0.5     │\n",
      "╘═════════╧═════════╧═════════╛\n",
      "╒═════════╤═════════╤═════════╕\n",
      "│ Q018    │ Q018(A) │ Q018(B) │\n",
      "├─────────┼─────────┼─────────┤\n",
      "│ Q021(A) │ 0.5     │ 0.5     │\n",
      "├─────────┼─────────┼─────────┤\n",
      "│ Q021(B) │ 0.5     │ 0.5     │\n",
      "╘═════════╧═════════╧═════════╛\n",
      "╒═════════╤═════════╤═════════╕\n",
      "│ Q023    │ Q023(A) │ Q023(B) │\n",
      "├─────────┼─────────┼─────────┤\n",
      "│ Q022(A) │ 0.2     │ 0.2     │\n",
      "├─────────┼─────────┼─────────┤\n",
      "│ Q022(B) │ 0.2     │ 0.2     │\n",
      "├─────────┼─────────┼─────────┤\n",
      "│ Q022(C) │ 0.2     │ 0.2     │\n",
      "├─────────┼─────────┼─────────┤\n",
      "│ Q022(D) │ 0.2     │ 0.2     │\n",
      "├─────────┼─────────┼─────────┤\n",
      "│ Q022(E) │ 0.2     │ 0.2     │\n",
      "╘═════════╧═════════╧═════════╛\n",
      "╒═════════╤═════════╤═════════╕\n",
      "│ Q020    │ Q020(A) │ Q020(B) │\n",
      "├─────────┼─────────┼─────────┤\n",
      "│ Q023(A) │ 0.5     │ 0.5     │\n",
      "├─────────┼─────────┼─────────┤\n",
      "│ Q023(B) │ 0.5     │ 0.5     │\n",
      "╘═════════╧═════════╧═════════╛\n",
      "╒═════════╤═════════╤═════════╕\n",
      "│ Q021    │ Q021(A) │ Q021(B) │\n",
      "├─────────┼─────────┼─────────┤\n",
      "│ Q024(A) │ 0.2     │ 0.2     │\n",
      "├─────────┼─────────┼─────────┤\n",
      "│ Q024(B) │ 0.2     │ 0.2     │\n",
      "├─────────┼─────────┼─────────┤\n",
      "│ Q024(C) │ 0.2     │ 0.2     │\n",
      "├─────────┼─────────┼─────────┤\n",
      "│ Q024(D) │ 0.2     │ 0.2     │\n",
      "├─────────┼─────────┼─────────┤\n",
      "│ Q024(E) │ 0.2     │ 0.2     │\n",
      "╘═════════╧═════════╧═════════╛\n",
      "╒═════════╤═════════╤═════════╕\n",
      "│ Q020    │ Q020(A) │ Q020(B) │\n",
      "├─────────┼─────────┼─────────┤\n",
      "│ Q025(A) │ 0.5     │ 0.5     │\n",
      "├─────────┼─────────┼─────────┤\n",
      "│ Q025(B) │ 0.5     │ 0.5     │\n",
      "╘═════════╧═════════╧═════════╛\n",
      "╒═════════╤═════════╤═════════╕\n",
      "│ Q025    │ Q025(A) │ Q025(B) │\n",
      "├─────────┼─────────┼─────────┤\n",
      "│ Q026(A) │ 0.25    │ 0.25    │\n",
      "├─────────┼─────────┼─────────┤\n",
      "│ Q026(B) │ 0.25    │ 0.25    │\n",
      "├─────────┼─────────┼─────────┤\n",
      "│ Q026(C) │ 0.25    │ 0.25    │\n",
      "├─────────┼─────────┼─────────┤\n",
      "│ Q026(D) │ 0.25    │ 0.25    │\n",
      "╘═════════╧═════════╧═════════╛\n",
      "╒═════════╤═════════╤═════════╕\n",
      "│ Q020    │ Q020(A) │ Q020(B) │\n",
      "├─────────┼─────────┼─────────┤\n",
      "│ Q027(A) │ 0.2     │ 0.2     │\n",
      "├─────────┼─────────┼─────────┤\n",
      "│ Q027(B) │ 0.2     │ 0.2     │\n",
      "├─────────┼─────────┼─────────┤\n",
      "│ Q027(C) │ 0.2     │ 0.2     │\n",
      "├─────────┼─────────┼─────────┤\n",
      "│ Q027(D) │ 0.2     │ 0.2     │\n",
      "├─────────┼─────────┼─────────┤\n",
      "│ Q027(E) │ 0.2     │ 0.2     │\n",
      "╘═════════╧═════════╧═════════╛\n"
     ]
    }
   ],
   "source": [
    "for cpd in best_model.get_cpds():\n",
    "    print(cpd)"
   ]
  },
  {
   "cell_type": "markdown",
   "metadata": {},
   "source": [
    "# Inference"
   ]
  },
  {
   "cell_type": "code",
   "execution_count": 123,
   "metadata": {},
   "outputs": [],
   "source": [
    "# Doing inference using VariableElimination\n",
    "from pgmpy.inference import VariableElimination\n",
    "enem_infer = VariableElimination(best_model)"
   ]
  },
  {
   "cell_type": "code",
   "execution_count": 124,
   "metadata": {},
   "outputs": [
    {
     "data": {
      "text/plain": [
       "array(['alta', 'baixa', 'media', 'muito alta', 'muito baixa'],\n",
       "      dtype=object)"
      ]
     },
     "execution_count": 124,
     "metadata": {},
     "output_type": "execute_result"
    }
   ],
   "source": [
    "dict_columns['NU_NOTA_MT']"
   ]
  },
  {
   "cell_type": "code",
   "execution_count": 125,
   "metadata": {},
   "outputs": [
    {
     "data": {
      "text/plain": [
       "array(['A', 'B', 'C', 'D', 'E', 'F', 'G', 'H'], dtype=object)"
      ]
     },
     "execution_count": 125,
     "metadata": {},
     "output_type": "execute_result"
    }
   ],
   "source": [
    "dict_columns['Q001']"
   ]
  },
  {
   "cell_type": "code",
   "execution_count": 126,
   "metadata": {},
   "outputs": [
    {
     "data": {
      "text/plain": [
       "array(['A', 'B', 'C', 'D', 'E', 'F', 'G', 'H'], dtype=object)"
      ]
     },
     "execution_count": 126,
     "metadata": {},
     "output_type": "execute_result"
    }
   ],
   "source": [
    "dict_columns['Q002']"
   ]
  },
  {
   "cell_type": "code",
   "execution_count": 127,
   "metadata": {},
   "outputs": [
    {
     "data": {
      "text/plain": [
       "array(['A', 'B', 'C', 'D', 'E', 'F', 'G', 'H', 'I', 'J', 'K', 'L', 'M',\n",
       "       'N', 'O', 'P', 'Q'], dtype=object)"
      ]
     },
     "execution_count": 127,
     "metadata": {},
     "output_type": "execute_result"
    }
   ],
   "source": [
    "dict_columns['Q006']"
   ]
  },
  {
   "cell_type": "code",
   "execution_count": 128,
   "metadata": {},
   "outputs": [
    {
     "data": {
      "text/plain": [
       "array(['A', 'B', 'C', 'D', 'E'], dtype=object)"
      ]
     },
     "execution_count": 128,
     "metadata": {},
     "output_type": "execute_result"
    }
   ],
   "source": [
    "dict_columns['Q017']"
   ]
  },
  {
   "cell_type": "code",
   "execution_count": 129,
   "metadata": {},
   "outputs": [
    {
     "data": {
      "text/plain": [
       "array(['A', 'B'], dtype=object)"
      ]
     },
     "execution_count": 129,
     "metadata": {},
     "output_type": "execute_result"
    }
   ],
   "source": [
    "dict_columns['Q020']"
   ]
  },
  {
   "cell_type": "code",
   "execution_count": 130,
   "metadata": {},
   "outputs": [
    {
     "data": {
      "text/plain": [
       "array(['A', 'B'], dtype=object)"
      ]
     },
     "execution_count": 130,
     "metadata": {},
     "output_type": "execute_result"
    }
   ],
   "source": [
    "dict_columns['Q021']"
   ]
  },
  {
   "cell_type": "code",
   "execution_count": 131,
   "metadata": {},
   "outputs": [
    {
     "data": {
      "text/plain": [
       "array(['A', 'B', 'C', 'D', 'E'], dtype=object)"
      ]
     },
     "execution_count": 131,
     "metadata": {},
     "output_type": "execute_result"
    }
   ],
   "source": [
    "dict_columns['Q024']"
   ]
  },
  {
   "cell_type": "code",
   "execution_count": 132,
   "metadata": {},
   "outputs": [
    {
     "data": {
      "text/plain": [
       "array(['A', 'B'], dtype=object)"
      ]
     },
     "execution_count": 132,
     "metadata": {},
     "output_type": "execute_result"
    }
   ],
   "source": [
    "dict_columns['Q025']"
   ]
  },
  {
   "cell_type": "code",
   "execution_count": 133,
   "metadata": {},
   "outputs": [
    {
     "data": {
      "text/plain": [
       "array(['A', 'B', 'C', 'D', 'E'], dtype=object)"
      ]
     },
     "execution_count": 133,
     "metadata": {},
     "output_type": "execute_result"
    }
   ],
   "source": [
    "dict_columns['Q027']"
   ]
  },
  {
   "cell_type": "markdown",
   "metadata": {},
   "source": [
    "## Case 1\n",
    "\n",
    "- Pais pós graduados (G)\n",
    "- Salário em torno de 10 mil reais (N)\n",
    "- Com TV por Assinatura (A)\n",
    "- Dois computadores (C)\n",
    "- Com acesso a internet (B)"
   ]
  },
  {
   "cell_type": "code",
   "execution_count": 134,
   "metadata": {},
   "outputs": [
    {
     "name": "stdout",
     "output_type": "stream",
     "text": [
      "╒══════════════╤═══════════════════╕\n",
      "│ NU_NOTA_MT   │   phi(NU_NOTA_MT) │\n",
      "╞══════════════╪═══════════════════╡\n",
      "│ NU_NOTA_MT_0 │            0.2000 │\n",
      "├──────────────┼───────────────────┤\n",
      "│ NU_NOTA_MT_1 │            0.2000 │\n",
      "├──────────────┼───────────────────┤\n",
      "│ NU_NOTA_MT_2 │            0.2000 │\n",
      "├──────────────┼───────────────────┤\n",
      "│ NU_NOTA_MT_3 │            0.2000 │\n",
      "├──────────────┼───────────────────┤\n",
      "│ NU_NOTA_MT_4 │            0.2000 │\n",
      "╘══════════════╧═══════════════════╛\n"
     ]
    }
   ],
   "source": [
    "q = enem_infer.query(variables=['NU_NOTA_MT'], evidence={'Q001': 6,'Q002':6,'Q006':13,'Q021':0,'Q024':2,'Q025':1,'Q017':1})\n",
    "print(q['NU_NOTA_MT'])"
   ]
  },
  {
   "cell_type": "markdown",
   "metadata": {},
   "source": [
    "## Case 2\n",
    "\n",
    "- Pais nunca estudaram (A)\n",
    "- Salário em torno de 2500 reais (F)\n",
    "- Sem TV por Assinatura (B)\n",
    "- Sem computador (A)\n",
    "- Sem acesso a internet"
   ]
  },
  {
   "cell_type": "code",
   "execution_count": 135,
   "metadata": {},
   "outputs": [
    {
     "name": "stdout",
     "output_type": "stream",
     "text": [
      "╒══════════════╤═══════════════════╕\n",
      "│ NU_NOTA_MT   │   phi(NU_NOTA_MT) │\n",
      "╞══════════════╪═══════════════════╡\n",
      "│ NU_NOTA_MT_0 │            0.2000 │\n",
      "├──────────────┼───────────────────┤\n",
      "│ NU_NOTA_MT_1 │            0.2000 │\n",
      "├──────────────┼───────────────────┤\n",
      "│ NU_NOTA_MT_2 │            0.2000 │\n",
      "├──────────────┼───────────────────┤\n",
      "│ NU_NOTA_MT_3 │            0.2000 │\n",
      "├──────────────┼───────────────────┤\n",
      "│ NU_NOTA_MT_4 │            0.2000 │\n",
      "╘══════════════╧═══════════════════╛\n"
     ]
    }
   ],
   "source": [
    "q = enem_infer.query(variables=['NU_NOTA_MT'], evidence={'Q001': 0,'Q002':0,'Q006':5,'Q021':1,'Q024':0,'Q025':0})\n",
    "print(q['NU_NOTA_MT'])"
   ]
  },
  {
   "cell_type": "markdown",
   "metadata": {},
   "source": [
    "## Case 3\n",
    "\n",
    "- Sem DVD em casa"
   ]
  },
  {
   "cell_type": "code",
   "execution_count": 136,
   "metadata": {},
   "outputs": [
    {
     "name": "stdout",
     "output_type": "stream",
     "text": [
      "╒══════════════╤═══════════════════╕\n",
      "│ NU_NOTA_MT   │   phi(NU_NOTA_MT) │\n",
      "╞══════════════╪═══════════════════╡\n",
      "│ NU_NOTA_MT_0 │            0.2000 │\n",
      "├──────────────┼───────────────────┤\n",
      "│ NU_NOTA_MT_1 │            0.2000 │\n",
      "├──────────────┼───────────────────┤\n",
      "│ NU_NOTA_MT_2 │            0.2000 │\n",
      "├──────────────┼───────────────────┤\n",
      "│ NU_NOTA_MT_3 │            0.2000 │\n",
      "├──────────────┼───────────────────┤\n",
      "│ NU_NOTA_MT_4 │            0.2000 │\n",
      "╘══════════════╧═══════════════════╛\n",
      "CPU times: user 207 ms, sys: 2.1 ms, total: 210 ms\n",
      "Wall time: 206 ms\n"
     ]
    }
   ],
   "source": [
    "%%time\n",
    "q = enem_infer.query(variables=['NU_NOTA_MT'], evidence={'Q020':1})\n",
    "print(q['NU_NOTA_MT'])"
   ]
  },
  {
   "cell_type": "markdown",
   "metadata": {},
   "source": [
    "## Case 4\n",
    "\n",
    "- Com inernet em casa"
   ]
  },
  {
   "cell_type": "code",
   "execution_count": 137,
   "metadata": {},
   "outputs": [
    {
     "name": "stdout",
     "output_type": "stream",
     "text": [
      "╒══════════════╤═══════════════════╕\n",
      "│ NU_NOTA_MT   │   phi(NU_NOTA_MT) │\n",
      "╞══════════════╪═══════════════════╡\n",
      "│ NU_NOTA_MT_0 │            0.2000 │\n",
      "├──────────────┼───────────────────┤\n",
      "│ NU_NOTA_MT_1 │            0.2000 │\n",
      "├──────────────┼───────────────────┤\n",
      "│ NU_NOTA_MT_2 │            0.2000 │\n",
      "├──────────────┼───────────────────┤\n",
      "│ NU_NOTA_MT_3 │            0.2000 │\n",
      "├──────────────┼───────────────────┤\n",
      "│ NU_NOTA_MT_4 │            0.2000 │\n",
      "╘══════════════╧═══════════════════╛\n"
     ]
    }
   ],
   "source": [
    "q = enem_infer.query(variables=['NU_NOTA_MT'], evidence={'Q025':0})\n",
    "print(q['NU_NOTA_MT'])"
   ]
  },
  {
   "cell_type": "markdown",
   "metadata": {},
   "source": [
    "## Case 5\n",
    "\n",
    "- Parte em escola pública, parte em particular, com Bolsa"
   ]
  },
  {
   "cell_type": "code",
   "execution_count": 139,
   "metadata": {},
   "outputs": [],
   "source": [
    "# Computing the probability of bronc given smoke.\n",
    "q = enem_infer.query(variables=['NU_NOTA_MT'], evidence={'Q027':2})\n",
    "print(q['NU_NOTA_MT'])"
   ]
  },
  {
   "cell_type": "markdown",
   "metadata": {},
   "source": [
    "## Case 6\n",
    "\n",
    "- Somente escola Privada"
   ]
  },
  {
   "cell_type": "code",
   "execution_count": null,
   "metadata": {},
   "outputs": [],
   "source": [
    "# Computing the probability of bronc given smoke.\n",
    "q = enem_infer.query(variables=['NU_NOTA_MT'], evidence={'Q027':3})\n",
    "print(q['NU_NOTA_MT'])"
   ]
  },
  {
   "cell_type": "markdown",
   "metadata": {},
   "source": [
    "## Case 7\n",
    "\n",
    "- Somente escola Pública"
   ]
  },
  {
   "cell_type": "code",
   "execution_count": null,
   "metadata": {},
   "outputs": [],
   "source": [
    "# Computing the probability of bronc given smoke.\n",
    "q = enem_infer.query(variables=['NU_NOTA_MT'], evidence={'Q027':0})\n",
    "print(q['NU_NOTA_MT'])"
   ]
  }
 ],
 "metadata": {
  "kernelspec": {
   "display_name": "Python 3",
   "language": "python",
   "name": "python3"
  },
  "language_info": {
   "codemirror_mode": {
    "name": "ipython",
    "version": 3
   },
   "file_extension": ".py",
   "mimetype": "text/x-python",
   "name": "python",
   "nbconvert_exporter": "python",
   "pygments_lexer": "ipython3",
   "version": "3.7.0"
  },
  "toc": {
   "base_numbering": 1,
   "nav_menu": {},
   "number_sections": true,
   "sideBar": true,
   "skip_h1_title": false,
   "title_cell": "Table of Contents",
   "title_sidebar": "Contents",
   "toc_cell": false,
   "toc_position": {},
   "toc_section_display": true,
   "toc_window_display": false
  },
  "varInspector": {
   "cols": {
    "lenName": 16,
    "lenType": 16,
    "lenVar": 40
   },
   "kernels_config": {
    "python": {
     "delete_cmd_postfix": "",
     "delete_cmd_prefix": "del ",
     "library": "var_list.py",
     "varRefreshCmd": "print(var_dic_list())"
    },
    "r": {
     "delete_cmd_postfix": ") ",
     "delete_cmd_prefix": "rm(",
     "library": "var_list.r",
     "varRefreshCmd": "cat(var_dic_list()) "
    }
   },
   "types_to_exclude": [
    "module",
    "function",
    "builtin_function_or_method",
    "instance",
    "_Feature"
   ],
   "window_display": false
  }
 },
 "nbformat": 4,
 "nbformat_minor": 2
}
