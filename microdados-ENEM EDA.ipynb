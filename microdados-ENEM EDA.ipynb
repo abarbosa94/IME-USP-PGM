{
 "cells": [
  {
   "cell_type": "markdown",
   "metadata": {},
   "source": [
    "# Data Description\n",
    "\n",
    "Exame Nacional do Ensino Medio (ENEM) stands for National High School Exam in english. It is a non-mandatory, standarized Brazilian national exam, which evaluates high school students in Brazil. The ENEM is the most important exam in this kind in Brazil, whith more than 8.6 million registered candidates in 2016. It is the second largest in the world after the National Higher Education Entrance Examination, the entrance examination of higher education in China (taken from Wikipedia).\n",
    "\n",
    "Every year the governement releases what they call as `microdata` which can be describe as the most granular (and anonymized) data about each student who took the exam."
   ]
  },
  {
   "cell_type": "code",
   "execution_count": 111,
   "metadata": {},
   "outputs": [],
   "source": [
    "import dask.dataframe as dd\n",
    "import gc\n",
    "from tqdm import tqdm\n",
    "import matplotlib.pyplot as plt\n",
    "import pandas as pd\n",
    "import operator\n",
    "import seaborn as sns"
   ]
  },
  {
   "cell_type": "code",
   "execution_count": 2,
   "metadata": {},
   "outputs": [],
   "source": [
    "microdata = \"data/DADOS/MICRODADOS_ENEM_2017.csv\"\n",
    "data_dict  = \"data/DICIONÁRIO/Dicionário_Microdados_Enem_2017.xlsx\""
   ]
  },
  {
   "cell_type": "code",
   "execution_count": 3,
   "metadata": {},
   "outputs": [],
   "source": [
    "df = dd.read_csv(microdata, sep=';',encoding='latin-1', assume_missing=True)"
   ]
  },
  {
   "cell_type": "code",
   "execution_count": 4,
   "metadata": {},
   "outputs": [
    {
     "data": {
      "text/html": [
       "<div>\n",
       "<style scoped>\n",
       "    .dataframe tbody tr th:only-of-type {\n",
       "        vertical-align: middle;\n",
       "    }\n",
       "\n",
       "    .dataframe tbody tr th {\n",
       "        vertical-align: top;\n",
       "    }\n",
       "\n",
       "    .dataframe thead th {\n",
       "        text-align: right;\n",
       "    }\n",
       "</style>\n",
       "<table border=\"1\" class=\"dataframe\">\n",
       "  <thead>\n",
       "    <tr style=\"text-align: right;\">\n",
       "      <th></th>\n",
       "      <th>NU_INSCRICAO</th>\n",
       "      <th>NU_ANO</th>\n",
       "      <th>CO_MUNICIPIO_RESIDENCIA</th>\n",
       "      <th>NO_MUNICIPIO_RESIDENCIA</th>\n",
       "      <th>CO_UF_RESIDENCIA</th>\n",
       "      <th>SG_UF_RESIDENCIA</th>\n",
       "      <th>NU_IDADE</th>\n",
       "      <th>TP_SEXO</th>\n",
       "      <th>TP_ESTADO_CIVIL</th>\n",
       "      <th>TP_COR_RACA</th>\n",
       "      <th>...</th>\n",
       "      <th>Q018</th>\n",
       "      <th>Q019</th>\n",
       "      <th>Q020</th>\n",
       "      <th>Q021</th>\n",
       "      <th>Q022</th>\n",
       "      <th>Q023</th>\n",
       "      <th>Q024</th>\n",
       "      <th>Q025</th>\n",
       "      <th>Q026</th>\n",
       "      <th>Q027</th>\n",
       "    </tr>\n",
       "  </thead>\n",
       "  <tbody>\n",
       "    <tr>\n",
       "      <th>0</th>\n",
       "      <td>1.700033e+11</td>\n",
       "      <td>2017.0</td>\n",
       "      <td>3503208.0</td>\n",
       "      <td>Araraquara</td>\n",
       "      <td>35.0</td>\n",
       "      <td>SP</td>\n",
       "      <td>29.0</td>\n",
       "      <td>F</td>\n",
       "      <td>0.0</td>\n",
       "      <td>1.0</td>\n",
       "      <td>...</td>\n",
       "      <td>A</td>\n",
       "      <td>C</td>\n",
       "      <td>B</td>\n",
       "      <td>B</td>\n",
       "      <td>C</td>\n",
       "      <td>B</td>\n",
       "      <td>B</td>\n",
       "      <td>B</td>\n",
       "      <td>A</td>\n",
       "      <td>A</td>\n",
       "    </tr>\n",
       "    <tr>\n",
       "      <th>1</th>\n",
       "      <td>1.700033e+11</td>\n",
       "      <td>2017.0</td>\n",
       "      <td>5002902.0</td>\n",
       "      <td>Cassilândia</td>\n",
       "      <td>50.0</td>\n",
       "      <td>MS</td>\n",
       "      <td>22.0</td>\n",
       "      <td>F</td>\n",
       "      <td>0.0</td>\n",
       "      <td>1.0</td>\n",
       "      <td>...</td>\n",
       "      <td>A</td>\n",
       "      <td>B</td>\n",
       "      <td>A</td>\n",
       "      <td>A</td>\n",
       "      <td>C</td>\n",
       "      <td>B</td>\n",
       "      <td>A</td>\n",
       "      <td>A</td>\n",
       "      <td>A</td>\n",
       "      <td>A</td>\n",
       "    </tr>\n",
       "    <tr>\n",
       "      <th>2</th>\n",
       "      <td>1.700017e+11</td>\n",
       "      <td>2017.0</td>\n",
       "      <td>3550308.0</td>\n",
       "      <td>São Paulo</td>\n",
       "      <td>35.0</td>\n",
       "      <td>SP</td>\n",
       "      <td>38.0</td>\n",
       "      <td>F</td>\n",
       "      <td>0.0</td>\n",
       "      <td>1.0</td>\n",
       "      <td>...</td>\n",
       "      <td>A</td>\n",
       "      <td>B</td>\n",
       "      <td>A</td>\n",
       "      <td>A</td>\n",
       "      <td>C</td>\n",
       "      <td>A</td>\n",
       "      <td>B</td>\n",
       "      <td>B</td>\n",
       "      <td>A</td>\n",
       "      <td>A</td>\n",
       "    </tr>\n",
       "    <tr>\n",
       "      <th>3</th>\n",
       "      <td>1.700017e+11</td>\n",
       "      <td>2017.0</td>\n",
       "      <td>4209300.0</td>\n",
       "      <td>Lages</td>\n",
       "      <td>42.0</td>\n",
       "      <td>SC</td>\n",
       "      <td>35.0</td>\n",
       "      <td>F</td>\n",
       "      <td>0.0</td>\n",
       "      <td>1.0</td>\n",
       "      <td>...</td>\n",
       "      <td>B</td>\n",
       "      <td>C</td>\n",
       "      <td>A</td>\n",
       "      <td>B</td>\n",
       "      <td>D</td>\n",
       "      <td>A</td>\n",
       "      <td>B</td>\n",
       "      <td>B</td>\n",
       "      <td>A</td>\n",
       "      <td>A</td>\n",
       "    </tr>\n",
       "    <tr>\n",
       "      <th>4</th>\n",
       "      <td>1.700017e+11</td>\n",
       "      <td>2017.0</td>\n",
       "      <td>2704302.0</td>\n",
       "      <td>Maceió</td>\n",
       "      <td>27.0</td>\n",
       "      <td>AL</td>\n",
       "      <td>40.0</td>\n",
       "      <td>M</td>\n",
       "      <td>0.0</td>\n",
       "      <td>3.0</td>\n",
       "      <td>...</td>\n",
       "      <td>A</td>\n",
       "      <td>B</td>\n",
       "      <td>B</td>\n",
       "      <td>A</td>\n",
       "      <td>C</td>\n",
       "      <td>A</td>\n",
       "      <td>C</td>\n",
       "      <td>B</td>\n",
       "      <td>A</td>\n",
       "      <td>A</td>\n",
       "    </tr>\n",
       "    <tr>\n",
       "      <th>5</th>\n",
       "      <td>1.700017e+11</td>\n",
       "      <td>2017.0</td>\n",
       "      <td>4303103.0</td>\n",
       "      <td>Cachoeirinha</td>\n",
       "      <td>43.0</td>\n",
       "      <td>RS</td>\n",
       "      <td>20.0</td>\n",
       "      <td>F</td>\n",
       "      <td>0.0</td>\n",
       "      <td>1.0</td>\n",
       "      <td>...</td>\n",
       "      <td>B</td>\n",
       "      <td>D</td>\n",
       "      <td>B</td>\n",
       "      <td>A</td>\n",
       "      <td>D</td>\n",
       "      <td>A</td>\n",
       "      <td>C</td>\n",
       "      <td>B</td>\n",
       "      <td>A</td>\n",
       "      <td>A</td>\n",
       "    </tr>\n",
       "    <tr>\n",
       "      <th>6</th>\n",
       "      <td>1.700033e+11</td>\n",
       "      <td>2017.0</td>\n",
       "      <td>4106902.0</td>\n",
       "      <td>Curitiba</td>\n",
       "      <td>41.0</td>\n",
       "      <td>PR</td>\n",
       "      <td>36.0</td>\n",
       "      <td>M</td>\n",
       "      <td>1.0</td>\n",
       "      <td>2.0</td>\n",
       "      <td>...</td>\n",
       "      <td>B</td>\n",
       "      <td>B</td>\n",
       "      <td>A</td>\n",
       "      <td>A</td>\n",
       "      <td>C</td>\n",
       "      <td>A</td>\n",
       "      <td>B</td>\n",
       "      <td>B</td>\n",
       "      <td>A</td>\n",
       "      <td>A</td>\n",
       "    </tr>\n",
       "    <tr>\n",
       "      <th>7</th>\n",
       "      <td>1.700033e+11</td>\n",
       "      <td>2017.0</td>\n",
       "      <td>4214805.0</td>\n",
       "      <td>Rio do Sul</td>\n",
       "      <td>42.0</td>\n",
       "      <td>SC</td>\n",
       "      <td>18.0</td>\n",
       "      <td>F</td>\n",
       "      <td>0.0</td>\n",
       "      <td>1.0</td>\n",
       "      <td>...</td>\n",
       "      <td>B</td>\n",
       "      <td>B</td>\n",
       "      <td>A</td>\n",
       "      <td>B</td>\n",
       "      <td>D</td>\n",
       "      <td>B</td>\n",
       "      <td>B</td>\n",
       "      <td>B</td>\n",
       "      <td>A</td>\n",
       "      <td>A</td>\n",
       "    </tr>\n",
       "    <tr>\n",
       "      <th>8</th>\n",
       "      <td>1.700033e+11</td>\n",
       "      <td>2017.0</td>\n",
       "      <td>4322509.0</td>\n",
       "      <td>Vacaria</td>\n",
       "      <td>43.0</td>\n",
       "      <td>RS</td>\n",
       "      <td>23.0</td>\n",
       "      <td>F</td>\n",
       "      <td>0.0</td>\n",
       "      <td>1.0</td>\n",
       "      <td>...</td>\n",
       "      <td>A</td>\n",
       "      <td>B</td>\n",
       "      <td>A</td>\n",
       "      <td>A</td>\n",
       "      <td>B</td>\n",
       "      <td>A</td>\n",
       "      <td>A</td>\n",
       "      <td>A</td>\n",
       "      <td>A</td>\n",
       "      <td>A</td>\n",
       "    </tr>\n",
       "    <tr>\n",
       "      <th>9</th>\n",
       "      <td>1.700017e+11</td>\n",
       "      <td>2017.0</td>\n",
       "      <td>2607901.0</td>\n",
       "      <td>Jaboatão dos Guararapes</td>\n",
       "      <td>26.0</td>\n",
       "      <td>PE</td>\n",
       "      <td>23.0</td>\n",
       "      <td>M</td>\n",
       "      <td>0.0</td>\n",
       "      <td>3.0</td>\n",
       "      <td>...</td>\n",
       "      <td>A</td>\n",
       "      <td>B</td>\n",
       "      <td>B</td>\n",
       "      <td>A</td>\n",
       "      <td>D</td>\n",
       "      <td>B</td>\n",
       "      <td>B</td>\n",
       "      <td>B</td>\n",
       "      <td>A</td>\n",
       "      <td>A</td>\n",
       "    </tr>\n",
       "  </tbody>\n",
       "</table>\n",
       "<p>10 rows × 137 columns</p>\n",
       "</div>"
      ],
      "text/plain": [
       "   NU_INSCRICAO  NU_ANO  CO_MUNICIPIO_RESIDENCIA  NO_MUNICIPIO_RESIDENCIA  \\\n",
       "0  1.700033e+11  2017.0                3503208.0               Araraquara   \n",
       "1  1.700033e+11  2017.0                5002902.0              Cassilândia   \n",
       "2  1.700017e+11  2017.0                3550308.0                São Paulo   \n",
       "3  1.700017e+11  2017.0                4209300.0                    Lages   \n",
       "4  1.700017e+11  2017.0                2704302.0                   Maceió   \n",
       "5  1.700017e+11  2017.0                4303103.0             Cachoeirinha   \n",
       "6  1.700033e+11  2017.0                4106902.0                 Curitiba   \n",
       "7  1.700033e+11  2017.0                4214805.0               Rio do Sul   \n",
       "8  1.700033e+11  2017.0                4322509.0                  Vacaria   \n",
       "9  1.700017e+11  2017.0                2607901.0  Jaboatão dos Guararapes   \n",
       "\n",
       "   CO_UF_RESIDENCIA SG_UF_RESIDENCIA  NU_IDADE TP_SEXO  TP_ESTADO_CIVIL  \\\n",
       "0              35.0               SP      29.0       F              0.0   \n",
       "1              50.0               MS      22.0       F              0.0   \n",
       "2              35.0               SP      38.0       F              0.0   \n",
       "3              42.0               SC      35.0       F              0.0   \n",
       "4              27.0               AL      40.0       M              0.0   \n",
       "5              43.0               RS      20.0       F              0.0   \n",
       "6              41.0               PR      36.0       M              1.0   \n",
       "7              42.0               SC      18.0       F              0.0   \n",
       "8              43.0               RS      23.0       F              0.0   \n",
       "9              26.0               PE      23.0       M              0.0   \n",
       "\n",
       "   TP_COR_RACA  ...   Q018  Q019 Q020  Q021 Q022  Q023  Q024  Q025  Q026  Q027  \n",
       "0          1.0  ...      A     C    B     B    C     B     B     B     A     A  \n",
       "1          1.0  ...      A     B    A     A    C     B     A     A     A     A  \n",
       "2          1.0  ...      A     B    A     A    C     A     B     B     A     A  \n",
       "3          1.0  ...      B     C    A     B    D     A     B     B     A     A  \n",
       "4          3.0  ...      A     B    B     A    C     A     C     B     A     A  \n",
       "5          1.0  ...      B     D    B     A    D     A     C     B     A     A  \n",
       "6          2.0  ...      B     B    A     A    C     A     B     B     A     A  \n",
       "7          1.0  ...      B     B    A     B    D     B     B     B     A     A  \n",
       "8          1.0  ...      A     B    A     A    B     A     A     A     A     A  \n",
       "9          3.0  ...      A     B    B     A    D     B     B     B     A     A  \n",
       "\n",
       "[10 rows x 137 columns]"
      ]
     },
     "execution_count": 4,
     "metadata": {},
     "output_type": "execute_result"
    }
   ],
   "source": [
    "df.head(10)"
   ]
  },
  {
   "cell_type": "code",
   "execution_count": 15,
   "metadata": {},
   "outputs": [
    {
     "name": "stdout",
     "output_type": "stream",
     "text": [
      "CPU times: user 3min 52s, sys: 2min 9s, total: 6min 2s\n",
      "Wall time: 2min 18s\n"
     ]
    },
    {
     "data": {
      "text/plain": [
       "6731341"
      ]
     },
     "execution_count": 15,
     "metadata": {},
     "output_type": "execute_result"
    }
   ],
   "source": [
    "%%time\n",
    "len(df)"
   ]
  },
  {
   "cell_type": "markdown",
   "metadata": {},
   "source": [
    "Cada 10% = ~600 mil dados"
   ]
  },
  {
   "cell_type": "markdown",
   "metadata": {},
   "source": [
    "The data can be divided into nine categories:\n",
    " - Student Data\n",
    " - Student's school Data\n",
    " - Special Treatment Data\n",
    " - Specific Treatment Data\n",
    " - Special and Specific Requests for the Test Data\n",
    " - Place where the Test were taken Data\n",
    " - Test Data\n",
    " - Essay Data\n",
    " - Social Economic Data\n",
    " \n",
    " Those informations are datailed by the following tables*:\n",
    " \n",
    " *\n",
    "_I needed to use an image since `pandas` has some serious issues to treat Multi-Index Excel Files. You can check the original photo inside `img` folder._"
   ]
  },
  {
   "cell_type": "markdown",
   "metadata": {},
   "source": [
    "## Student Information Data\n",
    "\n",
    "\n",
    "![student](img/student_info.png)"
   ]
  },
  {
   "cell_type": "code",
   "execution_count": 31,
   "metadata": {},
   "outputs": [
    {
     "name": "stderr",
     "output_type": "stream",
     "text": [
      "/home/abarbosa/miniconda3/envs/pgm/lib/python3.7/site-packages/scipy/stats/stats.py:1713: FutureWarning: Using a non-tuple sequence for multidimensional indexing is deprecated; use `arr[tuple(seq)]` instead of `arr[seq]`. In the future this will be interpreted as an array index, `arr[np.array(seq)]`, which will result either in an error or a different result.\n",
      "  return np.add.reduce(sorted[indexer] * weights, axis=axis) / sumval\n"
     ]
    },
    {
     "name": "stdout",
     "output_type": "stream",
     "text": [
      "CPU times: user 4min 4s, sys: 1min 57s, total: 6min 1s\n",
      "Wall time: 2min 24s\n"
     ]
    },
    {
     "data": {
      "text/plain": [
       "<matplotlib.axes._subplots.AxesSubplot at 0x7fc0bbdf2898>"
      ]
     },
     "execution_count": 31,
     "metadata": {},
     "output_type": "execute_result"
    },
    {
     "data": {
      "image/png": "[encoded data removed]",
      "text/plain": [
       "<Figure size 432x288 with 1 Axes>"
      ]
     },
     "metadata": {
      "needs_background": "light"
     },
     "output_type": "display_data"
    }
   ],
   "source": [
    "%%time\n",
    "sns.distplot(df[('NU_NOTA_CN')].fillna(0)[df[('NU_NOTA_CN')].fillna(0)>0])"
   ]
  },
  {
   "cell_type": "code",
   "execution_count": 32,
   "metadata": {},
   "outputs": [
    {
     "name": "stderr",
     "output_type": "stream",
     "text": [
      "/home/abarbosa/miniconda3/envs/pgm/lib/python3.7/site-packages/scipy/stats/stats.py:1713: FutureWarning: Using a non-tuple sequence for multidimensional indexing is deprecated; use `arr[tuple(seq)]` instead of `arr[seq]`. In the future this will be interpreted as an array index, `arr[np.array(seq)]`, which will result either in an error or a different result.\n",
      "  return np.add.reduce(sorted[indexer] * weights, axis=axis) / sumval\n"
     ]
    },
    {
     "name": "stdout",
     "output_type": "stream",
     "text": [
      "CPU times: user 4min 7s, sys: 1min 49s, total: 5min 57s\n",
      "Wall time: 2min 24s\n"
     ]
    },
    {
     "data": {
      "text/plain": [
       "<matplotlib.axes._subplots.AxesSubplot at 0x7fc0c58cba20>"
      ]
     },
     "execution_count": 32,
     "metadata": {},
     "output_type": "execute_result"
    },
    {
     "data": {
      "image/png": "[encoded data removed]",
      "text/plain": [
       "<Figure size 432x288 with 1 Axes>"
      ]
     },
     "metadata": {
      "needs_background": "light"
     },
     "output_type": "display_data"
    }
   ],
   "source": [
    "%%time\n",
    "sns.distplot(df[('NU_NOTA_CH')].fillna(0)[df[('NU_NOTA_CH')].fillna(0)>0])"
   ]
  },
  {
   "cell_type": "code",
   "execution_count": 33,
   "metadata": {},
   "outputs": [
    {
     "name": "stderr",
     "output_type": "stream",
     "text": [
      "/home/abarbosa/miniconda3/envs/pgm/lib/python3.7/site-packages/scipy/stats/stats.py:1713: FutureWarning: Using a non-tuple sequence for multidimensional indexing is deprecated; use `arr[tuple(seq)]` instead of `arr[seq]`. In the future this will be interpreted as an array index, `arr[np.array(seq)]`, which will result either in an error or a different result.\n",
      "  return np.add.reduce(sorted[indexer] * weights, axis=axis) / sumval\n"
     ]
    },
    {
     "name": "stdout",
     "output_type": "stream",
     "text": [
      "CPU times: user 4min 2s, sys: 1min 48s, total: 5min 51s\n",
      "Wall time: 2min 21s\n"
     ]
    },
    {
     "data": {
      "text/plain": [
       "<matplotlib.axes._subplots.AxesSubplot at 0x7fc0ca0f9358>"
      ]
     },
     "execution_count": 33,
     "metadata": {},
     "output_type": "execute_result"
    },
    {
     "data": {
      "image/png": "[encoded data removed]",
      "text/plain": [
       "<Figure size 432x288 with 1 Axes>"
      ]
     },
     "metadata": {
      "needs_background": "light"
     },
     "output_type": "display_data"
    }
   ],
   "source": [
    "%%time\n",
    "sns.distplot(df[('NU_NOTA_LC')].fillna(0)[df[('NU_NOTA_LC')].fillna(0)>0])"
   ]
  },
  {
   "cell_type": "code",
   "execution_count": 34,
   "metadata": {},
   "outputs": [
    {
     "name": "stderr",
     "output_type": "stream",
     "text": [
      "/home/abarbosa/miniconda3/envs/pgm/lib/python3.7/site-packages/scipy/stats/stats.py:1713: FutureWarning: Using a non-tuple sequence for multidimensional indexing is deprecated; use `arr[tuple(seq)]` instead of `arr[seq]`. In the future this will be interpreted as an array index, `arr[np.array(seq)]`, which will result either in an error or a different result.\n",
      "  return np.add.reduce(sorted[indexer] * weights, axis=axis) / sumval\n"
     ]
    },
    {
     "name": "stdout",
     "output_type": "stream",
     "text": [
      "CPU times: user 4min 2s, sys: 1min 57s, total: 5min 59s\n",
      "Wall time: 2min 24s\n"
     ]
    },
    {
     "data": {
      "text/plain": [
       "<matplotlib.axes._subplots.AxesSubplot at 0x7fc0d0ea1be0>"
      ]
     },
     "execution_count": 34,
     "metadata": {},
     "output_type": "execute_result"
    },
    {
     "data": {
      "image/png": "[encoded data removed]",
      "text/plain": [
       "<Figure size 432x288 with 1 Axes>"
      ]
     },
     "metadata": {
      "needs_background": "light"
     },
     "output_type": "display_data"
    }
   ],
   "source": [
    "%%time\n",
    "sns.distplot(df[('NU_NOTA_MT')].fillna(0)[df[('NU_NOTA_MT')].fillna(0)>0])"
   ]
  },
  {
   "cell_type": "code",
   "execution_count": 35,
   "metadata": {},
   "outputs": [
    {
     "name": "stderr",
     "output_type": "stream",
     "text": [
      "/home/abarbosa/miniconda3/envs/pgm/lib/python3.7/site-packages/scipy/stats/stats.py:1713: FutureWarning: Using a non-tuple sequence for multidimensional indexing is deprecated; use `arr[tuple(seq)]` instead of `arr[seq]`. In the future this will be interpreted as an array index, `arr[np.array(seq)]`, which will result either in an error or a different result.\n",
      "  return np.add.reduce(sorted[indexer] * weights, axis=axis) / sumval\n"
     ]
    },
    {
     "name": "stdout",
     "output_type": "stream",
     "text": [
      "CPU times: user 4min 16s, sys: 1min 59s, total: 6min 15s\n",
      "Wall time: 2min 33s\n"
     ]
    },
    {
     "data": {
      "text/plain": [
       "<matplotlib.axes._subplots.AxesSubplot at 0x7fc0c55b8cf8>"
      ]
     },
     "execution_count": 35,
     "metadata": {},
     "output_type": "execute_result"
    },
    {
     "data": {
      "image/png": "[encoded data removed]",
      "text/plain": [
       "<Figure size 432x288 with 1 Axes>"
      ]
     },
     "metadata": {
      "needs_background": "light"
     },
     "output_type": "display_data"
    }
   ],
   "source": [
    "%%time\n",
    "sns.distplot(df[('NU_NOTA_COMP1')].fillna(0)[df[('NU_NOTA_COMP1')].fillna(0)>0])"
   ]
  },
  {
   "cell_type": "code",
   "execution_count": 36,
   "metadata": {},
   "outputs": [
    {
     "name": "stderr",
     "output_type": "stream",
     "text": [
      "/home/abarbosa/miniconda3/envs/pgm/lib/python3.7/site-packages/scipy/stats/stats.py:1713: FutureWarning: Using a non-tuple sequence for multidimensional indexing is deprecated; use `arr[tuple(seq)]` instead of `arr[seq]`. In the future this will be interpreted as an array index, `arr[np.array(seq)]`, which will result either in an error or a different result.\n",
      "  return np.add.reduce(sorted[indexer] * weights, axis=axis) / sumval\n"
     ]
    },
    {
     "name": "stdout",
     "output_type": "stream",
     "text": [
      "CPU times: user 4min 11s, sys: 2min 7s, total: 6min 18s\n",
      "Wall time: 2min 28s\n"
     ]
    },
    {
     "data": {
      "text/plain": [
       "<matplotlib.axes._subplots.AxesSubplot at 0x7fc0c7d3c908>"
      ]
     },
     "execution_count": 36,
     "metadata": {},
     "output_type": "execute_result"
    },
    {
     "data": {
      "image/png": "[encoded data removed]",
      "text/plain": [
       "<Figure size 432x288 with 1 Axes>"
      ]
     },
     "metadata": {
      "needs_background": "light"
     },
     "output_type": "display_data"
    }
   ],
   "source": [
    "%%time\n",
    "sns.distplot(df[('NU_NOTA_COMP2')].fillna(0)[df[('NU_NOTA_COMP2')].fillna(0)>0])"
   ]
  },
  {
   "cell_type": "code",
   "execution_count": 37,
   "metadata": {
    "scrolled": false
   },
   "outputs": [
    {
     "name": "stderr",
     "output_type": "stream",
     "text": [
      "/home/abarbosa/miniconda3/envs/pgm/lib/python3.7/site-packages/scipy/stats/stats.py:1713: FutureWarning: Using a non-tuple sequence for multidimensional indexing is deprecated; use `arr[tuple(seq)]` instead of `arr[seq]`. In the future this will be interpreted as an array index, `arr[np.array(seq)]`, which will result either in an error or a different result.\n",
      "  return np.add.reduce(sorted[indexer] * weights, axis=axis) / sumval\n"
     ]
    },
    {
     "name": "stdout",
     "output_type": "stream",
     "text": [
      "CPU times: user 4min 14s, sys: 2min 5s, total: 6min 20s\n",
      "Wall time: 2min 35s\n"
     ]
    },
    {
     "data": {
      "text/plain": [
       "<matplotlib.axes._subplots.AxesSubplot at 0x7fc0c9fbbc18>"
      ]
     },
     "execution_count": 37,
     "metadata": {},
     "output_type": "execute_result"
    },
    {
     "data": {
      "image/png": "[encoded data removed]",
      "text/plain": [
       "<Figure size 432x288 with 1 Axes>"
      ]
     },
     "metadata": {
      "needs_background": "light"
     },
     "output_type": "display_data"
    }
   ],
   "source": [
    "%%time\n",
    "sns.distplot(df[('NU_NOTA_COMP3')].fillna(0)[df[('NU_NOTA_COMP3')].fillna(0)>0])"
   ]
  },
  {
   "cell_type": "code",
   "execution_count": 38,
   "metadata": {},
   "outputs": [
    {
     "name": "stderr",
     "output_type": "stream",
     "text": [
      "/home/abarbosa/miniconda3/envs/pgm/lib/python3.7/site-packages/scipy/stats/stats.py:1713: FutureWarning: Using a non-tuple sequence for multidimensional indexing is deprecated; use `arr[tuple(seq)]` instead of `arr[seq]`. In the future this will be interpreted as an array index, `arr[np.array(seq)]`, which will result either in an error or a different result.\n",
      "  return np.add.reduce(sorted[indexer] * weights, axis=axis) / sumval\n"
     ]
    },
    {
     "name": "stdout",
     "output_type": "stream",
     "text": [
      "CPU times: user 4min 4s, sys: 2min 6s, total: 6min 11s\n",
      "Wall time: 2min 23s\n"
     ]
    },
    {
     "data": {
      "text/plain": [
       "<matplotlib.axes._subplots.AxesSubplot at 0x7fc0c6b6e6a0>"
      ]
     },
     "execution_count": 38,
     "metadata": {},
     "output_type": "execute_result"
    },
    {
     "data": {
      "image/png": "[encoded data removed]",
      "text/plain": [
       "<Figure size 432x288 with 1 Axes>"
      ]
     },
     "metadata": {
      "needs_background": "light"
     },
     "output_type": "display_data"
    }
   ],
   "source": [
    "%%time\n",
    "sns.distplot(df[('NU_NOTA_COMP4')].fillna(0)[df[('NU_NOTA_COMP4')].fillna(0)>0])"
   ]
  },
  {
   "cell_type": "code",
   "execution_count": 39,
   "metadata": {},
   "outputs": [
    {
     "name": "stderr",
     "output_type": "stream",
     "text": [
      "/home/abarbosa/miniconda3/envs/pgm/lib/python3.7/site-packages/scipy/stats/stats.py:1713: FutureWarning: Using a non-tuple sequence for multidimensional indexing is deprecated; use `arr[tuple(seq)]` instead of `arr[seq]`. In the future this will be interpreted as an array index, `arr[np.array(seq)]`, which will result either in an error or a different result.\n",
      "  return np.add.reduce(sorted[indexer] * weights, axis=axis) / sumval\n"
     ]
    },
    {
     "name": "stdout",
     "output_type": "stream",
     "text": [
      "CPU times: user 4min 18s, sys: 1min 59s, total: 6min 17s\n",
      "Wall time: 2min 37s\n"
     ]
    },
    {
     "data": {
      "text/plain": [
       "<matplotlib.axes._subplots.AxesSubplot at 0x7fc0bbc04fd0>"
      ]
     },
     "execution_count": 39,
     "metadata": {},
     "output_type": "execute_result"
    },
    {
     "data": {
      "image/png": "[encoded data removed]",
      "text/plain": [
       "<Figure size 432x288 with 1 Axes>"
      ]
     },
     "metadata": {
      "needs_background": "light"
     },
     "output_type": "display_data"
    }
   ],
   "source": [
    "%%time\n",
    "sns.distplot(df[('NU_NOTA_COMP5')].fillna(0)[df[('NU_NOTA_COMP5')].fillna(0)>0])"
   ]
  },
  {
   "cell_type": "code",
   "execution_count": 51,
   "metadata": {},
   "outputs": [
    {
     "name": "stderr",
     "output_type": "stream",
     "text": [
      "/home/abarbosa/miniconda3/envs/pgm/lib/python3.7/site-packages/scipy/stats/stats.py:1713: FutureWarning: Using a non-tuple sequence for multidimensional indexing is deprecated; use `arr[tuple(seq)]` instead of `arr[seq]`. In the future this will be interpreted as an array index, `arr[np.array(seq)]`, which will result either in an error or a different result.\n",
      "  return np.add.reduce(sorted[indexer] * weights, axis=axis) / sumval\n"
     ]
    },
    {
     "name": "stdout",
     "output_type": "stream",
     "text": [
      "CPU times: user 3min 57s, sys: 1min 51s, total: 5min 49s\n",
      "Wall time: 2min 16s\n"
     ]
    },
    {
     "data": {
      "text/plain": [
       "<matplotlib.axes._subplots.AxesSubplot at 0x7fc0742b2080>"
      ]
     },
     "execution_count": 51,
     "metadata": {},
     "output_type": "execute_result"
    },
    {
     "data": {
      "image/png": "[encoded data removed]",
      "text/plain": [
       "<Figure size 432x288 with 1 Axes>"
      ]
     },
     "metadata": {
      "needs_background": "light"
     },
     "output_type": "display_data"
    }
   ],
   "source": [
    "%%time\n",
    "sns.distplot(df[('NU_NOTA_REDACAO')].fillna(0)[df[('NU_NOTA_REDACAO')].fillna(0)>0], kde=False)"
   ]
  },
  {
   "cell_type": "code",
   "execution_count": 41,
   "metadata": {},
   "outputs": [],
   "source": [
    "sample = df.sample(frac=0.1)"
   ]
  },
  {
   "cell_type": "code",
   "execution_count": 42,
   "metadata": {},
   "outputs": [
    {
     "name": "stdout",
     "output_type": "stream",
     "text": [
      "CPU times: user 4min 19s, sys: 3min 3s, total: 7min 23s\n",
      "Wall time: 2min 48s\n"
     ]
    }
   ],
   "source": [
    "%%time\n",
    "pandas_df = sample.compute()"
   ]
  },
  {
   "cell_type": "code",
   "execution_count": 52,
   "metadata": {},
   "outputs": [
    {
     "data": {
      "text/plain": [
       "<matplotlib.axes._subplots.AxesSubplot at 0x7fc073accef0>"
      ]
     },
     "execution_count": 52,
     "metadata": {},
     "output_type": "execute_result"
    },
    {
     "data": {
      "image/png": "[encoded data removed]",
      "text/plain": [
       "<Figure size 432x288 with 1 Axes>"
      ]
     },
     "metadata": {
      "needs_background": "light"
     },
     "output_type": "display_data"
    }
   ],
   "source": [
    "sns.distplot(pandas_df[('NU_NOTA_CN')].fillna(0)[pandas_df[('NU_NOTA_CN')].fillna(0)>0])"
   ]
  },
  {
   "cell_type": "code",
   "execution_count": 53,
   "metadata": {},
   "outputs": [
    {
     "data": {
      "text/plain": [
       "<matplotlib.axes._subplots.AxesSubplot at 0x7fc073efa6d8>"
      ]
     },
     "execution_count": 53,
     "metadata": {},
     "output_type": "execute_result"
    },
    {
     "data": {
      "image/png": "[encoded data removed]",
      "text/plain": [
       "<Figure size 432x288 with 1 Axes>"
      ]
     },
     "metadata": {
      "needs_background": "light"
     },
     "output_type": "display_data"
    }
   ],
   "source": [
    "sns.distplot(pandas_df[('NU_NOTA_CH')].fillna(0)[pandas_df[('NU_NOTA_CH')].fillna(0)>0])"
   ]
  },
  {
   "cell_type": "code",
   "execution_count": 54,
   "metadata": {},
   "outputs": [
    {
     "data": {
      "text/plain": [
       "<matplotlib.axes._subplots.AxesSubplot at 0x7fc073775c18>"
      ]
     },
     "execution_count": 54,
     "metadata": {},
     "output_type": "execute_result"
    },
    {
     "data": {
      "image/png": "[encoded data removed]",
      "text/plain": [
       "<Figure size 432x288 with 1 Axes>"
      ]
     },
     "metadata": {
      "needs_background": "light"
     },
     "output_type": "display_data"
    }
   ],
   "source": [
    "sns.distplot(pandas_df[('NU_NOTA_LC')].fillna(0)[pandas_df[('NU_NOTA_LC')].fillna(0)>0])"
   ]
  },
  {
   "cell_type": "code",
   "execution_count": 55,
   "metadata": {},
   "outputs": [
    {
     "data": {
      "text/plain": [
       "<matplotlib.axes._subplots.AxesSubplot at 0x7fc0738c6e48>"
      ]
     },
     "execution_count": 55,
     "metadata": {},
     "output_type": "execute_result"
    },
    {
     "data": {
      "image/png": "[encoded data removed]",
      "text/plain": [
       "<Figure size 432x288 with 1 Axes>"
      ]
     },
     "metadata": {
      "needs_background": "light"
     },
     "output_type": "display_data"
    }
   ],
   "source": [
    "sns.distplot(pandas_df[('NU_NOTA_MT')].fillna(0)[pandas_df[('NU_NOTA_MT')].fillna(0)>0])"
   ]
  },
  {
   "cell_type": "code",
   "execution_count": 56,
   "metadata": {},
   "outputs": [
    {
     "data": {
      "text/plain": [
       "<matplotlib.axes._subplots.AxesSubplot at 0x7fc07416f160>"
      ]
     },
     "execution_count": 56,
     "metadata": {},
     "output_type": "execute_result"
    },
    {
     "data": {
      "image/png": "[encoded data removed]",
      "text/plain": [
       "<Figure size 432x288 with 1 Axes>"
      ]
     },
     "metadata": {
      "needs_background": "light"
     },
     "output_type": "display_data"
    }
   ],
   "source": [
    "sns.distplot(pandas_df[('NU_NOTA_COMP1')].fillna(0)[pandas_df[('NU_NOTA_COMP1')].fillna(0)>0])"
   ]
  },
  {
   "cell_type": "code",
   "execution_count": 57,
   "metadata": {},
   "outputs": [
    {
     "data": {
      "text/plain": [
       "<matplotlib.axes._subplots.AxesSubplot at 0x7fc073bc9358>"
      ]
     },
     "execution_count": 57,
     "metadata": {},
     "output_type": "execute_result"
    },
    {
     "data": {
      "image/png": "[encoded data removed]",
      "text/plain": [
       "<Figure size 432x288 with 1 Axes>"
      ]
     },
     "metadata": {
      "needs_background": "light"
     },
     "output_type": "display_data"
    }
   ],
   "source": [
    "sns.distplot(pandas_df[('NU_NOTA_COMP2')].fillna(0)[pandas_df[('NU_NOTA_COMP2')].fillna(0)>0])"
   ]
  },
  {
   "cell_type": "code",
   "execution_count": 58,
   "metadata": {},
   "outputs": [
    {
     "data": {
      "text/plain": [
       "<matplotlib.axes._subplots.AxesSubplot at 0x7fc0739930f0>"
      ]
     },
     "execution_count": 58,
     "metadata": {},
     "output_type": "execute_result"
    },
    {
     "data": {
      "image/png": "[encoded data removed]",
      "text/plain": [
       "<Figure size 432x288 with 1 Axes>"
      ]
     },
     "metadata": {
      "needs_background": "light"
     },
     "output_type": "display_data"
    }
   ],
   "source": [
    "sns.distplot(pandas_df[('NU_NOTA_COMP3')].fillna(0)[pandas_df[('NU_NOTA_COMP3')].fillna(0)>0])"
   ]
  },
  {
   "cell_type": "code",
   "execution_count": 59,
   "metadata": {},
   "outputs": [
    {
     "data": {
      "text/plain": [
       "<matplotlib.axes._subplots.AxesSubplot at 0x7fc07395c518>"
      ]
     },
     "execution_count": 59,
     "metadata": {},
     "output_type": "execute_result"
    },
    {
     "data": {
      "image/png": "[encoded data removed]",
      "text/plain": [
       "<Figure size 432x288 with 1 Axes>"
      ]
     },
     "metadata": {
      "needs_background": "light"
     },
     "output_type": "display_data"
    }
   ],
   "source": [
    "sns.distplot(pandas_df[('NU_NOTA_COMP4')].fillna(0)[pandas_df[('NU_NOTA_COMP4')].fillna(0)>0])"
   ]
  },
  {
   "cell_type": "code",
   "execution_count": 60,
   "metadata": {},
   "outputs": [
    {
     "data": {
      "text/plain": [
       "<matplotlib.axes._subplots.AxesSubplot at 0x7fc0739cccf8>"
      ]
     },
     "execution_count": 60,
     "metadata": {},
     "output_type": "execute_result"
    },
    {
     "data": {
      "image/png": "[encoded data removed]",
      "text/plain": [
       "<Figure size 432x288 with 1 Axes>"
      ]
     },
     "metadata": {
      "needs_background": "light"
     },
     "output_type": "display_data"
    }
   ],
   "source": [
    "sns.distplot(pandas_df[('NU_NOTA_COMP5')].fillna(0)[pandas_df[('NU_NOTA_COMP5')].fillna(0)>0])"
   ]
  },
  {
   "cell_type": "code",
   "execution_count": 70,
   "metadata": {},
   "outputs": [
    {
     "data": {
      "image/png": "[encoded data removed]",
      "text/plain": [
       "<Figure size 432x288 with 1 Axes>"
      ]
     },
     "metadata": {
      "needs_background": "light"
     },
     "output_type": "display_data"
    }
   ],
   "source": [
    "import matplotlib.ticker as ticker\n",
    "x = np.random.randint(0,1000, size=(100))\n",
    "ax = sns.distplot(pandas_df[('NU_NOTA_REDACAO')].fillna(0)[pandas_df[('NU_NOTA_REDACAO')].fillna(0)>0], kde=False);\n",
    "ax.xaxis.set_major_locator(ticker.MultipleLocator(100))"
   ]
  },
  {
   "cell_type": "code",
   "execution_count": 86,
   "metadata": {},
   "outputs": [],
   "source": [
    "pd.set_option('display.max_columns',None)"
   ]
  },
  {
   "cell_type": "code",
   "execution_count": 87,
   "metadata": {},
   "outputs": [
    {
     "data": {
      "text/html": [
       "<div>\n",
       "<style scoped>\n",
       "    .dataframe tbody tr th:only-of-type {\n",
       "        vertical-align: middle;\n",
       "    }\n",
       "\n",
       "    .dataframe tbody tr th {\n",
       "        vertical-align: top;\n",
       "    }\n",
       "\n",
       "    .dataframe thead th {\n",
       "        text-align: right;\n",
       "    }\n",
       "</style>\n",
       "<table border=\"1\" class=\"dataframe\">\n",
       "  <thead>\n",
       "    <tr style=\"text-align: right;\">\n",
       "      <th></th>\n",
       "      <th>NU_INSCRICAO</th>\n",
       "      <th>NU_ANO</th>\n",
       "      <th>CO_MUNICIPIO_RESIDENCIA</th>\n",
       "      <th>NO_MUNICIPIO_RESIDENCIA</th>\n",
       "      <th>CO_UF_RESIDENCIA</th>\n",
       "      <th>SG_UF_RESIDENCIA</th>\n",
       "      <th>NU_IDADE</th>\n",
       "      <th>TP_SEXO</th>\n",
       "      <th>TP_ESTADO_CIVIL</th>\n",
       "      <th>TP_COR_RACA</th>\n",
       "      <th>TP_NACIONALIDADE</th>\n",
       "      <th>CO_MUNICIPIO_NASCIMENTO</th>\n",
       "      <th>NO_MUNICIPIO_NASCIMENTO</th>\n",
       "      <th>CO_UF_NASCIMENTO</th>\n",
       "      <th>SG_UF_NASCIMENTO</th>\n",
       "      <th>TP_ST_CONCLUSAO</th>\n",
       "      <th>TP_ANO_CONCLUIU</th>\n",
       "      <th>TP_ESCOLA</th>\n",
       "      <th>TP_ENSINO</th>\n",
       "      <th>IN_TREINEIRO</th>\n",
       "      <th>CO_ESCOLA</th>\n",
       "      <th>CO_MUNICIPIO_ESC</th>\n",
       "      <th>NO_MUNICIPIO_ESC</th>\n",
       "      <th>CO_UF_ESC</th>\n",
       "      <th>SG_UF_ESC</th>\n",
       "      <th>TP_DEPENDENCIA_ADM_ESC</th>\n",
       "      <th>TP_LOCALIZACAO_ESC</th>\n",
       "      <th>TP_SIT_FUNC_ESC</th>\n",
       "      <th>IN_BAIXA_VISAO</th>\n",
       "      <th>IN_CEGUEIRA</th>\n",
       "      <th>IN_SURDEZ</th>\n",
       "      <th>IN_DEFICIENCIA_AUDITIVA</th>\n",
       "      <th>IN_SURDO_CEGUEIRA</th>\n",
       "      <th>IN_DEFICIENCIA_FISICA</th>\n",
       "      <th>IN_DEFICIENCIA_MENTAL</th>\n",
       "      <th>IN_DEFICIT_ATENCAO</th>\n",
       "      <th>IN_DISLEXIA</th>\n",
       "      <th>IN_DISCALCULIA</th>\n",
       "      <th>IN_AUTISMO</th>\n",
       "      <th>IN_VISAO_MONOCULAR</th>\n",
       "      <th>IN_OUTRA_DEF</th>\n",
       "      <th>IN_GESTANTE</th>\n",
       "      <th>IN_LACTANTE</th>\n",
       "      <th>IN_IDOSO</th>\n",
       "      <th>IN_ESTUDA_CLASSE_HOSPITALAR</th>\n",
       "      <th>IN_SEM_RECURSO</th>\n",
       "      <th>IN_BRAILLE</th>\n",
       "      <th>IN_AMPLIADA_24</th>\n",
       "      <th>IN_AMPLIADA_18</th>\n",
       "      <th>IN_LEDOR</th>\n",
       "      <th>IN_ACESSO</th>\n",
       "      <th>IN_TRANSCRICAO</th>\n",
       "      <th>IN_LIBRAS</th>\n",
       "      <th>IN_LEITURA_LABIAL</th>\n",
       "      <th>IN_MESA_CADEIRA_RODAS</th>\n",
       "      <th>IN_MESA_CADEIRA_SEPARADA</th>\n",
       "      <th>IN_APOIO_PERNA</th>\n",
       "      <th>IN_GUIA_INTERPRETE</th>\n",
       "      <th>IN_COMPUTADOR</th>\n",
       "      <th>IN_CADEIRA_ESPECIAL</th>\n",
       "      <th>IN_CADEIRA_CANHOTO</th>\n",
       "      <th>IN_CADEIRA_ACOLCHOADA</th>\n",
       "      <th>IN_PROVA_DEITADO</th>\n",
       "      <th>IN_MOBILIARIO_OBESO</th>\n",
       "      <th>IN_LAMINA_OVERLAY</th>\n",
       "      <th>IN_PROTETOR_AURICULAR</th>\n",
       "      <th>IN_MEDIDOR_GLICOSE</th>\n",
       "      <th>IN_MAQUINA_BRAILE</th>\n",
       "      <th>IN_SOROBAN</th>\n",
       "      <th>IN_MARCA_PASSO</th>\n",
       "      <th>IN_SONDA</th>\n",
       "      <th>IN_MEDICAMENTOS</th>\n",
       "      <th>IN_SALA_INDIVIDUAL</th>\n",
       "      <th>IN_SALA_ESPECIAL</th>\n",
       "      <th>IN_SALA_ACOMPANHANTE</th>\n",
       "      <th>IN_MOBILIARIO_ESPECIFICO</th>\n",
       "      <th>IN_MATERIAL_ESPECIFICO</th>\n",
       "      <th>IN_NOME_SOCIAL</th>\n",
       "      <th>CO_MUNICIPIO_PROVA</th>\n",
       "      <th>NO_MUNICIPIO_PROVA</th>\n",
       "      <th>CO_UF_PROVA</th>\n",
       "      <th>SG_UF_PROVA</th>\n",
       "      <th>TP_PRESENCA_CN</th>\n",
       "      <th>TP_PRESENCA_CH</th>\n",
       "      <th>TP_PRESENCA_LC</th>\n",
       "      <th>TP_PRESENCA_MT</th>\n",
       "      <th>CO_PROVA_CN</th>\n",
       "      <th>CO_PROVA_CH</th>\n",
       "      <th>CO_PROVA_LC</th>\n",
       "      <th>CO_PROVA_MT</th>\n",
       "      <th>NU_NOTA_CN</th>\n",
       "      <th>NU_NOTA_CH</th>\n",
       "      <th>NU_NOTA_LC</th>\n",
       "      <th>NU_NOTA_MT</th>\n",
       "      <th>TX_RESPOSTAS_CN</th>\n",
       "      <th>TX_RESPOSTAS_CH</th>\n",
       "      <th>TX_RESPOSTAS_LC</th>\n",
       "      <th>TX_RESPOSTAS_MT</th>\n",
       "      <th>TP_LINGUA</th>\n",
       "      <th>TX_GABARITO_CN</th>\n",
       "      <th>TX_GABARITO_CH</th>\n",
       "      <th>TX_GABARITO_LC</th>\n",
       "      <th>TX_GABARITO_MT</th>\n",
       "      <th>TP_STATUS_REDACAO</th>\n",
       "      <th>NU_NOTA_COMP1</th>\n",
       "      <th>NU_NOTA_COMP2</th>\n",
       "      <th>NU_NOTA_COMP3</th>\n",
       "      <th>NU_NOTA_COMP4</th>\n",
       "      <th>NU_NOTA_COMP5</th>\n",
       "      <th>NU_NOTA_REDACAO</th>\n",
       "      <th>Q001</th>\n",
       "      <th>Q002</th>\n",
       "      <th>Q003</th>\n",
       "      <th>Q004</th>\n",
       "      <th>Q005</th>\n",
       "      <th>Q006</th>\n",
       "      <th>Q007</th>\n",
       "      <th>Q008</th>\n",
       "      <th>Q009</th>\n",
       "      <th>Q010</th>\n",
       "      <th>Q011</th>\n",
       "      <th>Q012</th>\n",
       "      <th>Q013</th>\n",
       "      <th>Q014</th>\n",
       "      <th>Q015</th>\n",
       "      <th>Q016</th>\n",
       "      <th>Q017</th>\n",
       "      <th>Q018</th>\n",
       "      <th>Q019</th>\n",
       "      <th>Q020</th>\n",
       "      <th>Q021</th>\n",
       "      <th>Q022</th>\n",
       "      <th>Q023</th>\n",
       "      <th>Q024</th>\n",
       "      <th>Q025</th>\n",
       "      <th>Q026</th>\n",
       "      <th>Q027</th>\n",
       "    </tr>\n",
       "  </thead>\n",
       "  <tbody>\n",
       "    <tr>\n",
       "      <th>54063</th>\n",
       "      <td>1.700000e+11</td>\n",
       "      <td>2017.0</td>\n",
       "      <td>2401305.0</td>\n",
       "      <td>Augusto Severo</td>\n",
       "      <td>24.0</td>\n",
       "      <td>RN</td>\n",
       "      <td>18.0</td>\n",
       "      <td>M</td>\n",
       "      <td>0.0</td>\n",
       "      <td>3.0</td>\n",
       "      <td>1.0</td>\n",
       "      <td>2409308.0</td>\n",
       "      <td>Patu</td>\n",
       "      <td>24.0</td>\n",
       "      <td>RN</td>\n",
       "      <td>1.0</td>\n",
       "      <td>2.0</td>\n",
       "      <td>1.0</td>\n",
       "      <td>NaN</td>\n",
       "      <td>0.0</td>\n",
       "      <td>NaN</td>\n",
       "      <td>NaN</td>\n",
       "      <td>NaN</td>\n",
       "      <td>NaN</td>\n",
       "      <td>NaN</td>\n",
       "      <td>NaN</td>\n",
       "      <td>NaN</td>\n",
       "      <td>NaN</td>\n",
       "      <td>0.0</td>\n",
       "      <td>0.0</td>\n",
       "      <td>0.0</td>\n",
       "      <td>0.0</td>\n",
       "      <td>0.0</td>\n",
       "      <td>0.0</td>\n",
       "      <td>0.0</td>\n",
       "      <td>0.0</td>\n",
       "      <td>0.0</td>\n",
       "      <td>0.0</td>\n",
       "      <td>0.0</td>\n",
       "      <td>0.0</td>\n",
       "      <td>0.0</td>\n",
       "      <td>0.0</td>\n",
       "      <td>0.0</td>\n",
       "      <td>0.0</td>\n",
       "      <td>0.0</td>\n",
       "      <td>0.0</td>\n",
       "      <td>0.0</td>\n",
       "      <td>0.0</td>\n",
       "      <td>0.0</td>\n",
       "      <td>0.0</td>\n",
       "      <td>0.0</td>\n",
       "      <td>0.0</td>\n",
       "      <td>0.0</td>\n",
       "      <td>0.0</td>\n",
       "      <td>0.0</td>\n",
       "      <td>0.0</td>\n",
       "      <td>0.0</td>\n",
       "      <td>0.0</td>\n",
       "      <td>0.0</td>\n",
       "      <td>0.0</td>\n",
       "      <td>0.0</td>\n",
       "      <td>0.0</td>\n",
       "      <td>0.0</td>\n",
       "      <td>0.0</td>\n",
       "      <td>0.0</td>\n",
       "      <td>0.0</td>\n",
       "      <td>0.0</td>\n",
       "      <td>0.0</td>\n",
       "      <td>0.0</td>\n",
       "      <td>0.0</td>\n",
       "      <td>0.0</td>\n",
       "      <td>0.0</td>\n",
       "      <td>0.0</td>\n",
       "      <td>0.0</td>\n",
       "      <td>0.0</td>\n",
       "      <td>0.0</td>\n",
       "      <td>0.0</td>\n",
       "      <td>0.0</td>\n",
       "      <td>2402303.0</td>\n",
       "      <td>Caraúbas</td>\n",
       "      <td>24.0</td>\n",
       "      <td>RN</td>\n",
       "      <td>1.0</td>\n",
       "      <td>1.0</td>\n",
       "      <td>1.0</td>\n",
       "      <td>1.0</td>\n",
       "      <td>394.0</td>\n",
       "      <td>397.0</td>\n",
       "      <td>402.0</td>\n",
       "      <td>405.0</td>\n",
       "      <td>428.4</td>\n",
       "      <td>554.6</td>\n",
       "      <td>523.4</td>\n",
       "      <td>530.9</td>\n",
       "      <td>CABDDBEDDDAACDABDBAAEBDECBDBBEBAEDCDEBACDDDBA</td>\n",
       "      <td>EBDEBBDCECEBCBAAABECBAECCDECCBEDBBBADBEACDAEA</td>\n",
       "      <td>99999ECAECCECADECEACCDBDABBDEEBDDBBCBDDADEEDDBCCCD</td>\n",
       "      <td>CBDBEBADDBCBDADCBBBEBBCDACADBBCAEBDDCBCAEAADB</td>\n",
       "      <td>1.0</td>\n",
       "      <td>EEAAECDCCDADAADECDCBCDAAEDEEBABCEDDCBEBAABCBB</td>\n",
       "      <td>ECAEBCDDECADBEABDDBDBDAEBCCCCDEAEDAEBBEDABAEC</td>\n",
       "      <td>DDCDEEDBEECEBADEDEABEDBBBDBCCABAAAABCBDAEDEDDBCDAE</td>\n",
       "      <td>BBDBADBEECDCCECAEBBDDEDDCCBBACADAEACEADABDECB</td>\n",
       "      <td>1.0</td>\n",
       "      <td>160.0</td>\n",
       "      <td>140.0</td>\n",
       "      <td>120.0</td>\n",
       "      <td>100.0</td>\n",
       "      <td>100.0</td>\n",
       "      <td>620.0</td>\n",
       "      <td>A</td>\n",
       "      <td>C</td>\n",
       "      <td>A</td>\n",
       "      <td>A</td>\n",
       "      <td>3.0</td>\n",
       "      <td>B</td>\n",
       "      <td>A</td>\n",
       "      <td>B</td>\n",
       "      <td>C</td>\n",
       "      <td>A</td>\n",
       "      <td>A</td>\n",
       "      <td>B</td>\n",
       "      <td>A</td>\n",
       "      <td>A</td>\n",
       "      <td>A</td>\n",
       "      <td>A</td>\n",
       "      <td>A</td>\n",
       "      <td>A</td>\n",
       "      <td>B</td>\n",
       "      <td>A</td>\n",
       "      <td>A</td>\n",
       "      <td>B</td>\n",
       "      <td>A</td>\n",
       "      <td>A</td>\n",
       "      <td>A</td>\n",
       "      <td>A</td>\n",
       "      <td>A</td>\n",
       "    </tr>\n",
       "    <tr>\n",
       "      <th>74480</th>\n",
       "      <td>1.700033e+11</td>\n",
       "      <td>2017.0</td>\n",
       "      <td>2512903.0</td>\n",
       "      <td>Rio Tinto</td>\n",
       "      <td>25.0</td>\n",
       "      <td>PB</td>\n",
       "      <td>17.0</td>\n",
       "      <td>M</td>\n",
       "      <td>0.0</td>\n",
       "      <td>5.0</td>\n",
       "      <td>1.0</td>\n",
       "      <td>2512903.0</td>\n",
       "      <td>Rio Tinto</td>\n",
       "      <td>25.0</td>\n",
       "      <td>PB</td>\n",
       "      <td>2.0</td>\n",
       "      <td>0.0</td>\n",
       "      <td>2.0</td>\n",
       "      <td>1.0</td>\n",
       "      <td>0.0</td>\n",
       "      <td>25087878.0</td>\n",
       "      <td>2512903.0</td>\n",
       "      <td>Rio Tinto</td>\n",
       "      <td>25.0</td>\n",
       "      <td>PB</td>\n",
       "      <td>2.0</td>\n",
       "      <td>1.0</td>\n",
       "      <td>1.0</td>\n",
       "      <td>0.0</td>\n",
       "      <td>0.0</td>\n",
       "      <td>0.0</td>\n",
       "      <td>0.0</td>\n",
       "      <td>0.0</td>\n",
       "      <td>0.0</td>\n",
       "      <td>0.0</td>\n",
       "      <td>0.0</td>\n",
       "      <td>0.0</td>\n",
       "      <td>0.0</td>\n",
       "      <td>0.0</td>\n",
       "      <td>0.0</td>\n",
       "      <td>0.0</td>\n",
       "      <td>0.0</td>\n",
       "      <td>0.0</td>\n",
       "      <td>0.0</td>\n",
       "      <td>0.0</td>\n",
       "      <td>0.0</td>\n",
       "      <td>0.0</td>\n",
       "      <td>0.0</td>\n",
       "      <td>0.0</td>\n",
       "      <td>0.0</td>\n",
       "      <td>0.0</td>\n",
       "      <td>0.0</td>\n",
       "      <td>0.0</td>\n",
       "      <td>0.0</td>\n",
       "      <td>0.0</td>\n",
       "      <td>0.0</td>\n",
       "      <td>0.0</td>\n",
       "      <td>0.0</td>\n",
       "      <td>0.0</td>\n",
       "      <td>0.0</td>\n",
       "      <td>0.0</td>\n",
       "      <td>0.0</td>\n",
       "      <td>0.0</td>\n",
       "      <td>0.0</td>\n",
       "      <td>0.0</td>\n",
       "      <td>0.0</td>\n",
       "      <td>0.0</td>\n",
       "      <td>0.0</td>\n",
       "      <td>0.0</td>\n",
       "      <td>0.0</td>\n",
       "      <td>0.0</td>\n",
       "      <td>0.0</td>\n",
       "      <td>0.0</td>\n",
       "      <td>0.0</td>\n",
       "      <td>0.0</td>\n",
       "      <td>0.0</td>\n",
       "      <td>0.0</td>\n",
       "      <td>0.0</td>\n",
       "      <td>2512903.0</td>\n",
       "      <td>Rio Tinto</td>\n",
       "      <td>25.0</td>\n",
       "      <td>PB</td>\n",
       "      <td>1.0</td>\n",
       "      <td>1.0</td>\n",
       "      <td>1.0</td>\n",
       "      <td>1.0</td>\n",
       "      <td>391.0</td>\n",
       "      <td>396.0</td>\n",
       "      <td>400.0</td>\n",
       "      <td>403.0</td>\n",
       "      <td>548.7</td>\n",
       "      <td>633.1</td>\n",
       "      <td>560.3</td>\n",
       "      <td>553.1</td>\n",
       "      <td>DDAECADCEBEABCCCAEDAEADAACBEAEDECABBDCBDDEBBC</td>\n",
       "      <td>CACBEACAECBDEBBABCEDBADCCABAAEABEBECAADBCDDEC</td>\n",
       "      <td>EDDCA99999BBEBDAEDAACAABDDBEEDBEDABABBEBDBCEDADBCE</td>\n",
       "      <td>CDDAADADADBCBBECEEABDCDCACBEEAEADBCEAEBABCDCE</td>\n",
       "      <td>0.0</td>\n",
       "      <td>DEEBDABCBBEDDCBABCADECEBAADAAECDCBCCDACDEEAAE</td>\n",
       "      <td>CDEAEECAEBDBDBBAECDAEBCCCDAEBEABDBEDAADBCDDEC</td>\n",
       "      <td>EDDCDBEEDECCEBDAEDAEDAABEDBBADEDEDDABAABBDCBEABBCC</td>\n",
       "      <td>ADBCCECBBDBAEBBDDDABDCCDEDECBEACDAEAABBACEECD</td>\n",
       "      <td>1.0</td>\n",
       "      <td>160.0</td>\n",
       "      <td>160.0</td>\n",
       "      <td>160.0</td>\n",
       "      <td>200.0</td>\n",
       "      <td>160.0</td>\n",
       "      <td>840.0</td>\n",
       "      <td>C</td>\n",
       "      <td>C</td>\n",
       "      <td>B</td>\n",
       "      <td>F</td>\n",
       "      <td>6.0</td>\n",
       "      <td>C</td>\n",
       "      <td>A</td>\n",
       "      <td>B</td>\n",
       "      <td>D</td>\n",
       "      <td>A</td>\n",
       "      <td>A</td>\n",
       "      <td>B</td>\n",
       "      <td>A</td>\n",
       "      <td>A</td>\n",
       "      <td>A</td>\n",
       "      <td>A</td>\n",
       "      <td>A</td>\n",
       "      <td>A</td>\n",
       "      <td>B</td>\n",
       "      <td>A</td>\n",
       "      <td>A</td>\n",
       "      <td>D</td>\n",
       "      <td>B</td>\n",
       "      <td>B</td>\n",
       "      <td>B</td>\n",
       "      <td>B</td>\n",
       "      <td>A</td>\n",
       "    </tr>\n",
       "    <tr>\n",
       "      <th>26659</th>\n",
       "      <td>1.700017e+11</td>\n",
       "      <td>2017.0</td>\n",
       "      <td>4316907.0</td>\n",
       "      <td>Santa Maria</td>\n",
       "      <td>43.0</td>\n",
       "      <td>RS</td>\n",
       "      <td>20.0</td>\n",
       "      <td>F</td>\n",
       "      <td>0.0</td>\n",
       "      <td>1.0</td>\n",
       "      <td>1.0</td>\n",
       "      <td>4316907.0</td>\n",
       "      <td>Santa Maria</td>\n",
       "      <td>43.0</td>\n",
       "      <td>RS</td>\n",
       "      <td>1.0</td>\n",
       "      <td>2.0</td>\n",
       "      <td>1.0</td>\n",
       "      <td>NaN</td>\n",
       "      <td>0.0</td>\n",
       "      <td>NaN</td>\n",
       "      <td>NaN</td>\n",
       "      <td>NaN</td>\n",
       "      <td>NaN</td>\n",
       "      <td>NaN</td>\n",
       "      <td>NaN</td>\n",
       "      <td>NaN</td>\n",
       "      <td>NaN</td>\n",
       "      <td>0.0</td>\n",
       "      <td>0.0</td>\n",
       "      <td>0.0</td>\n",
       "      <td>0.0</td>\n",
       "      <td>0.0</td>\n",
       "      <td>0.0</td>\n",
       "      <td>0.0</td>\n",
       "      <td>0.0</td>\n",
       "      <td>0.0</td>\n",
       "      <td>0.0</td>\n",
       "      <td>0.0</td>\n",
       "      <td>0.0</td>\n",
       "      <td>0.0</td>\n",
       "      <td>0.0</td>\n",
       "      <td>0.0</td>\n",
       "      <td>0.0</td>\n",
       "      <td>0.0</td>\n",
       "      <td>0.0</td>\n",
       "      <td>0.0</td>\n",
       "      <td>0.0</td>\n",
       "      <td>0.0</td>\n",
       "      <td>0.0</td>\n",
       "      <td>0.0</td>\n",
       "      <td>0.0</td>\n",
       "      <td>0.0</td>\n",
       "      <td>0.0</td>\n",
       "      <td>0.0</td>\n",
       "      <td>0.0</td>\n",
       "      <td>0.0</td>\n",
       "      <td>0.0</td>\n",
       "      <td>0.0</td>\n",
       "      <td>0.0</td>\n",
       "      <td>0.0</td>\n",
       "      <td>0.0</td>\n",
       "      <td>0.0</td>\n",
       "      <td>0.0</td>\n",
       "      <td>0.0</td>\n",
       "      <td>0.0</td>\n",
       "      <td>0.0</td>\n",
       "      <td>0.0</td>\n",
       "      <td>0.0</td>\n",
       "      <td>0.0</td>\n",
       "      <td>0.0</td>\n",
       "      <td>0.0</td>\n",
       "      <td>0.0</td>\n",
       "      <td>0.0</td>\n",
       "      <td>0.0</td>\n",
       "      <td>0.0</td>\n",
       "      <td>0.0</td>\n",
       "      <td>0.0</td>\n",
       "      <td>4316907.0</td>\n",
       "      <td>Santa Maria</td>\n",
       "      <td>43.0</td>\n",
       "      <td>RS</td>\n",
       "      <td>1.0</td>\n",
       "      <td>1.0</td>\n",
       "      <td>1.0</td>\n",
       "      <td>1.0</td>\n",
       "      <td>393.0</td>\n",
       "      <td>396.0</td>\n",
       "      <td>400.0</td>\n",
       "      <td>406.0</td>\n",
       "      <td>580.8</td>\n",
       "      <td>604.9</td>\n",
       "      <td>573.7</td>\n",
       "      <td>578.2</td>\n",
       "      <td>BCACDBBBBADEBABADBBEDAACDACEEBAEBBEEADABBAADD</td>\n",
       "      <td>CBABEEBAADBBDEEACCCBEBDCEDBAAEAAABCDAAAEADCEC</td>\n",
       "      <td>99999BEDDECCDBDEECBEEABDBDBEADEDDDBABDABADDEECDBCE</td>\n",
       "      <td>DBCACECABBDBADCBCADCAEBDEABBCDEBECBAABABDBDCB</td>\n",
       "      <td>1.0</td>\n",
       "      <td>CCDACDEEAAEABCDAAECDCBADECDEEBDACBEDDBCBBEBAA</td>\n",
       "      <td>CDEAEECAEBDBDBBAECDAEBCCCDAEBEABDBEDAADBCDDEC</td>\n",
       "      <td>EDDCDBEEDECCEBDAEDAEDAABEDBBADEDEDDABAABBDCBEABBCC</td>\n",
       "      <td>EECDCCECBDBBDBAEBADBECBDDABDEDEAADCCDAEACBBAC</td>\n",
       "      <td>1.0</td>\n",
       "      <td>160.0</td>\n",
       "      <td>200.0</td>\n",
       "      <td>180.0</td>\n",
       "      <td>180.0</td>\n",
       "      <td>80.0</td>\n",
       "      <td>800.0</td>\n",
       "      <td>C</td>\n",
       "      <td>B</td>\n",
       "      <td>D</td>\n",
       "      <td>B</td>\n",
       "      <td>4.0</td>\n",
       "      <td>I</td>\n",
       "      <td>A</td>\n",
       "      <td>B</td>\n",
       "      <td>D</td>\n",
       "      <td>B</td>\n",
       "      <td>A</td>\n",
       "      <td>B</td>\n",
       "      <td>B</td>\n",
       "      <td>B</td>\n",
       "      <td>A</td>\n",
       "      <td>B</td>\n",
       "      <td>A</td>\n",
       "      <td>B</td>\n",
       "      <td>E</td>\n",
       "      <td>B</td>\n",
       "      <td>A</td>\n",
       "      <td>E</td>\n",
       "      <td>A</td>\n",
       "      <td>B</td>\n",
       "      <td>B</td>\n",
       "      <td>A</td>\n",
       "      <td>D</td>\n",
       "    </tr>\n",
       "    <tr>\n",
       "      <th>101531</th>\n",
       "      <td>1.700000e+11</td>\n",
       "      <td>2017.0</td>\n",
       "      <td>2913606.0</td>\n",
       "      <td>Ilhéus</td>\n",
       "      <td>29.0</td>\n",
       "      <td>BA</td>\n",
       "      <td>21.0</td>\n",
       "      <td>F</td>\n",
       "      <td>0.0</td>\n",
       "      <td>2.0</td>\n",
       "      <td>1.0</td>\n",
       "      <td>2913606.0</td>\n",
       "      <td>Ilhéus</td>\n",
       "      <td>29.0</td>\n",
       "      <td>BA</td>\n",
       "      <td>1.0</td>\n",
       "      <td>2.0</td>\n",
       "      <td>1.0</td>\n",
       "      <td>NaN</td>\n",
       "      <td>0.0</td>\n",
       "      <td>NaN</td>\n",
       "      <td>NaN</td>\n",
       "      <td>NaN</td>\n",
       "      <td>NaN</td>\n",
       "      <td>NaN</td>\n",
       "      <td>NaN</td>\n",
       "      <td>NaN</td>\n",
       "      <td>NaN</td>\n",
       "      <td>0.0</td>\n",
       "      <td>0.0</td>\n",
       "      <td>0.0</td>\n",
       "      <td>0.0</td>\n",
       "      <td>0.0</td>\n",
       "      <td>0.0</td>\n",
       "      <td>0.0</td>\n",
       "      <td>0.0</td>\n",
       "      <td>0.0</td>\n",
       "      <td>0.0</td>\n",
       "      <td>0.0</td>\n",
       "      <td>0.0</td>\n",
       "      <td>0.0</td>\n",
       "      <td>0.0</td>\n",
       "      <td>0.0</td>\n",
       "      <td>0.0</td>\n",
       "      <td>0.0</td>\n",
       "      <td>0.0</td>\n",
       "      <td>0.0</td>\n",
       "      <td>0.0</td>\n",
       "      <td>0.0</td>\n",
       "      <td>0.0</td>\n",
       "      <td>0.0</td>\n",
       "      <td>0.0</td>\n",
       "      <td>0.0</td>\n",
       "      <td>0.0</td>\n",
       "      <td>0.0</td>\n",
       "      <td>0.0</td>\n",
       "      <td>0.0</td>\n",
       "      <td>0.0</td>\n",
       "      <td>0.0</td>\n",
       "      <td>0.0</td>\n",
       "      <td>0.0</td>\n",
       "      <td>0.0</td>\n",
       "      <td>0.0</td>\n",
       "      <td>0.0</td>\n",
       "      <td>0.0</td>\n",
       "      <td>0.0</td>\n",
       "      <td>0.0</td>\n",
       "      <td>0.0</td>\n",
       "      <td>0.0</td>\n",
       "      <td>0.0</td>\n",
       "      <td>0.0</td>\n",
       "      <td>0.0</td>\n",
       "      <td>0.0</td>\n",
       "      <td>0.0</td>\n",
       "      <td>0.0</td>\n",
       "      <td>0.0</td>\n",
       "      <td>0.0</td>\n",
       "      <td>0.0</td>\n",
       "      <td>2913606.0</td>\n",
       "      <td>Ilhéus</td>\n",
       "      <td>29.0</td>\n",
       "      <td>BA</td>\n",
       "      <td>1.0</td>\n",
       "      <td>1.0</td>\n",
       "      <td>1.0</td>\n",
       "      <td>1.0</td>\n",
       "      <td>393.0</td>\n",
       "      <td>396.0</td>\n",
       "      <td>400.0</td>\n",
       "      <td>406.0</td>\n",
       "      <td>443.4</td>\n",
       "      <td>476.7</td>\n",
       "      <td>476.4</td>\n",
       "      <td>376.1</td>\n",
       "      <td>BAACADAACBEBDCBCBDEEDCBBACEABDABEBBABDDBBDADC</td>\n",
       "      <td>BDCDDDEBABBEEEBADAEABDCCEDBEBCEABBDEEADEDACBC</td>\n",
       "      <td>99999BAEBCADCBDBABAEECCACDEEADEECEADEBDCCCEDEACBBE</td>\n",
       "      <td>BDCBCBCBAACACBCEECCAEECEBDCCABAACABBAEBCACBCE</td>\n",
       "      <td>1.0</td>\n",
       "      <td>CCDACDEEAAEABCDAAECDCBADECDEEBDACBEDDBCBBEBAA</td>\n",
       "      <td>CDEAEECAEBDBDBBAECDAEBCCCDAEBEABDBEDAADBCDDEC</td>\n",
       "      <td>EDDCDBEEDECCEBDAEDAEDAABEDBBADEDEDDABAABBDCBEABBCC</td>\n",
       "      <td>EECDCCECBDBBDBAEBADBECBDDABDEDEAADCCDAEACBBAC</td>\n",
       "      <td>1.0</td>\n",
       "      <td>160.0</td>\n",
       "      <td>120.0</td>\n",
       "      <td>100.0</td>\n",
       "      <td>120.0</td>\n",
       "      <td>60.0</td>\n",
       "      <td>560.0</td>\n",
       "      <td>E</td>\n",
       "      <td>E</td>\n",
       "      <td>B</td>\n",
       "      <td>B</td>\n",
       "      <td>5.0</td>\n",
       "      <td>C</td>\n",
       "      <td>A</td>\n",
       "      <td>B</td>\n",
       "      <td>B</td>\n",
       "      <td>A</td>\n",
       "      <td>A</td>\n",
       "      <td>B</td>\n",
       "      <td>A</td>\n",
       "      <td>A</td>\n",
       "      <td>A</td>\n",
       "      <td>B</td>\n",
       "      <td>A</td>\n",
       "      <td>A</td>\n",
       "      <td>B</td>\n",
       "      <td>A</td>\n",
       "      <td>A</td>\n",
       "      <td>B</td>\n",
       "      <td>A</td>\n",
       "      <td>A</td>\n",
       "      <td>A</td>\n",
       "      <td>A</td>\n",
       "      <td>B</td>\n",
       "    </tr>\n",
       "    <tr>\n",
       "      <th>6435</th>\n",
       "      <td>1.700033e+11</td>\n",
       "      <td>2017.0</td>\n",
       "      <td>5210000.0</td>\n",
       "      <td>Inhumas</td>\n",
       "      <td>52.0</td>\n",
       "      <td>GO</td>\n",
       "      <td>22.0</td>\n",
       "      <td>F</td>\n",
       "      <td>0.0</td>\n",
       "      <td>1.0</td>\n",
       "      <td>2.0</td>\n",
       "      <td>NaN</td>\n",
       "      <td>NaN</td>\n",
       "      <td>NaN</td>\n",
       "      <td>NaN</td>\n",
       "      <td>1.0</td>\n",
       "      <td>4.0</td>\n",
       "      <td>1.0</td>\n",
       "      <td>NaN</td>\n",
       "      <td>0.0</td>\n",
       "      <td>NaN</td>\n",
       "      <td>NaN</td>\n",
       "      <td>NaN</td>\n",
       "      <td>NaN</td>\n",
       "      <td>NaN</td>\n",
       "      <td>NaN</td>\n",
       "      <td>NaN</td>\n",
       "      <td>NaN</td>\n",
       "      <td>0.0</td>\n",
       "      <td>0.0</td>\n",
       "      <td>0.0</td>\n",
       "      <td>0.0</td>\n",
       "      <td>0.0</td>\n",
       "      <td>0.0</td>\n",
       "      <td>0.0</td>\n",
       "      <td>0.0</td>\n",
       "      <td>0.0</td>\n",
       "      <td>0.0</td>\n",
       "      <td>0.0</td>\n",
       "      <td>0.0</td>\n",
       "      <td>0.0</td>\n",
       "      <td>0.0</td>\n",
       "      <td>0.0</td>\n",
       "      <td>0.0</td>\n",
       "      <td>0.0</td>\n",
       "      <td>0.0</td>\n",
       "      <td>0.0</td>\n",
       "      <td>0.0</td>\n",
       "      <td>0.0</td>\n",
       "      <td>0.0</td>\n",
       "      <td>0.0</td>\n",
       "      <td>0.0</td>\n",
       "      <td>0.0</td>\n",
       "      <td>0.0</td>\n",
       "      <td>0.0</td>\n",
       "      <td>0.0</td>\n",
       "      <td>0.0</td>\n",
       "      <td>0.0</td>\n",
       "      <td>0.0</td>\n",
       "      <td>0.0</td>\n",
       "      <td>0.0</td>\n",
       "      <td>0.0</td>\n",
       "      <td>0.0</td>\n",
       "      <td>0.0</td>\n",
       "      <td>0.0</td>\n",
       "      <td>0.0</td>\n",
       "      <td>0.0</td>\n",
       "      <td>0.0</td>\n",
       "      <td>0.0</td>\n",
       "      <td>0.0</td>\n",
       "      <td>0.0</td>\n",
       "      <td>0.0</td>\n",
       "      <td>0.0</td>\n",
       "      <td>0.0</td>\n",
       "      <td>0.0</td>\n",
       "      <td>0.0</td>\n",
       "      <td>0.0</td>\n",
       "      <td>0.0</td>\n",
       "      <td>5210000.0</td>\n",
       "      <td>Inhumas</td>\n",
       "      <td>52.0</td>\n",
       "      <td>GO</td>\n",
       "      <td>0.0</td>\n",
       "      <td>0.0</td>\n",
       "      <td>0.0</td>\n",
       "      <td>0.0</td>\n",
       "      <td>NaN</td>\n",
       "      <td>NaN</td>\n",
       "      <td>NaN</td>\n",
       "      <td>NaN</td>\n",
       "      <td>NaN</td>\n",
       "      <td>NaN</td>\n",
       "      <td>NaN</td>\n",
       "      <td>NaN</td>\n",
       "      <td>NaN</td>\n",
       "      <td>NaN</td>\n",
       "      <td>NaN</td>\n",
       "      <td>NaN</td>\n",
       "      <td>0.0</td>\n",
       "      <td>NaN</td>\n",
       "      <td>NaN</td>\n",
       "      <td>NaN</td>\n",
       "      <td>NaN</td>\n",
       "      <td>NaN</td>\n",
       "      <td>NaN</td>\n",
       "      <td>NaN</td>\n",
       "      <td>NaN</td>\n",
       "      <td>NaN</td>\n",
       "      <td>NaN</td>\n",
       "      <td>NaN</td>\n",
       "      <td>E</td>\n",
       "      <td>C</td>\n",
       "      <td>B</td>\n",
       "      <td>B</td>\n",
       "      <td>5.0</td>\n",
       "      <td>G</td>\n",
       "      <td>A</td>\n",
       "      <td>B</td>\n",
       "      <td>C</td>\n",
       "      <td>B</td>\n",
       "      <td>C</td>\n",
       "      <td>B</td>\n",
       "      <td>A</td>\n",
       "      <td>B</td>\n",
       "      <td>A</td>\n",
       "      <td>A</td>\n",
       "      <td>A</td>\n",
       "      <td>A</td>\n",
       "      <td>C</td>\n",
       "      <td>B</td>\n",
       "      <td>B</td>\n",
       "      <td>B</td>\n",
       "      <td>A</td>\n",
       "      <td>B</td>\n",
       "      <td>B</td>\n",
       "      <td>A</td>\n",
       "      <td>A</td>\n",
       "    </tr>\n",
       "  </tbody>\n",
       "</table>\n",
       "</div>"
      ],
      "text/plain": [
       "        NU_INSCRICAO  NU_ANO  CO_MUNICIPIO_RESIDENCIA NO_MUNICIPIO_RESIDENCIA  CO_UF_RESIDENCIA  \\\n",
       "54063   1.700000e+11  2017.0                2401305.0          Augusto Severo              24.0   \n",
       "74480   1.700033e+11  2017.0                2512903.0               Rio Tinto              25.0   \n",
       "26659   1.700017e+11  2017.0                4316907.0             Santa Maria              43.0   \n",
       "101531  1.700000e+11  2017.0                2913606.0                  Ilhéus              29.0   \n",
       "6435    1.700033e+11  2017.0                5210000.0                 Inhumas              52.0   \n",
       "\n",
       "       SG_UF_RESIDENCIA  NU_IDADE TP_SEXO  TP_ESTADO_CIVIL  TP_COR_RACA  TP_NACIONALIDADE  \\\n",
       "54063                RN      18.0       M              0.0          3.0               1.0   \n",
       "74480                PB      17.0       M              0.0          5.0               1.0   \n",
       "26659                RS      20.0       F              0.0          1.0               1.0   \n",
       "101531               BA      21.0       F              0.0          2.0               1.0   \n",
       "6435                 GO      22.0       F              0.0          1.0               2.0   \n",
       "\n",
       "        CO_MUNICIPIO_NASCIMENTO NO_MUNICIPIO_NASCIMENTO  CO_UF_NASCIMENTO SG_UF_NASCIMENTO  \\\n",
       "54063                 2409308.0                    Patu              24.0               RN   \n",
       "74480                 2512903.0               Rio Tinto              25.0               PB   \n",
       "26659                 4316907.0             Santa Maria              43.0               RS   \n",
       "101531                2913606.0                  Ilhéus              29.0               BA   \n",
       "6435                        NaN                     NaN               NaN              NaN   \n",
       "\n",
       "        TP_ST_CONCLUSAO  TP_ANO_CONCLUIU  TP_ESCOLA  TP_ENSINO  IN_TREINEIRO   CO_ESCOLA  \\\n",
       "54063               1.0              2.0        1.0        NaN           0.0         NaN   \n",
       "74480               2.0              0.0        2.0        1.0           0.0  25087878.0   \n",
       "26659               1.0              2.0        1.0        NaN           0.0         NaN   \n",
       "101531              1.0              2.0        1.0        NaN           0.0         NaN   \n",
       "6435                1.0              4.0        1.0        NaN           0.0         NaN   \n",
       "\n",
       "        CO_MUNICIPIO_ESC NO_MUNICIPIO_ESC  CO_UF_ESC SG_UF_ESC  TP_DEPENDENCIA_ADM_ESC  \\\n",
       "54063                NaN              NaN        NaN       NaN                     NaN   \n",
       "74480          2512903.0        Rio Tinto       25.0        PB                     2.0   \n",
       "26659                NaN              NaN        NaN       NaN                     NaN   \n",
       "101531               NaN              NaN        NaN       NaN                     NaN   \n",
       "6435                 NaN              NaN        NaN       NaN                     NaN   \n",
       "\n",
       "        TP_LOCALIZACAO_ESC  TP_SIT_FUNC_ESC  IN_BAIXA_VISAO  IN_CEGUEIRA  IN_SURDEZ  \\\n",
       "54063                  NaN              NaN             0.0          0.0        0.0   \n",
       "74480                  1.0              1.0             0.0          0.0        0.0   \n",
       "26659                  NaN              NaN             0.0          0.0        0.0   \n",
       "101531                 NaN              NaN             0.0          0.0        0.0   \n",
       "6435                   NaN              NaN             0.0          0.0        0.0   \n",
       "\n",
       "        IN_DEFICIENCIA_AUDITIVA  IN_SURDO_CEGUEIRA  IN_DEFICIENCIA_FISICA  IN_DEFICIENCIA_MENTAL  \\\n",
       "54063                       0.0                0.0                    0.0                    0.0   \n",
       "74480                       0.0                0.0                    0.0                    0.0   \n",
       "26659                       0.0                0.0                    0.0                    0.0   \n",
       "101531                      0.0                0.0                    0.0                    0.0   \n",
       "6435                        0.0                0.0                    0.0                    0.0   \n",
       "\n",
       "        IN_DEFICIT_ATENCAO  IN_DISLEXIA  IN_DISCALCULIA  IN_AUTISMO  IN_VISAO_MONOCULAR  \\\n",
       "54063                  0.0          0.0             0.0         0.0                 0.0   \n",
       "74480                  0.0          0.0             0.0         0.0                 0.0   \n",
       "26659                  0.0          0.0             0.0         0.0                 0.0   \n",
       "101531                 0.0          0.0             0.0         0.0                 0.0   \n",
       "6435                   0.0          0.0             0.0         0.0                 0.0   \n",
       "\n",
       "        IN_OUTRA_DEF  IN_GESTANTE  IN_LACTANTE  IN_IDOSO  IN_ESTUDA_CLASSE_HOSPITALAR  \\\n",
       "54063            0.0          0.0          0.0       0.0                          0.0   \n",
       "74480            0.0          0.0          0.0       0.0                          0.0   \n",
       "26659            0.0          0.0          0.0       0.0                          0.0   \n",
       "101531           0.0          0.0          0.0       0.0                          0.0   \n",
       "6435             0.0          0.0          0.0       0.0                          0.0   \n",
       "\n",
       "        IN_SEM_RECURSO  IN_BRAILLE  IN_AMPLIADA_24  IN_AMPLIADA_18  IN_LEDOR  IN_ACESSO  \\\n",
       "54063              0.0         0.0             0.0             0.0       0.0        0.0   \n",
       "74480              0.0         0.0             0.0             0.0       0.0        0.0   \n",
       "26659              0.0         0.0             0.0             0.0       0.0        0.0   \n",
       "101531             0.0         0.0             0.0             0.0       0.0        0.0   \n",
       "6435               0.0         0.0             0.0             0.0       0.0        0.0   \n",
       "\n",
       "        IN_TRANSCRICAO  IN_LIBRAS  IN_LEITURA_LABIAL  IN_MESA_CADEIRA_RODAS  \\\n",
       "54063              0.0        0.0                0.0                    0.0   \n",
       "74480              0.0        0.0                0.0                    0.0   \n",
       "26659              0.0        0.0                0.0                    0.0   \n",
       "101531             0.0        0.0                0.0                    0.0   \n",
       "6435               0.0        0.0                0.0                    0.0   \n",
       "\n",
       "        IN_MESA_CADEIRA_SEPARADA  IN_APOIO_PERNA  IN_GUIA_INTERPRETE  IN_COMPUTADOR  \\\n",
       "54063                        0.0             0.0                 0.0            0.0   \n",
       "74480                        0.0             0.0                 0.0            0.0   \n",
       "26659                        0.0             0.0                 0.0            0.0   \n",
       "101531                       0.0             0.0                 0.0            0.0   \n",
       "6435                         0.0             0.0                 0.0            0.0   \n",
       "\n",
       "        IN_CADEIRA_ESPECIAL  IN_CADEIRA_CANHOTO  IN_CADEIRA_ACOLCHOADA  IN_PROVA_DEITADO  \\\n",
       "54063                   0.0                 0.0                    0.0               0.0   \n",
       "74480                   0.0                 0.0                    0.0               0.0   \n",
       "26659                   0.0                 0.0                    0.0               0.0   \n",
       "101531                  0.0                 0.0                    0.0               0.0   \n",
       "6435                    0.0                 0.0                    0.0               0.0   \n",
       "\n",
       "        IN_MOBILIARIO_OBESO  IN_LAMINA_OVERLAY  IN_PROTETOR_AURICULAR  IN_MEDIDOR_GLICOSE  \\\n",
       "54063                   0.0                0.0                    0.0                 0.0   \n",
       "74480                   0.0                0.0                    0.0                 0.0   \n",
       "26659                   0.0                0.0                    0.0                 0.0   \n",
       "101531                  0.0                0.0                    0.0                 0.0   \n",
       "6435                    0.0                0.0                    0.0                 0.0   \n",
       "\n",
       "        IN_MAQUINA_BRAILE  IN_SOROBAN  IN_MARCA_PASSO  IN_SONDA  IN_MEDICAMENTOS  \\\n",
       "54063                 0.0         0.0             0.0       0.0              0.0   \n",
       "74480                 0.0         0.0             0.0       0.0              0.0   \n",
       "26659                 0.0         0.0             0.0       0.0              0.0   \n",
       "101531                0.0         0.0             0.0       0.0              0.0   \n",
       "6435                  0.0         0.0             0.0       0.0              0.0   \n",
       "\n",
       "        IN_SALA_INDIVIDUAL  IN_SALA_ESPECIAL  IN_SALA_ACOMPANHANTE  IN_MOBILIARIO_ESPECIFICO  \\\n",
       "54063                  0.0               0.0                   0.0                       0.0   \n",
       "74480                  0.0               0.0                   0.0                       0.0   \n",
       "26659                  0.0               0.0                   0.0                       0.0   \n",
       "101531                 0.0               0.0                   0.0                       0.0   \n",
       "6435                   0.0               0.0                   0.0                       0.0   \n",
       "\n",
       "        IN_MATERIAL_ESPECIFICO  IN_NOME_SOCIAL  CO_MUNICIPIO_PROVA NO_MUNICIPIO_PROVA  \\\n",
       "54063                      0.0             0.0           2402303.0           Caraúbas   \n",
       "74480                      0.0             0.0           2512903.0          Rio Tinto   \n",
       "26659                      0.0             0.0           4316907.0        Santa Maria   \n",
       "101531                     0.0             0.0           2913606.0             Ilhéus   \n",
       "6435                       0.0             0.0           5210000.0            Inhumas   \n",
       "\n",
       "        CO_UF_PROVA SG_UF_PROVA  TP_PRESENCA_CN  TP_PRESENCA_CH  TP_PRESENCA_LC  TP_PRESENCA_MT  \\\n",
       "54063          24.0          RN             1.0             1.0             1.0             1.0   \n",
       "74480          25.0          PB             1.0             1.0             1.0             1.0   \n",
       "26659          43.0          RS             1.0             1.0             1.0             1.0   \n",
       "101531         29.0          BA             1.0             1.0             1.0             1.0   \n",
       "6435           52.0          GO             0.0             0.0             0.0             0.0   \n",
       "\n",
       "        CO_PROVA_CN  CO_PROVA_CH  CO_PROVA_LC  CO_PROVA_MT  NU_NOTA_CN  NU_NOTA_CH  NU_NOTA_LC  \\\n",
       "54063         394.0        397.0        402.0        405.0       428.4       554.6       523.4   \n",
       "74480         391.0        396.0        400.0        403.0       548.7       633.1       560.3   \n",
       "26659         393.0        396.0        400.0        406.0       580.8       604.9       573.7   \n",
       "101531        393.0        396.0        400.0        406.0       443.4       476.7       476.4   \n",
       "6435            NaN          NaN          NaN          NaN         NaN         NaN         NaN   \n",
       "\n",
       "        NU_NOTA_MT                                TX_RESPOSTAS_CN  \\\n",
       "54063        530.9  CABDDBEDDDAACDABDBAAEBDECBDBBEBAEDCDEBACDDDBA   \n",
       "74480        553.1  DDAECADCEBEABCCCAEDAEADAACBEAEDECABBDCBDDEBBC   \n",
       "26659        578.2  BCACDBBBBADEBABADBBEDAACDACEEBAEBBEEADABBAADD   \n",
       "101531       376.1  BAACADAACBEBDCBCBDEEDCBBACEABDABEBBABDDBBDADC   \n",
       "6435           NaN                                            NaN   \n",
       "\n",
       "                                      TX_RESPOSTAS_CH  \\\n",
       "54063   EBDEBBDCECEBCBAAABECBAECCDECCBEDBBBADBEACDAEA   \n",
       "74480   CACBEACAECBDEBBABCEDBADCCABAAEABEBECAADBCDDEC   \n",
       "26659   CBABEEBAADBBDEEACCCBEBDCEDBAAEAAABCDAAAEADCEC   \n",
       "101531  BDCDDDEBABBEEEBADAEABDCCEDBEBCEABBDEEADEDACBC   \n",
       "6435                                              NaN   \n",
       "\n",
       "                                           TX_RESPOSTAS_LC  \\\n",
       "54063   99999ECAECCECADECEACCDBDABBDEEBDDBBCBDDADEEDDBCCCD   \n",
       "74480   EDDCA99999BBEBDAEDAACAABDDBEEDBEDABABBEBDBCEDADBCE   \n",
       "26659   99999BEDDECCDBDEECBEEABDBDBEADEDDDBABDABADDEECDBCE   \n",
       "101531  99999BAEBCADCBDBABAEECCACDEEADEECEADEBDCCCEDEACBBE   \n",
       "6435                                                   NaN   \n",
       "\n",
       "                                      TX_RESPOSTAS_MT  TP_LINGUA  \\\n",
       "54063   CBDBEBADDBCBDADCBBBEBBCDACADBBCAEBDDCBCAEAADB        1.0   \n",
       "74480   CDDAADADADBCBBECEEABDCDCACBEEAEADBCEAEBABCDCE        0.0   \n",
       "26659   DBCACECABBDBADCBCADCAEBDEABBCDEBECBAABABDBDCB        1.0   \n",
       "101531  BDCBCBCBAACACBCEECCAEECEBDCCABAACABBAEBCACBCE        1.0   \n",
       "6435                                              NaN        0.0   \n",
       "\n",
       "                                       TX_GABARITO_CN  \\\n",
       "54063   EEAAECDCCDADAADECDCBCDAAEDEEBABCEDDCBEBAABCBB   \n",
       "74480   DEEBDABCBBEDDCBABCADECEBAADAAECDCBCCDACDEEAAE   \n",
       "26659   CCDACDEEAAEABCDAAECDCBADECDEEBDACBEDDBCBBEBAA   \n",
       "101531  CCDACDEEAAEABCDAAECDCBADECDEEBDACBEDDBCBBEBAA   \n",
       "6435                                              NaN   \n",
       "\n",
       "                                       TX_GABARITO_CH  \\\n",
       "54063   ECAEBCDDECADBEABDDBDBDAEBCCCCDEAEDAEBBEDABAEC   \n",
       "74480   CDEAEECAEBDBDBBAECDAEBCCCDAEBEABDBEDAADBCDDEC   \n",
       "26659   CDEAEECAEBDBDBBAECDAEBCCCDAEBEABDBEDAADBCDDEC   \n",
       "101531  CDEAEECAEBDBDBBAECDAEBCCCDAEBEABDBEDAADBCDDEC   \n",
       "6435                                              NaN   \n",
       "\n",
       "                                            TX_GABARITO_LC  \\\n",
       "54063   DDCDEEDBEECEBADEDEABEDBBBDBCCABAAAABCBDAEDEDDBCDAE   \n",
       "74480   EDDCDBEEDECCEBDAEDAEDAABEDBBADEDEDDABAABBDCBEABBCC   \n",
       "26659   EDDCDBEEDECCEBDAEDAEDAABEDBBADEDEDDABAABBDCBEABBCC   \n",
       "101531  EDDCDBEEDECCEBDAEDAEDAABEDBBADEDEDDABAABBDCBEABBCC   \n",
       "6435                                                   NaN   \n",
       "\n",
       "                                       TX_GABARITO_MT  TP_STATUS_REDACAO  NU_NOTA_COMP1  \\\n",
       "54063   BBDBADBEECDCCECAEBBDDEDDCCBBACADAEACEADABDECB                1.0          160.0   \n",
       "74480   ADBCCECBBDBAEBBDDDABDCCDEDECBEACDAEAABBACEECD                1.0          160.0   \n",
       "26659   EECDCCECBDBBDBAEBADBECBDDABDEDEAADCCDAEACBBAC                1.0          160.0   \n",
       "101531  EECDCCECBDBBDBAEBADBECBDDABDEDEAADCCDAEACBBAC                1.0          160.0   \n",
       "6435                                              NaN                NaN            NaN   \n",
       "\n",
       "        NU_NOTA_COMP2  NU_NOTA_COMP3  NU_NOTA_COMP4  NU_NOTA_COMP5  NU_NOTA_REDACAO Q001 Q002  \\\n",
       "54063           140.0          120.0          100.0          100.0            620.0    A    C   \n",
       "74480           160.0          160.0          200.0          160.0            840.0    C    C   \n",
       "26659           200.0          180.0          180.0           80.0            800.0    C    B   \n",
       "101531          120.0          100.0          120.0           60.0            560.0    E    E   \n",
       "6435              NaN            NaN            NaN            NaN              NaN    E    C   \n",
       "\n",
       "       Q003 Q004  Q005 Q006 Q007 Q008 Q009 Q010 Q011 Q012 Q013 Q014 Q015 Q016 Q017 Q018 Q019 Q020  \\\n",
       "54063     A    A   3.0    B    A    B    C    A    A    B    A    A    A    A    A    A    B    A   \n",
       "74480     B    F   6.0    C    A    B    D    A    A    B    A    A    A    A    A    A    B    A   \n",
       "26659     D    B   4.0    I    A    B    D    B    A    B    B    B    A    B    A    B    E    B   \n",
       "101531    B    B   5.0    C    A    B    B    A    A    B    A    A    A    B    A    A    B    A   \n",
       "6435      B    B   5.0    G    A    B    C    B    C    B    A    B    A    A    A    A    C    B   \n",
       "\n",
       "       Q021 Q022 Q023 Q024 Q025 Q026 Q027  \n",
       "54063     A    B    A    A    A    A    A  \n",
       "74480     A    D    B    B    B    B    A  \n",
       "26659     A    E    A    B    B    A    D  \n",
       "101531    A    B    A    A    A    A    B  \n",
       "6435      B    B    A    B    B    A    A  "
      ]
     },
     "execution_count": 87,
     "metadata": {},
     "output_type": "execute_result"
    }
   ],
   "source": [
    "pandas_df.head()"
   ]
  },
  {
   "cell_type": "code",
   "execution_count": 120,
   "metadata": {},
   "outputs": [
    {
     "name": "stderr",
     "output_type": "stream",
     "text": [
      "\n",
      "  0%|          | 0/137 [00:00<?, ?it/s]\u001b[A\n",
      "  4%|▍         | 6/137 [00:00<00:02, 58.58it/s]\u001b[A\n",
      "  9%|▉         | 13/137 [00:00<00:02, 61.28it/s]\u001b[A\n",
      " 18%|█▊        | 24/137 [00:00<00:01, 70.51it/s]\u001b[A\n",
      " 57%|█████▋    | 78/137 [00:00<00:00, 95.38it/s]\u001b[A\n",
      " 72%|███████▏  | 99/137 [00:00<00:00, 73.08it/s]\u001b[A\n",
      " 84%|████████▍ | 115/137 [00:01<00:00, 70.81it/s]\u001b[A\n",
      " 93%|█████████▎| 128/137 [00:01<00:00, 62.06it/s]\u001b[A\n",
      "100%|██████████| 137/137 [00:01<00:00, 88.02it/s]\u001b[A"
     ]
    }
   ],
   "source": [
    "number_na = dict()\n",
    "for i in tqdm(pandas_df.columns):\n",
    "    num_nan_i = pandas_df.loc[ (pd.isna(pandas_df[i])), i ].shape[0]\n",
    "    number_na[i]= num_nan_i"
   ]
  },
  {
   "cell_type": "code",
   "execution_count": 124,
   "metadata": {},
   "outputs": [
    {
     "data": {
      "text/plain": [
       "673134"
      ]
     },
     "execution_count": 124,
     "metadata": {},
     "output_type": "execute_result"
    }
   ],
   "source": [
    "len(pandas_df)"
   ]
  },
  {
   "cell_type": "code",
   "execution_count": 121,
   "metadata": {},
   "outputs": [
    {
     "data": {
      "text/plain": [
       "[('TP_SIT_FUNC_ESC', 495410),\n",
       " ('TP_ENSINO', 494803),\n",
       " ('CO_ESCOLA', 494800),\n",
       " ('CO_MUNICIPIO_ESC', 494800),\n",
       " ('NO_MUNICIPIO_ESC', 494800),\n",
       " ('CO_UF_ESC', 494800),\n",
       " ('SG_UF_ESC', 494800),\n",
       " ('TP_DEPENDENCIA_ADM_ESC', 494800),\n",
       " ('TP_LOCALIZACAO_ESC', 494800),\n",
       " ('CO_PROVA_CN', 229844),\n",
       " ('CO_PROVA_MT', 229844),\n",
       " ('NU_NOTA_CN', 229844),\n",
       " ('NU_NOTA_MT', 229844),\n",
       " ('TX_RESPOSTAS_CN', 229844),\n",
       " ('TX_RESPOSTAS_MT', 229844),\n",
       " ('TX_GABARITO_CN', 229844),\n",
       " ('TX_GABARITO_MT', 229844),\n",
       " ('CO_PROVA_CH', 203444),\n",
       " ('CO_PROVA_LC', 203444),\n",
       " ('NU_NOTA_CH', 203444),\n",
       " ('NU_NOTA_LC', 203444),\n",
       " ('TX_RESPOSTAS_CH', 203444),\n",
       " ('TX_RESPOSTAS_LC', 203444),\n",
       " ('TX_GABARITO_CH', 203444),\n",
       " ('TX_GABARITO_LC', 203444),\n",
       " ('TP_STATUS_REDACAO', 203444),\n",
       " ('NU_NOTA_COMP1', 203444),\n",
       " ('NU_NOTA_COMP2', 203444),\n",
       " ('NU_NOTA_COMP3', 203444),\n",
       " ('NU_NOTA_COMP4', 203444),\n",
       " ('NU_NOTA_COMP5', 203444),\n",
       " ('NU_NOTA_REDACAO', 203444),\n",
       " ('TP_ESTADO_CIVIL', 27291),\n",
       " ('CO_MUNICIPIO_NASCIMENTO', 22849),\n",
       " ('NO_MUNICIPIO_NASCIMENTO', 22849),\n",
       " ('CO_UF_NASCIMENTO', 22849),\n",
       " ('SG_UF_NASCIMENTO', 22849),\n",
       " ('TP_PRESENCA_CN', 25),\n",
       " ('TP_PRESENCA_CH', 25),\n",
       " ('TP_PRESENCA_LC', 25),\n",
       " ('TP_PRESENCA_MT', 25),\n",
       " ('NU_IDADE', 13),\n",
       " ('Q026', 1),\n",
       " ('NU_INSCRICAO', 0),\n",
       " ('NU_ANO', 0),\n",
       " ('CO_MUNICIPIO_RESIDENCIA', 0),\n",
       " ('NO_MUNICIPIO_RESIDENCIA', 0),\n",
       " ('CO_UF_RESIDENCIA', 0),\n",
       " ('SG_UF_RESIDENCIA', 0),\n",
       " ('TP_SEXO', 0),\n",
       " ('TP_COR_RACA', 0),\n",
       " ('TP_NACIONALIDADE', 0),\n",
       " ('TP_ST_CONCLUSAO', 0),\n",
       " ('TP_ANO_CONCLUIU', 0),\n",
       " ('TP_ESCOLA', 0),\n",
       " ('IN_TREINEIRO', 0),\n",
       " ('IN_BAIXA_VISAO', 0),\n",
       " ('IN_CEGUEIRA', 0),\n",
       " ('IN_SURDEZ', 0),\n",
       " ('IN_DEFICIENCIA_AUDITIVA', 0),\n",
       " ('IN_SURDO_CEGUEIRA', 0),\n",
       " ('IN_DEFICIENCIA_FISICA', 0),\n",
       " ('IN_DEFICIENCIA_MENTAL', 0),\n",
       " ('IN_DEFICIT_ATENCAO', 0),\n",
       " ('IN_DISLEXIA', 0),\n",
       " ('IN_DISCALCULIA', 0),\n",
       " ('IN_AUTISMO', 0),\n",
       " ('IN_VISAO_MONOCULAR', 0),\n",
       " ('IN_OUTRA_DEF', 0),\n",
       " ('IN_GESTANTE', 0),\n",
       " ('IN_LACTANTE', 0),\n",
       " ('IN_IDOSO', 0),\n",
       " ('IN_ESTUDA_CLASSE_HOSPITALAR', 0),\n",
       " ('IN_SEM_RECURSO', 0),\n",
       " ('IN_BRAILLE', 0),\n",
       " ('IN_AMPLIADA_24', 0),\n",
       " ('IN_AMPLIADA_18', 0),\n",
       " ('IN_LEDOR', 0),\n",
       " ('IN_ACESSO', 0),\n",
       " ('IN_TRANSCRICAO', 0),\n",
       " ('IN_LIBRAS', 0),\n",
       " ('IN_LEITURA_LABIAL', 0),\n",
       " ('IN_MESA_CADEIRA_RODAS', 0),\n",
       " ('IN_MESA_CADEIRA_SEPARADA', 0),\n",
       " ('IN_APOIO_PERNA', 0),\n",
       " ('IN_GUIA_INTERPRETE', 0),\n",
       " ('IN_COMPUTADOR', 0),\n",
       " ('IN_CADEIRA_ESPECIAL', 0),\n",
       " ('IN_CADEIRA_CANHOTO', 0),\n",
       " ('IN_CADEIRA_ACOLCHOADA', 0),\n",
       " ('IN_PROVA_DEITADO', 0),\n",
       " ('IN_MOBILIARIO_OBESO', 0),\n",
       " ('IN_LAMINA_OVERLAY', 0),\n",
       " ('IN_PROTETOR_AURICULAR', 0),\n",
       " ('IN_MEDIDOR_GLICOSE', 0),\n",
       " ('IN_MAQUINA_BRAILE', 0),\n",
       " ('IN_SOROBAN', 0),\n",
       " ('IN_MARCA_PASSO', 0),\n",
       " ('IN_SONDA', 0),\n",
       " ('IN_MEDICAMENTOS', 0),\n",
       " ('IN_SALA_INDIVIDUAL', 0),\n",
       " ('IN_SALA_ESPECIAL', 0),\n",
       " ('IN_SALA_ACOMPANHANTE', 0),\n",
       " ('IN_MOBILIARIO_ESPECIFICO', 0),\n",
       " ('IN_MATERIAL_ESPECIFICO', 0),\n",
       " ('IN_NOME_SOCIAL', 0),\n",
       " ('CO_MUNICIPIO_PROVA', 0),\n",
       " ('NO_MUNICIPIO_PROVA', 0),\n",
       " ('CO_UF_PROVA', 0),\n",
       " ('SG_UF_PROVA', 0),\n",
       " ('TP_LINGUA', 0),\n",
       " ('Q001', 0),\n",
       " ('Q002', 0),\n",
       " ('Q003', 0),\n",
       " ('Q004', 0),\n",
       " ('Q005', 0),\n",
       " ('Q006', 0),\n",
       " ('Q007', 0),\n",
       " ('Q008', 0),\n",
       " ('Q009', 0),\n",
       " ('Q010', 0),\n",
       " ('Q011', 0),\n",
       " ('Q012', 0),\n",
       " ('Q013', 0),\n",
       " ('Q014', 0),\n",
       " ('Q015', 0),\n",
       " ('Q016', 0),\n",
       " ('Q017', 0),\n",
       " ('Q018', 0),\n",
       " ('Q019', 0),\n",
       " ('Q020', 0),\n",
       " ('Q021', 0),\n",
       " ('Q022', 0),\n",
       " ('Q023', 0),\n",
       " ('Q024', 0),\n",
       " ('Q025', 0),\n",
       " ('Q027', 0)]"
      ]
     },
     "execution_count": 121,
     "metadata": {},
     "output_type": "execute_result"
    }
   ],
   "source": [
    "sorted(number_na.items(), key=operator.itemgetter(1), reverse=True)"
   ]
  },
  {
   "cell_type": "markdown",
   "metadata": {},
   "source": [
    "# Next steps\n",
    "\n",
    "- Remove all the rows with None as Grades\n",
    "- Remove Gabarito From Columns\n",
    "- Remove Presenca\n",
    "- NU_INSCRICAO\n",
    "- NU_ANO\n",
    "- E RESIDENCIAS\n",
    "- Remove Notas das Competencias da Redacao\n",
    "- Remover Codigo das Provas (CO)\n"
   ]
  },
  {
   "cell_type": "code",
   "execution_count": null,
   "metadata": {},
   "outputs": [],
   "source": []
  }
 ],
 "metadata": {
  "kernelspec": {
   "display_name": "Python [conda env:pgm]",
   "language": "python",
   "name": "conda-env-pgm-py"
  },
  "language_info": {
   "codemirror_mode": {
    "name": "ipython",
    "version": 3
   },
   "file_extension": ".py",
   "mimetype": "text/x-python",
   "name": "python",
   "nbconvert_exporter": "python",
   "pygments_lexer": "ipython3",
   "version": "3.7.0"
  },
  "toc": {
   "base_numbering": 1,
   "nav_menu": {},
   "number_sections": true,
   "sideBar": true,
   "skip_h1_title": false,
   "title_cell": "Table of Contents",
   "title_sidebar": "Contents",
   "toc_cell": false,
   "toc_position": {},
   "toc_section_display": true,
   "toc_window_display": false
  },
  "varInspector": {
   "cols": {
    "lenName": 16,
    "lenType": 16,
    "lenVar": 40
   },
   "kernels_config": {
    "python": {
     "delete_cmd_postfix": "",
     "delete_cmd_prefix": "del ",
     "library": "var_list.py",
     "varRefreshCmd": "print(var_dic_list())"
    },
    "r": {
     "delete_cmd_postfix": ") ",
     "delete_cmd_prefix": "rm(",
     "library": "var_list.r",
     "varRefreshCmd": "cat(var_dic_list()) "
    }
   },
   "position": {
    "height": "144px",
    "left": "997px",
    "right": "20px",
    "top": "120px",
    "width": "350px"
   },
   "types_to_exclude": [
    "module",
    "function",
    "builtin_function_or_method",
    "instance",
    "_Feature"
   ],
   "window_display": false
  }
 },
 "nbformat": 4,
 "nbformat_minor": 2
}
