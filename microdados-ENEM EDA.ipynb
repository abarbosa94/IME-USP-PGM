{
 "cells": [
  {
   "cell_type": "markdown",
   "metadata": {},
   "source": [
    "# Data Description\n",
    "\n",
    "Exame Nacional do Ensino Medio (ENEM) stands for National High School Exam in english. It is a non-mandatory, standarized Brazilian national exam, which evaluates high school students in Brazil. The ENEM is the most important exam in this kind in Brazil, whith more than 8.6 million registered candidates in 2016. It is the second largest in the world after the National Higher Education Entrance Examination, the entrance examination of higher education in China (taken from Wikipedia).\n",
    "\n",
    "Every year the governement releases what they call as `microdata` which can be describe as the most granular (and anonymized) data about each student who took the exam."
   ]
  },
  {
   "cell_type": "code",
   "execution_count": 1,
   "metadata": {},
   "outputs": [],
   "source": [
    "import dask.dataframe as dd\n",
    "import gc\n",
    "from tqdm import tqdm_notebook\n",
    "import matplotlib.pyplot as plt\n",
    "import numpy as np\n",
    "import pandas as pd\n",
    "import operator\n",
    "import seaborn as sns"
   ]
  },
  {
   "cell_type": "code",
   "execution_count": 2,
   "metadata": {},
   "outputs": [],
   "source": [
    "microdata = \"data/DADOS/MICRODADOS_ENEM_2017.csv\"\n",
    "data_dict  = \"data/DICIONÁRIO/Dicionário_Microdados_Enem_2017.xlsx\""
   ]
  },
  {
   "cell_type": "code",
   "execution_count": 3,
   "metadata": {},
   "outputs": [],
   "source": [
    "df = dd.read_csv(microdata, sep=';',encoding='latin-1', assume_missing=True)"
   ]
  },
  {
   "cell_type": "code",
   "execution_count": 4,
   "metadata": {},
   "outputs": [
    {
     "data": {
      "text/html": [
       "<div>\n",
       "<style scoped>\n",
       "    .dataframe tbody tr th:only-of-type {\n",
       "        vertical-align: middle;\n",
       "    }\n",
       "\n",
       "    .dataframe tbody tr th {\n",
       "        vertical-align: top;\n",
       "    }\n",
       "\n",
       "    .dataframe thead th {\n",
       "        text-align: right;\n",
       "    }\n",
       "</style>\n",
       "<table border=\"1\" class=\"dataframe\">\n",
       "  <thead>\n",
       "    <tr style=\"text-align: right;\">\n",
       "      <th></th>\n",
       "      <th>NU_INSCRICAO</th>\n",
       "      <th>NU_ANO</th>\n",
       "      <th>CO_MUNICIPIO_RESIDENCIA</th>\n",
       "      <th>NO_MUNICIPIO_RESIDENCIA</th>\n",
       "      <th>CO_UF_RESIDENCIA</th>\n",
       "      <th>SG_UF_RESIDENCIA</th>\n",
       "      <th>NU_IDADE</th>\n",
       "      <th>TP_SEXO</th>\n",
       "      <th>TP_ESTADO_CIVIL</th>\n",
       "      <th>TP_COR_RACA</th>\n",
       "      <th>...</th>\n",
       "      <th>Q018</th>\n",
       "      <th>Q019</th>\n",
       "      <th>Q020</th>\n",
       "      <th>Q021</th>\n",
       "      <th>Q022</th>\n",
       "      <th>Q023</th>\n",
       "      <th>Q024</th>\n",
       "      <th>Q025</th>\n",
       "      <th>Q026</th>\n",
       "      <th>Q027</th>\n",
       "    </tr>\n",
       "  </thead>\n",
       "  <tbody>\n",
       "    <tr>\n",
       "      <th>0</th>\n",
       "      <td>1.700033e+11</td>\n",
       "      <td>2017.0</td>\n",
       "      <td>3503208.0</td>\n",
       "      <td>Araraquara</td>\n",
       "      <td>35.0</td>\n",
       "      <td>SP</td>\n",
       "      <td>29.0</td>\n",
       "      <td>F</td>\n",
       "      <td>0.0</td>\n",
       "      <td>1.0</td>\n",
       "      <td>...</td>\n",
       "      <td>A</td>\n",
       "      <td>C</td>\n",
       "      <td>B</td>\n",
       "      <td>B</td>\n",
       "      <td>C</td>\n",
       "      <td>B</td>\n",
       "      <td>B</td>\n",
       "      <td>B</td>\n",
       "      <td>A</td>\n",
       "      <td>A</td>\n",
       "    </tr>\n",
       "    <tr>\n",
       "      <th>1</th>\n",
       "      <td>1.700033e+11</td>\n",
       "      <td>2017.0</td>\n",
       "      <td>5002902.0</td>\n",
       "      <td>Cassilândia</td>\n",
       "      <td>50.0</td>\n",
       "      <td>MS</td>\n",
       "      <td>22.0</td>\n",
       "      <td>F</td>\n",
       "      <td>0.0</td>\n",
       "      <td>1.0</td>\n",
       "      <td>...</td>\n",
       "      <td>A</td>\n",
       "      <td>B</td>\n",
       "      <td>A</td>\n",
       "      <td>A</td>\n",
       "      <td>C</td>\n",
       "      <td>B</td>\n",
       "      <td>A</td>\n",
       "      <td>A</td>\n",
       "      <td>A</td>\n",
       "      <td>A</td>\n",
       "    </tr>\n",
       "    <tr>\n",
       "      <th>2</th>\n",
       "      <td>1.700017e+11</td>\n",
       "      <td>2017.0</td>\n",
       "      <td>3550308.0</td>\n",
       "      <td>São Paulo</td>\n",
       "      <td>35.0</td>\n",
       "      <td>SP</td>\n",
       "      <td>38.0</td>\n",
       "      <td>F</td>\n",
       "      <td>0.0</td>\n",
       "      <td>1.0</td>\n",
       "      <td>...</td>\n",
       "      <td>A</td>\n",
       "      <td>B</td>\n",
       "      <td>A</td>\n",
       "      <td>A</td>\n",
       "      <td>C</td>\n",
       "      <td>A</td>\n",
       "      <td>B</td>\n",
       "      <td>B</td>\n",
       "      <td>A</td>\n",
       "      <td>A</td>\n",
       "    </tr>\n",
       "    <tr>\n",
       "      <th>3</th>\n",
       "      <td>1.700017e+11</td>\n",
       "      <td>2017.0</td>\n",
       "      <td>4209300.0</td>\n",
       "      <td>Lages</td>\n",
       "      <td>42.0</td>\n",
       "      <td>SC</td>\n",
       "      <td>35.0</td>\n",
       "      <td>F</td>\n",
       "      <td>0.0</td>\n",
       "      <td>1.0</td>\n",
       "      <td>...</td>\n",
       "      <td>B</td>\n",
       "      <td>C</td>\n",
       "      <td>A</td>\n",
       "      <td>B</td>\n",
       "      <td>D</td>\n",
       "      <td>A</td>\n",
       "      <td>B</td>\n",
       "      <td>B</td>\n",
       "      <td>A</td>\n",
       "      <td>A</td>\n",
       "    </tr>\n",
       "    <tr>\n",
       "      <th>4</th>\n",
       "      <td>1.700017e+11</td>\n",
       "      <td>2017.0</td>\n",
       "      <td>2704302.0</td>\n",
       "      <td>Maceió</td>\n",
       "      <td>27.0</td>\n",
       "      <td>AL</td>\n",
       "      <td>40.0</td>\n",
       "      <td>M</td>\n",
       "      <td>0.0</td>\n",
       "      <td>3.0</td>\n",
       "      <td>...</td>\n",
       "      <td>A</td>\n",
       "      <td>B</td>\n",
       "      <td>B</td>\n",
       "      <td>A</td>\n",
       "      <td>C</td>\n",
       "      <td>A</td>\n",
       "      <td>C</td>\n",
       "      <td>B</td>\n",
       "      <td>A</td>\n",
       "      <td>A</td>\n",
       "    </tr>\n",
       "    <tr>\n",
       "      <th>5</th>\n",
       "      <td>1.700017e+11</td>\n",
       "      <td>2017.0</td>\n",
       "      <td>4303103.0</td>\n",
       "      <td>Cachoeirinha</td>\n",
       "      <td>43.0</td>\n",
       "      <td>RS</td>\n",
       "      <td>20.0</td>\n",
       "      <td>F</td>\n",
       "      <td>0.0</td>\n",
       "      <td>1.0</td>\n",
       "      <td>...</td>\n",
       "      <td>B</td>\n",
       "      <td>D</td>\n",
       "      <td>B</td>\n",
       "      <td>A</td>\n",
       "      <td>D</td>\n",
       "      <td>A</td>\n",
       "      <td>C</td>\n",
       "      <td>B</td>\n",
       "      <td>A</td>\n",
       "      <td>A</td>\n",
       "    </tr>\n",
       "    <tr>\n",
       "      <th>6</th>\n",
       "      <td>1.700033e+11</td>\n",
       "      <td>2017.0</td>\n",
       "      <td>4106902.0</td>\n",
       "      <td>Curitiba</td>\n",
       "      <td>41.0</td>\n",
       "      <td>PR</td>\n",
       "      <td>36.0</td>\n",
       "      <td>M</td>\n",
       "      <td>1.0</td>\n",
       "      <td>2.0</td>\n",
       "      <td>...</td>\n",
       "      <td>B</td>\n",
       "      <td>B</td>\n",
       "      <td>A</td>\n",
       "      <td>A</td>\n",
       "      <td>C</td>\n",
       "      <td>A</td>\n",
       "      <td>B</td>\n",
       "      <td>B</td>\n",
       "      <td>A</td>\n",
       "      <td>A</td>\n",
       "    </tr>\n",
       "    <tr>\n",
       "      <th>7</th>\n",
       "      <td>1.700033e+11</td>\n",
       "      <td>2017.0</td>\n",
       "      <td>4214805.0</td>\n",
       "      <td>Rio do Sul</td>\n",
       "      <td>42.0</td>\n",
       "      <td>SC</td>\n",
       "      <td>18.0</td>\n",
       "      <td>F</td>\n",
       "      <td>0.0</td>\n",
       "      <td>1.0</td>\n",
       "      <td>...</td>\n",
       "      <td>B</td>\n",
       "      <td>B</td>\n",
       "      <td>A</td>\n",
       "      <td>B</td>\n",
       "      <td>D</td>\n",
       "      <td>B</td>\n",
       "      <td>B</td>\n",
       "      <td>B</td>\n",
       "      <td>A</td>\n",
       "      <td>A</td>\n",
       "    </tr>\n",
       "    <tr>\n",
       "      <th>8</th>\n",
       "      <td>1.700033e+11</td>\n",
       "      <td>2017.0</td>\n",
       "      <td>4322509.0</td>\n",
       "      <td>Vacaria</td>\n",
       "      <td>43.0</td>\n",
       "      <td>RS</td>\n",
       "      <td>23.0</td>\n",
       "      <td>F</td>\n",
       "      <td>0.0</td>\n",
       "      <td>1.0</td>\n",
       "      <td>...</td>\n",
       "      <td>A</td>\n",
       "      <td>B</td>\n",
       "      <td>A</td>\n",
       "      <td>A</td>\n",
       "      <td>B</td>\n",
       "      <td>A</td>\n",
       "      <td>A</td>\n",
       "      <td>A</td>\n",
       "      <td>A</td>\n",
       "      <td>A</td>\n",
       "    </tr>\n",
       "    <tr>\n",
       "      <th>9</th>\n",
       "      <td>1.700017e+11</td>\n",
       "      <td>2017.0</td>\n",
       "      <td>2607901.0</td>\n",
       "      <td>Jaboatão dos Guararapes</td>\n",
       "      <td>26.0</td>\n",
       "      <td>PE</td>\n",
       "      <td>23.0</td>\n",
       "      <td>M</td>\n",
       "      <td>0.0</td>\n",
       "      <td>3.0</td>\n",
       "      <td>...</td>\n",
       "      <td>A</td>\n",
       "      <td>B</td>\n",
       "      <td>B</td>\n",
       "      <td>A</td>\n",
       "      <td>D</td>\n",
       "      <td>B</td>\n",
       "      <td>B</td>\n",
       "      <td>B</td>\n",
       "      <td>A</td>\n",
       "      <td>A</td>\n",
       "    </tr>\n",
       "  </tbody>\n",
       "</table>\n",
       "<p>10 rows × 137 columns</p>\n",
       "</div>"
      ],
      "text/plain": [
       "   NU_INSCRICAO  NU_ANO  CO_MUNICIPIO_RESIDENCIA  NO_MUNICIPIO_RESIDENCIA  \\\n",
       "0  1.700033e+11  2017.0                3503208.0               Araraquara   \n",
       "1  1.700033e+11  2017.0                5002902.0              Cassilândia   \n",
       "2  1.700017e+11  2017.0                3550308.0                São Paulo   \n",
       "3  1.700017e+11  2017.0                4209300.0                    Lages   \n",
       "4  1.700017e+11  2017.0                2704302.0                   Maceió   \n",
       "5  1.700017e+11  2017.0                4303103.0             Cachoeirinha   \n",
       "6  1.700033e+11  2017.0                4106902.0                 Curitiba   \n",
       "7  1.700033e+11  2017.0                4214805.0               Rio do Sul   \n",
       "8  1.700033e+11  2017.0                4322509.0                  Vacaria   \n",
       "9  1.700017e+11  2017.0                2607901.0  Jaboatão dos Guararapes   \n",
       "\n",
       "   CO_UF_RESIDENCIA SG_UF_RESIDENCIA  NU_IDADE TP_SEXO  TP_ESTADO_CIVIL  \\\n",
       "0              35.0               SP      29.0       F              0.0   \n",
       "1              50.0               MS      22.0       F              0.0   \n",
       "2              35.0               SP      38.0       F              0.0   \n",
       "3              42.0               SC      35.0       F              0.0   \n",
       "4              27.0               AL      40.0       M              0.0   \n",
       "5              43.0               RS      20.0       F              0.0   \n",
       "6              41.0               PR      36.0       M              1.0   \n",
       "7              42.0               SC      18.0       F              0.0   \n",
       "8              43.0               RS      23.0       F              0.0   \n",
       "9              26.0               PE      23.0       M              0.0   \n",
       "\n",
       "   TP_COR_RACA  ...   Q018  Q019 Q020  Q021 Q022  Q023  Q024  Q025  Q026  Q027  \n",
       "0          1.0  ...      A     C    B     B    C     B     B     B     A     A  \n",
       "1          1.0  ...      A     B    A     A    C     B     A     A     A     A  \n",
       "2          1.0  ...      A     B    A     A    C     A     B     B     A     A  \n",
       "3          1.0  ...      B     C    A     B    D     A     B     B     A     A  \n",
       "4          3.0  ...      A     B    B     A    C     A     C     B     A     A  \n",
       "5          1.0  ...      B     D    B     A    D     A     C     B     A     A  \n",
       "6          2.0  ...      B     B    A     A    C     A     B     B     A     A  \n",
       "7          1.0  ...      B     B    A     B    D     B     B     B     A     A  \n",
       "8          1.0  ...      A     B    A     A    B     A     A     A     A     A  \n",
       "9          3.0  ...      A     B    B     A    D     B     B     B     A     A  \n",
       "\n",
       "[10 rows x 137 columns]"
      ]
     },
     "execution_count": 4,
     "metadata": {},
     "output_type": "execute_result"
    }
   ],
   "source": [
    "df.head(10)"
   ]
  },
  {
   "cell_type": "code",
   "execution_count": 5,
   "metadata": {},
   "outputs": [
    {
     "name": "stdout",
     "output_type": "stream",
     "text": [
      "CPU times: user 4min 7s, sys: 1min 59s, total: 6min 6s\n",
      "Wall time: 2min 21s\n"
     ]
    },
    {
     "data": {
      "text/plain": [
       "6731341"
      ]
     },
     "execution_count": 5,
     "metadata": {},
     "output_type": "execute_result"
    }
   ],
   "source": [
    "%%time\n",
    "len(df)"
   ]
  },
  {
   "cell_type": "markdown",
   "metadata": {},
   "source": [
    "Cada 10% = ~600 mil dados"
   ]
  },
  {
   "cell_type": "markdown",
   "metadata": {},
   "source": [
    "The data can be divided into nine categories:\n",
    " - Student Data\n",
    " - Student's school Data\n",
    " - Special Treatment Data\n",
    " - Specific Treatment Data\n",
    " - Special and Specific Requests for the Test Data\n",
    " - Place where the Test were taken Data\n",
    " - Test Data\n",
    " - Essay Data\n",
    " - Social Economic Data\n",
    " \n",
    " Those informations are datailed by the following tables*:\n",
    " \n",
    " *\n",
    "_I needed to use an image since `pandas` has some serious issues to treat Multi-Index Excel Files. You can check the original photo inside `img` folder._"
   ]
  },
  {
   "cell_type": "markdown",
   "metadata": {},
   "source": [
    "## Student Information Data\n",
    "\n",
    "\n",
    "![student](img/student_info.png)"
   ]
  },
  {
   "cell_type": "code",
   "execution_count": 6,
   "metadata": {},
   "outputs": [
    {
     "name": "stderr",
     "output_type": "stream",
     "text": [
      "/home/abarbosa/miniconda3/envs/pgm/lib/python3.7/site-packages/scipy/stats/stats.py:1713: FutureWarning: Using a non-tuple sequence for multidimensional indexing is deprecated; use `arr[tuple(seq)]` instead of `arr[seq]`. In the future this will be interpreted as an array index, `arr[np.array(seq)]`, which will result either in an error or a different result.\n",
      "  return np.add.reduce(sorted[indexer] * weights, axis=axis) / sumval\n"
     ]
    },
    {
     "name": "stdout",
     "output_type": "stream",
     "text": [
      "CPU times: user 4min 3s, sys: 2min 33s, total: 6min 37s\n",
      "Wall time: 2min 29s\n"
     ]
    },
    {
     "data": {
      "text/plain": [
       "<matplotlib.axes._subplots.AxesSubplot at 0x7fe419d99d30>"
      ]
     },
     "execution_count": 6,
     "metadata": {},
     "output_type": "execute_result"
    },
    {
     "data": {
      "image/png": "[encoded data removed]",
      "text/plain": [
       "<Figure size 432x288 with 1 Axes>"
      ]
     },
     "metadata": {
      "needs_background": "light"
     },
     "output_type": "display_data"
    }
   ],
   "source": [
    "%%time\n",
    "sns.distplot(df[('NU_NOTA_CN')].fillna(0)[df[('NU_NOTA_CN')].fillna(0)>0]);"
   ]
  },
  {
   "cell_type": "code",
   "execution_count": 7,
   "metadata": {},
   "outputs": [
    {
     "name": "stderr",
     "output_type": "stream",
     "text": [
      "/home/abarbosa/miniconda3/envs/pgm/lib/python3.7/site-packages/scipy/stats/stats.py:1713: FutureWarning: Using a non-tuple sequence for multidimensional indexing is deprecated; use `arr[tuple(seq)]` instead of `arr[seq]`. In the future this will be interpreted as an array index, `arr[np.array(seq)]`, which will result either in an error or a different result.\n",
      "  return np.add.reduce(sorted[indexer] * weights, axis=axis) / sumval\n"
     ]
    },
    {
     "name": "stdout",
     "output_type": "stream",
     "text": [
      "CPU times: user 4min, sys: 2min 53s, total: 6min 54s\n",
      "Wall time: 2min 34s\n"
     ]
    },
    {
     "data": {
      "text/plain": [
       "<matplotlib.axes._subplots.AxesSubplot at 0x7fe3e846c128>"
      ]
     },
     "execution_count": 7,
     "metadata": {},
     "output_type": "execute_result"
    },
    {
     "data": {
      "image/png": "[encoded data removed]",
      "text/plain": [
       "<Figure size 432x288 with 1 Axes>"
      ]
     },
     "metadata": {
      "needs_background": "light"
     },
     "output_type": "display_data"
    }
   ],
   "source": [
    "%%time\n",
    "sns.distplot(df[('NU_NOTA_CH')].fillna(0)[df[('NU_NOTA_CH')].fillna(0)>0]);"
   ]
  },
  {
   "cell_type": "code",
   "execution_count": 8,
   "metadata": {},
   "outputs": [
    {
     "name": "stderr",
     "output_type": "stream",
     "text": [
      "/home/abarbosa/miniconda3/envs/pgm/lib/python3.7/site-packages/scipy/stats/stats.py:1713: FutureWarning: Using a non-tuple sequence for multidimensional indexing is deprecated; use `arr[tuple(seq)]` instead of `arr[seq]`. In the future this will be interpreted as an array index, `arr[np.array(seq)]`, which will result either in an error or a different result.\n",
      "  return np.add.reduce(sorted[indexer] * weights, axis=axis) / sumval\n"
     ]
    },
    {
     "name": "stdout",
     "output_type": "stream",
     "text": [
      "CPU times: user 4min 6s, sys: 2min 43s, total: 6min 50s\n",
      "Wall time: 2min 32s\n"
     ]
    },
    {
     "data": {
      "text/plain": [
       "<matplotlib.axes._subplots.AxesSubplot at 0x7fe408667748>"
      ]
     },
     "execution_count": 8,
     "metadata": {},
     "output_type": "execute_result"
    },
    {
     "data": {
      "image/png": "[encoded data removed]",
      "text/plain": [
       "<Figure size 432x288 with 1 Axes>"
      ]
     },
     "metadata": {
      "needs_background": "light"
     },
     "output_type": "display_data"
    }
   ],
   "source": [
    "%%time\n",
    "sns.distplot(df[('NU_NOTA_LC')].fillna(0)[df[('NU_NOTA_LC')].fillna(0)>0]);"
   ]
  },
  {
   "cell_type": "code",
   "execution_count": 9,
   "metadata": {},
   "outputs": [
    {
     "name": "stderr",
     "output_type": "stream",
     "text": [
      "/home/abarbosa/miniconda3/envs/pgm/lib/python3.7/site-packages/scipy/stats/stats.py:1713: FutureWarning: Using a non-tuple sequence for multidimensional indexing is deprecated; use `arr[tuple(seq)]` instead of `arr[seq]`. In the future this will be interpreted as an array index, `arr[np.array(seq)]`, which will result either in an error or a different result.\n",
      "  return np.add.reduce(sorted[indexer] * weights, axis=axis) / sumval\n"
     ]
    },
    {
     "name": "stdout",
     "output_type": "stream",
     "text": [
      "CPU times: user 4min 40s, sys: 2min 43s, total: 7min 24s\n",
      "Wall time: 3min 14s\n"
     ]
    },
    {
     "data": {
      "text/plain": [
       "<matplotlib.axes._subplots.AxesSubplot at 0x7fe4001c6c88>"
      ]
     },
     "execution_count": 9,
     "metadata": {},
     "output_type": "execute_result"
    },
    {
     "data": {
      "image/png": "[encoded data removed]",
      "text/plain": [
       "<Figure size 432x288 with 1 Axes>"
      ]
     },
     "metadata": {
      "needs_background": "light"
     },
     "output_type": "display_data"
    }
   ],
   "source": [
    "%%time\n",
    "sns.distplot(df[('NU_NOTA_MT')].fillna(0)[df[('NU_NOTA_MT')].fillna(0)>0]);"
   ]
  },
  {
   "cell_type": "code",
   "execution_count": 10,
   "metadata": {},
   "outputs": [
    {
     "name": "stderr",
     "output_type": "stream",
     "text": [
      "/home/abarbosa/miniconda3/envs/pgm/lib/python3.7/site-packages/scipy/stats/stats.py:1713: FutureWarning: Using a non-tuple sequence for multidimensional indexing is deprecated; use `arr[tuple(seq)]` instead of `arr[seq]`. In the future this will be interpreted as an array index, `arr[np.array(seq)]`, which will result either in an error or a different result.\n",
      "  return np.add.reduce(sorted[indexer] * weights, axis=axis) / sumval\n"
     ]
    },
    {
     "name": "stdout",
     "output_type": "stream",
     "text": [
      "CPU times: user 4min 5s, sys: 2min 49s, total: 6min 54s\n",
      "Wall time: 2min 34s\n"
     ]
    },
    {
     "data": {
      "text/plain": [
       "<matplotlib.axes._subplots.AxesSubplot at 0x7fe4089393c8>"
      ]
     },
     "execution_count": 10,
     "metadata": {},
     "output_type": "execute_result"
    },
    {
     "data": {
      "image/png": "[encoded data removed]",
      "text/plain": [
       "<Figure size 432x288 with 1 Axes>"
      ]
     },
     "metadata": {
      "needs_background": "light"
     },
     "output_type": "display_data"
    }
   ],
   "source": [
    "%%time\n",
    "sns.distplot(df[('NU_NOTA_COMP1')].fillna(0)[df[('NU_NOTA_COMP1')].fillna(0)>0]);"
   ]
  },
  {
   "cell_type": "code",
   "execution_count": 11,
   "metadata": {},
   "outputs": [
    {
     "name": "stderr",
     "output_type": "stream",
     "text": [
      "/home/abarbosa/miniconda3/envs/pgm/lib/python3.7/site-packages/scipy/stats/stats.py:1713: FutureWarning: Using a non-tuple sequence for multidimensional indexing is deprecated; use `arr[tuple(seq)]` instead of `arr[seq]`. In the future this will be interpreted as an array index, `arr[np.array(seq)]`, which will result either in an error or a different result.\n",
      "  return np.add.reduce(sorted[indexer] * weights, axis=axis) / sumval\n"
     ]
    },
    {
     "name": "stdout",
     "output_type": "stream",
     "text": [
      "CPU times: user 4min 4s, sys: 2min 52s, total: 6min 56s\n",
      "Wall time: 2min 34s\n"
     ]
    },
    {
     "data": {
      "text/plain": [
       "<matplotlib.axes._subplots.AxesSubplot at 0x7fe419f7c550>"
      ]
     },
     "execution_count": 11,
     "metadata": {},
     "output_type": "execute_result"
    },
    {
     "data": {
      "image/png": "[encoded data removed]",
      "text/plain": [
       "<Figure size 432x288 with 1 Axes>"
      ]
     },
     "metadata": {
      "needs_background": "light"
     },
     "output_type": "display_data"
    }
   ],
   "source": [
    "%%time\n",
    "sns.distplot(df[('NU_NOTA_COMP2')].fillna(0)[df[('NU_NOTA_COMP2')].fillna(0)>0]);"
   ]
  },
  {
   "cell_type": "code",
   "execution_count": 12,
   "metadata": {
    "scrolled": false
   },
   "outputs": [
    {
     "name": "stderr",
     "output_type": "stream",
     "text": [
      "/home/abarbosa/miniconda3/envs/pgm/lib/python3.7/site-packages/scipy/stats/stats.py:1713: FutureWarning: Using a non-tuple sequence for multidimensional indexing is deprecated; use `arr[tuple(seq)]` instead of `arr[seq]`. In the future this will be interpreted as an array index, `arr[np.array(seq)]`, which will result either in an error or a different result.\n",
      "  return np.add.reduce(sorted[indexer] * weights, axis=axis) / sumval\n"
     ]
    },
    {
     "name": "stdout",
     "output_type": "stream",
     "text": [
      "CPU times: user 4min 3s, sys: 3min 9s, total: 7min 13s\n",
      "Wall time: 2min 38s\n"
     ]
    },
    {
     "data": {
      "text/plain": [
       "<matplotlib.axes._subplots.AxesSubplot at 0x7fe409ecac50>"
      ]
     },
     "execution_count": 12,
     "metadata": {},
     "output_type": "execute_result"
    },
    {
     "data": {
      "image/png": "[encoded data removed]",
      "text/plain": [
       "<Figure size 432x288 with 1 Axes>"
      ]
     },
     "metadata": {
      "needs_background": "light"
     },
     "output_type": "display_data"
    }
   ],
   "source": [
    "%%time\n",
    "sns.distplot(df[('NU_NOTA_COMP3')].fillna(0)[df[('NU_NOTA_COMP3')].fillna(0)>0]);"
   ]
  },
  {
   "cell_type": "code",
   "execution_count": 13,
   "metadata": {},
   "outputs": [
    {
     "name": "stderr",
     "output_type": "stream",
     "text": [
      "/home/abarbosa/miniconda3/envs/pgm/lib/python3.7/site-packages/scipy/stats/stats.py:1713: FutureWarning: Using a non-tuple sequence for multidimensional indexing is deprecated; use `arr[tuple(seq)]` instead of `arr[seq]`. In the future this will be interpreted as an array index, `arr[np.array(seq)]`, which will result either in an error or a different result.\n",
      "  return np.add.reduce(sorted[indexer] * weights, axis=axis) / sumval\n"
     ]
    },
    {
     "name": "stdout",
     "output_type": "stream",
     "text": [
      "CPU times: user 4min 6s, sys: 2min 33s, total: 6min 40s\n",
      "Wall time: 2min 27s\n"
     ]
    },
    {
     "data": {
      "text/plain": [
       "<matplotlib.axes._subplots.AxesSubplot at 0x7fe419f7cc50>"
      ]
     },
     "execution_count": 13,
     "metadata": {},
     "output_type": "execute_result"
    },
    {
     "data": {
      "image/png": "[encoded data removed]",
      "text/plain": [
       "<Figure size 432x288 with 1 Axes>"
      ]
     },
     "metadata": {
      "needs_background": "light"
     },
     "output_type": "display_data"
    }
   ],
   "source": [
    "%%time\n",
    "sns.distplot(df[('NU_NOTA_COMP4')].fillna(0)[df[('NU_NOTA_COMP4')].fillna(0)>0]);"
   ]
  },
  {
   "cell_type": "code",
   "execution_count": 14,
   "metadata": {},
   "outputs": [
    {
     "name": "stderr",
     "output_type": "stream",
     "text": [
      "/home/abarbosa/miniconda3/envs/pgm/lib/python3.7/site-packages/scipy/stats/stats.py:1713: FutureWarning: Using a non-tuple sequence for multidimensional indexing is deprecated; use `arr[tuple(seq)]` instead of `arr[seq]`. In the future this will be interpreted as an array index, `arr[np.array(seq)]`, which will result either in an error or a different result.\n",
      "  return np.add.reduce(sorted[indexer] * weights, axis=axis) / sumval\n"
     ]
    },
    {
     "name": "stdout",
     "output_type": "stream",
     "text": [
      "CPU times: user 4min 4s, sys: 3min, total: 7min 4s\n",
      "Wall time: 2min 33s\n"
     ]
    },
    {
     "data": {
      "text/plain": [
       "<matplotlib.axes._subplots.AxesSubplot at 0x7fe4195233c8>"
      ]
     },
     "execution_count": 14,
     "metadata": {},
     "output_type": "execute_result"
    },
    {
     "data": {
      "image/png": "[encoded data removed]",
      "text/plain": [
       "<Figure size 432x288 with 1 Axes>"
      ]
     },
     "metadata": {
      "needs_background": "light"
     },
     "output_type": "display_data"
    }
   ],
   "source": [
    "%%time\n",
    "sns.distplot(df[('NU_NOTA_COMP5')].fillna(0)[df[('NU_NOTA_COMP5')].fillna(0)>0]);"
   ]
  },
  {
   "cell_type": "code",
   "execution_count": 15,
   "metadata": {},
   "outputs": [
    {
     "name": "stderr",
     "output_type": "stream",
     "text": [
      "/home/abarbosa/miniconda3/envs/pgm/lib/python3.7/site-packages/scipy/stats/stats.py:1713: FutureWarning: Using a non-tuple sequence for multidimensional indexing is deprecated; use `arr[tuple(seq)]` instead of `arr[seq]`. In the future this will be interpreted as an array index, `arr[np.array(seq)]`, which will result either in an error or a different result.\n",
      "  return np.add.reduce(sorted[indexer] * weights, axis=axis) / sumval\n"
     ]
    },
    {
     "name": "stdout",
     "output_type": "stream",
     "text": [
      "CPU times: user 4min 1s, sys: 3min 10s, total: 7min 11s\n",
      "Wall time: 2min 37s\n"
     ]
    },
    {
     "data": {
      "text/plain": [
       "<matplotlib.axes._subplots.AxesSubplot at 0x7fe3ff36ec88>"
      ]
     },
     "execution_count": 15,
     "metadata": {},
     "output_type": "execute_result"
    },
    {
     "data": {
      "image/png": "[encoded data removed]",
      "text/plain": [
       "<Figure size 432x288 with 1 Axes>"
      ]
     },
     "metadata": {
      "needs_background": "light"
     },
     "output_type": "display_data"
    }
   ],
   "source": [
    "%%time\n",
    "sns.distplot(df[('NU_NOTA_REDACAO')].fillna(0)[df[('NU_NOTA_REDACAO')].fillna(0)>0], kde=False);"
   ]
  },
  {
   "cell_type": "code",
   "execution_count": 16,
   "metadata": {},
   "outputs": [],
   "source": [
    "sample = df.sample(frac=0.1)"
   ]
  },
  {
   "cell_type": "code",
   "execution_count": 17,
   "metadata": {},
   "outputs": [
    {
     "name": "stdout",
     "output_type": "stream",
     "text": [
      "CPU times: user 4min 15s, sys: 3min 9s, total: 7min 25s\n",
      "Wall time: 2min 42s\n"
     ]
    }
   ],
   "source": [
    "%%time\n",
    "pandas_df = sample.compute()"
   ]
  },
  {
   "cell_type": "code",
   "execution_count": 18,
   "metadata": {},
   "outputs": [
    {
     "name": "stderr",
     "output_type": "stream",
     "text": [
      "/home/abarbosa/miniconda3/envs/pgm/lib/python3.7/site-packages/scipy/stats/stats.py:1713: FutureWarning: Using a non-tuple sequence for multidimensional indexing is deprecated; use `arr[tuple(seq)]` instead of `arr[seq]`. In the future this will be interpreted as an array index, `arr[np.array(seq)]`, which will result either in an error or a different result.\n",
      "  return np.add.reduce(sorted[indexer] * weights, axis=axis) / sumval\n"
     ]
    },
    {
     "data": {
      "image/png": "[encoded data removed]",
      "text/plain": [
       "<Figure size 432x288 with 1 Axes>"
      ]
     },
     "metadata": {
      "needs_background": "light"
     },
     "output_type": "display_data"
    }
   ],
   "source": [
    "sns.distplot(pandas_df[('NU_NOTA_CN')].fillna(0)[pandas_df[('NU_NOTA_CN')].fillna(0)>0]);"
   ]
  },
  {
   "cell_type": "code",
   "execution_count": 19,
   "metadata": {},
   "outputs": [
    {
     "data": {
      "image/png": "[encoded data removed]",
      "text/plain": [
       "<Figure size 432x288 with 1 Axes>"
      ]
     },
     "metadata": {
      "needs_background": "light"
     },
     "output_type": "display_data"
    }
   ],
   "source": [
    "sns.distplot(pandas_df[('NU_NOTA_CH')].fillna(0)[pandas_df[('NU_NOTA_CH')].fillna(0)>0]);"
   ]
  },
  {
   "cell_type": "code",
   "execution_count": 20,
   "metadata": {},
   "outputs": [
    {
     "data": {
      "image/png": "[encoded data removed]",
      "text/plain": [
       "<Figure size 432x288 with 1 Axes>"
      ]
     },
     "metadata": {
      "needs_background": "light"
     },
     "output_type": "display_data"
    }
   ],
   "source": [
    "sns.distplot(pandas_df[('NU_NOTA_LC')].fillna(0)[pandas_df[('NU_NOTA_LC')].fillna(0)>0]);"
   ]
  },
  {
   "cell_type": "code",
   "execution_count": 21,
   "metadata": {},
   "outputs": [
    {
     "data": {
      "image/png": "[encoded data removed]",
      "text/plain": [
       "<Figure size 432x288 with 1 Axes>"
      ]
     },
     "metadata": {
      "needs_background": "light"
     },
     "output_type": "display_data"
    }
   ],
   "source": [
    "sns.distplot(pandas_df[('NU_NOTA_MT')].fillna(0)[pandas_df[('NU_NOTA_MT')].fillna(0)>0]);"
   ]
  },
  {
   "cell_type": "code",
   "execution_count": 22,
   "metadata": {},
   "outputs": [
    {
     "data": {
      "image/png": "[encoded data removed]",
      "text/plain": [
       "<Figure size 432x288 with 1 Axes>"
      ]
     },
     "metadata": {
      "needs_background": "light"
     },
     "output_type": "display_data"
    }
   ],
   "source": [
    "sns.distplot(pandas_df[('NU_NOTA_COMP1')].fillna(0)[pandas_df[('NU_NOTA_COMP1')].fillna(0)>0]);"
   ]
  },
  {
   "cell_type": "code",
   "execution_count": 23,
   "metadata": {},
   "outputs": [
    {
     "data": {
      "image/png": "[encoded data removed]",
      "text/plain": [
       "<Figure size 432x288 with 1 Axes>"
      ]
     },
     "metadata": {
      "needs_background": "light"
     },
     "output_type": "display_data"
    }
   ],
   "source": [
    "sns.distplot(pandas_df[('NU_NOTA_COMP2')].fillna(0)[pandas_df[('NU_NOTA_COMP2')].fillna(0)>0]);"
   ]
  },
  {
   "cell_type": "code",
   "execution_count": 24,
   "metadata": {},
   "outputs": [
    {
     "data": {
      "image/png": "[encoded data removed]",
      "text/plain": [
       "<Figure size 432x288 with 1 Axes>"
      ]
     },
     "metadata": {
      "needs_background": "light"
     },
     "output_type": "display_data"
    }
   ],
   "source": [
    "sns.distplot(pandas_df[('NU_NOTA_COMP3')].fillna(0)[pandas_df[('NU_NOTA_COMP3')].fillna(0)>0]);"
   ]
  },
  {
   "cell_type": "code",
   "execution_count": 25,
   "metadata": {},
   "outputs": [
    {
     "data": {
      "image/png": "[encoded data removed]",
      "text/plain": [
       "<Figure size 432x288 with 1 Axes>"
      ]
     },
     "metadata": {
      "needs_background": "light"
     },
     "output_type": "display_data"
    }
   ],
   "source": [
    "sns.distplot(pandas_df[('NU_NOTA_COMP4')].fillna(0)[pandas_df[('NU_NOTA_COMP4')].fillna(0)>0]);"
   ]
  },
  {
   "cell_type": "code",
   "execution_count": 26,
   "metadata": {},
   "outputs": [
    {
     "data": {
      "image/png": "[encoded data removed]",
      "text/plain": [
       "<Figure size 432x288 with 1 Axes>"
      ]
     },
     "metadata": {
      "needs_background": "light"
     },
     "output_type": "display_data"
    }
   ],
   "source": [
    "sns.distplot(pandas_df[('NU_NOTA_COMP5')].fillna(0)[pandas_df[('NU_NOTA_COMP5')].fillna(0)>0]);"
   ]
  },
  {
   "cell_type": "code",
   "execution_count": 27,
   "metadata": {},
   "outputs": [
    {
     "data": {
      "image/png": "[encoded data removed]",
      "text/plain": [
       "<Figure size 432x288 with 1 Axes>"
      ]
     },
     "metadata": {
      "needs_background": "light"
     },
     "output_type": "display_data"
    }
   ],
   "source": [
    "import matplotlib.ticker as ticker\n",
    "x = np.random.randint(0,1000, size=(100))\n",
    "ax = sns.distplot(pandas_df[('NU_NOTA_REDACAO')].fillna(0)[pandas_df[('NU_NOTA_REDACAO')].fillna(0)>0], kde=False);\n",
    "ax.xaxis.set_major_locator(ticker.MultipleLocator(100))"
   ]
  },
  {
   "cell_type": "code",
   "execution_count": 28,
   "metadata": {},
   "outputs": [],
   "source": [
    "pd.set_option('display.max_columns',None)"
   ]
  },
  {
   "cell_type": "code",
   "execution_count": 29,
   "metadata": {},
   "outputs": [
    {
     "data": {
      "text/html": [
       "<div>\n",
       "<style scoped>\n",
       "    .dataframe tbody tr th:only-of-type {\n",
       "        vertical-align: middle;\n",
       "    }\n",
       "\n",
       "    .dataframe tbody tr th {\n",
       "        vertical-align: top;\n",
       "    }\n",
       "\n",
       "    .dataframe thead th {\n",
       "        text-align: right;\n",
       "    }\n",
       "</style>\n",
       "<table border=\"1\" class=\"dataframe\">\n",
       "  <thead>\n",
       "    <tr style=\"text-align: right;\">\n",
       "      <th></th>\n",
       "      <th>NU_INSCRICAO</th>\n",
       "      <th>NU_ANO</th>\n",
       "      <th>CO_MUNICIPIO_RESIDENCIA</th>\n",
       "      <th>NO_MUNICIPIO_RESIDENCIA</th>\n",
       "      <th>CO_UF_RESIDENCIA</th>\n",
       "      <th>SG_UF_RESIDENCIA</th>\n",
       "      <th>NU_IDADE</th>\n",
       "      <th>TP_SEXO</th>\n",
       "      <th>TP_ESTADO_CIVIL</th>\n",
       "      <th>TP_COR_RACA</th>\n",
       "      <th>TP_NACIONALIDADE</th>\n",
       "      <th>CO_MUNICIPIO_NASCIMENTO</th>\n",
       "      <th>NO_MUNICIPIO_NASCIMENTO</th>\n",
       "      <th>CO_UF_NASCIMENTO</th>\n",
       "      <th>SG_UF_NASCIMENTO</th>\n",
       "      <th>TP_ST_CONCLUSAO</th>\n",
       "      <th>TP_ANO_CONCLUIU</th>\n",
       "      <th>TP_ESCOLA</th>\n",
       "      <th>TP_ENSINO</th>\n",
       "      <th>IN_TREINEIRO</th>\n",
       "      <th>CO_ESCOLA</th>\n",
       "      <th>CO_MUNICIPIO_ESC</th>\n",
       "      <th>NO_MUNICIPIO_ESC</th>\n",
       "      <th>CO_UF_ESC</th>\n",
       "      <th>SG_UF_ESC</th>\n",
       "      <th>TP_DEPENDENCIA_ADM_ESC</th>\n",
       "      <th>TP_LOCALIZACAO_ESC</th>\n",
       "      <th>TP_SIT_FUNC_ESC</th>\n",
       "      <th>IN_BAIXA_VISAO</th>\n",
       "      <th>IN_CEGUEIRA</th>\n",
       "      <th>IN_SURDEZ</th>\n",
       "      <th>IN_DEFICIENCIA_AUDITIVA</th>\n",
       "      <th>IN_SURDO_CEGUEIRA</th>\n",
       "      <th>IN_DEFICIENCIA_FISICA</th>\n",
       "      <th>IN_DEFICIENCIA_MENTAL</th>\n",
       "      <th>IN_DEFICIT_ATENCAO</th>\n",
       "      <th>IN_DISLEXIA</th>\n",
       "      <th>IN_DISCALCULIA</th>\n",
       "      <th>IN_AUTISMO</th>\n",
       "      <th>IN_VISAO_MONOCULAR</th>\n",
       "      <th>IN_OUTRA_DEF</th>\n",
       "      <th>IN_GESTANTE</th>\n",
       "      <th>IN_LACTANTE</th>\n",
       "      <th>IN_IDOSO</th>\n",
       "      <th>IN_ESTUDA_CLASSE_HOSPITALAR</th>\n",
       "      <th>IN_SEM_RECURSO</th>\n",
       "      <th>IN_BRAILLE</th>\n",
       "      <th>IN_AMPLIADA_24</th>\n",
       "      <th>IN_AMPLIADA_18</th>\n",
       "      <th>IN_LEDOR</th>\n",
       "      <th>IN_ACESSO</th>\n",
       "      <th>IN_TRANSCRICAO</th>\n",
       "      <th>IN_LIBRAS</th>\n",
       "      <th>IN_LEITURA_LABIAL</th>\n",
       "      <th>IN_MESA_CADEIRA_RODAS</th>\n",
       "      <th>IN_MESA_CADEIRA_SEPARADA</th>\n",
       "      <th>IN_APOIO_PERNA</th>\n",
       "      <th>IN_GUIA_INTERPRETE</th>\n",
       "      <th>IN_COMPUTADOR</th>\n",
       "      <th>IN_CADEIRA_ESPECIAL</th>\n",
       "      <th>IN_CADEIRA_CANHOTO</th>\n",
       "      <th>IN_CADEIRA_ACOLCHOADA</th>\n",
       "      <th>IN_PROVA_DEITADO</th>\n",
       "      <th>IN_MOBILIARIO_OBESO</th>\n",
       "      <th>IN_LAMINA_OVERLAY</th>\n",
       "      <th>IN_PROTETOR_AURICULAR</th>\n",
       "      <th>IN_MEDIDOR_GLICOSE</th>\n",
       "      <th>IN_MAQUINA_BRAILE</th>\n",
       "      <th>IN_SOROBAN</th>\n",
       "      <th>IN_MARCA_PASSO</th>\n",
       "      <th>IN_SONDA</th>\n",
       "      <th>IN_MEDICAMENTOS</th>\n",
       "      <th>IN_SALA_INDIVIDUAL</th>\n",
       "      <th>IN_SALA_ESPECIAL</th>\n",
       "      <th>IN_SALA_ACOMPANHANTE</th>\n",
       "      <th>IN_MOBILIARIO_ESPECIFICO</th>\n",
       "      <th>IN_MATERIAL_ESPECIFICO</th>\n",
       "      <th>IN_NOME_SOCIAL</th>\n",
       "      <th>CO_MUNICIPIO_PROVA</th>\n",
       "      <th>NO_MUNICIPIO_PROVA</th>\n",
       "      <th>CO_UF_PROVA</th>\n",
       "      <th>SG_UF_PROVA</th>\n",
       "      <th>TP_PRESENCA_CN</th>\n",
       "      <th>TP_PRESENCA_CH</th>\n",
       "      <th>TP_PRESENCA_LC</th>\n",
       "      <th>TP_PRESENCA_MT</th>\n",
       "      <th>CO_PROVA_CN</th>\n",
       "      <th>CO_PROVA_CH</th>\n",
       "      <th>CO_PROVA_LC</th>\n",
       "      <th>CO_PROVA_MT</th>\n",
       "      <th>NU_NOTA_CN</th>\n",
       "      <th>NU_NOTA_CH</th>\n",
       "      <th>NU_NOTA_LC</th>\n",
       "      <th>NU_NOTA_MT</th>\n",
       "      <th>TX_RESPOSTAS_CN</th>\n",
       "      <th>TX_RESPOSTAS_CH</th>\n",
       "      <th>TX_RESPOSTAS_LC</th>\n",
       "      <th>TX_RESPOSTAS_MT</th>\n",
       "      <th>TP_LINGUA</th>\n",
       "      <th>TX_GABARITO_CN</th>\n",
       "      <th>TX_GABARITO_CH</th>\n",
       "      <th>TX_GABARITO_LC</th>\n",
       "      <th>TX_GABARITO_MT</th>\n",
       "      <th>TP_STATUS_REDACAO</th>\n",
       "      <th>NU_NOTA_COMP1</th>\n",
       "      <th>NU_NOTA_COMP2</th>\n",
       "      <th>NU_NOTA_COMP3</th>\n",
       "      <th>NU_NOTA_COMP4</th>\n",
       "      <th>NU_NOTA_COMP5</th>\n",
       "      <th>NU_NOTA_REDACAO</th>\n",
       "      <th>Q001</th>\n",
       "      <th>Q002</th>\n",
       "      <th>Q003</th>\n",
       "      <th>Q004</th>\n",
       "      <th>Q005</th>\n",
       "      <th>Q006</th>\n",
       "      <th>Q007</th>\n",
       "      <th>Q008</th>\n",
       "      <th>Q009</th>\n",
       "      <th>Q010</th>\n",
       "      <th>Q011</th>\n",
       "      <th>Q012</th>\n",
       "      <th>Q013</th>\n",
       "      <th>Q014</th>\n",
       "      <th>Q015</th>\n",
       "      <th>Q016</th>\n",
       "      <th>Q017</th>\n",
       "      <th>Q018</th>\n",
       "      <th>Q019</th>\n",
       "      <th>Q020</th>\n",
       "      <th>Q021</th>\n",
       "      <th>Q022</th>\n",
       "      <th>Q023</th>\n",
       "      <th>Q024</th>\n",
       "      <th>Q025</th>\n",
       "      <th>Q026</th>\n",
       "      <th>Q027</th>\n",
       "    </tr>\n",
       "  </thead>\n",
       "  <tbody>\n",
       "    <tr>\n",
       "      <th>48095</th>\n",
       "      <td>1.700000e+11</td>\n",
       "      <td>2017.0</td>\n",
       "      <td>2408003.0</td>\n",
       "      <td>Mossoró</td>\n",
       "      <td>24.0</td>\n",
       "      <td>RN</td>\n",
       "      <td>17.0</td>\n",
       "      <td>M</td>\n",
       "      <td>0.0</td>\n",
       "      <td>1.0</td>\n",
       "      <td>1.0</td>\n",
       "      <td>2408003.0</td>\n",
       "      <td>Mossoró</td>\n",
       "      <td>24.0</td>\n",
       "      <td>RN</td>\n",
       "      <td>2.0</td>\n",
       "      <td>0.0</td>\n",
       "      <td>2.0</td>\n",
       "      <td>1.0</td>\n",
       "      <td>0.0</td>\n",
       "      <td>24002402.0</td>\n",
       "      <td>2408003.0</td>\n",
       "      <td>Mossoró</td>\n",
       "      <td>24.0</td>\n",
       "      <td>RN</td>\n",
       "      <td>2.0</td>\n",
       "      <td>1.0</td>\n",
       "      <td>1.0</td>\n",
       "      <td>0.0</td>\n",
       "      <td>0.0</td>\n",
       "      <td>0.0</td>\n",
       "      <td>0.0</td>\n",
       "      <td>0.0</td>\n",
       "      <td>0.0</td>\n",
       "      <td>0.0</td>\n",
       "      <td>0.0</td>\n",
       "      <td>0.0</td>\n",
       "      <td>0.0</td>\n",
       "      <td>0.0</td>\n",
       "      <td>0.0</td>\n",
       "      <td>0.0</td>\n",
       "      <td>0.0</td>\n",
       "      <td>0.0</td>\n",
       "      <td>0.0</td>\n",
       "      <td>0.0</td>\n",
       "      <td>0.0</td>\n",
       "      <td>0.0</td>\n",
       "      <td>0.0</td>\n",
       "      <td>0.0</td>\n",
       "      <td>0.0</td>\n",
       "      <td>0.0</td>\n",
       "      <td>0.0</td>\n",
       "      <td>0.0</td>\n",
       "      <td>0.0</td>\n",
       "      <td>0.0</td>\n",
       "      <td>0.0</td>\n",
       "      <td>0.0</td>\n",
       "      <td>0.0</td>\n",
       "      <td>0.0</td>\n",
       "      <td>0.0</td>\n",
       "      <td>0.0</td>\n",
       "      <td>0.0</td>\n",
       "      <td>0.0</td>\n",
       "      <td>0.0</td>\n",
       "      <td>0.0</td>\n",
       "      <td>0.0</td>\n",
       "      <td>0.0</td>\n",
       "      <td>0.0</td>\n",
       "      <td>0.0</td>\n",
       "      <td>0.0</td>\n",
       "      <td>0.0</td>\n",
       "      <td>0.0</td>\n",
       "      <td>0.0</td>\n",
       "      <td>0.0</td>\n",
       "      <td>0.0</td>\n",
       "      <td>0.0</td>\n",
       "      <td>0.0</td>\n",
       "      <td>0.0</td>\n",
       "      <td>2408003.0</td>\n",
       "      <td>Mossoró</td>\n",
       "      <td>24.0</td>\n",
       "      <td>RN</td>\n",
       "      <td>1.0</td>\n",
       "      <td>1.0</td>\n",
       "      <td>1.0</td>\n",
       "      <td>1.0</td>\n",
       "      <td>394.0</td>\n",
       "      <td>396.0</td>\n",
       "      <td>400.0</td>\n",
       "      <td>405.0</td>\n",
       "      <td>631.8</td>\n",
       "      <td>609.3</td>\n",
       "      <td>591.6</td>\n",
       "      <td>696.5</td>\n",
       "      <td>BEBDEDCCCAACAACEBDDBEBEBADEDBECEEBACAABACCCBB</td>\n",
       "      <td>DCEBEACBCCDBABBAECACCBDCCCEEBEEBDECDCAEEBDBEC</td>\n",
       "      <td>99999BCBDECCEBDEEDCEDADDDABBADEDEDAAAABBBACAEB...</td>\n",
       "      <td>ABCDBABEEBBCDABCEBBDBDEABEECBECABEDAEBDABBBCB</td>\n",
       "      <td>1.0</td>\n",
       "      <td>EEAAECDCCDADAADECDCBCDAAEDEEBABCEDDCBEBAABCBB</td>\n",
       "      <td>CDEAEECAEBDBDBBAECDAEBCCCDAEBEABDBEDAADBCDDEC</td>\n",
       "      <td>EDDCDBEEDECCEBDAEDAEDAABEDBBADEDEDDABAABBDCBEA...</td>\n",
       "      <td>BBDBADBEECDCCECAEBBDDEDDCCBBACADAEACEADABDECB</td>\n",
       "      <td>1.0</td>\n",
       "      <td>160.0</td>\n",
       "      <td>120.0</td>\n",
       "      <td>160.0</td>\n",
       "      <td>160.0</td>\n",
       "      <td>80.0</td>\n",
       "      <td>680.0</td>\n",
       "      <td>F</td>\n",
       "      <td>E</td>\n",
       "      <td>B</td>\n",
       "      <td>F</td>\n",
       "      <td>5.0</td>\n",
       "      <td>C</td>\n",
       "      <td>A</td>\n",
       "      <td>B</td>\n",
       "      <td>D</td>\n",
       "      <td>A</td>\n",
       "      <td>B</td>\n",
       "      <td>B</td>\n",
       "      <td>C</td>\n",
       "      <td>A</td>\n",
       "      <td>A</td>\n",
       "      <td>A</td>\n",
       "      <td>A</td>\n",
       "      <td>A</td>\n",
       "      <td>C</td>\n",
       "      <td>A</td>\n",
       "      <td>A</td>\n",
       "      <td>C</td>\n",
       "      <td>A</td>\n",
       "      <td>B</td>\n",
       "      <td>B</td>\n",
       "      <td>B</td>\n",
       "      <td>A</td>\n",
       "    </tr>\n",
       "    <tr>\n",
       "      <th>79687</th>\n",
       "      <td>1.700050e+11</td>\n",
       "      <td>2017.0</td>\n",
       "      <td>3137205.0</td>\n",
       "      <td>Lagoa da Prata</td>\n",
       "      <td>31.0</td>\n",
       "      <td>MG</td>\n",
       "      <td>16.0</td>\n",
       "      <td>F</td>\n",
       "      <td>0.0</td>\n",
       "      <td>1.0</td>\n",
       "      <td>1.0</td>\n",
       "      <td>3137205.0</td>\n",
       "      <td>Lagoa da Prata</td>\n",
       "      <td>31.0</td>\n",
       "      <td>MG</td>\n",
       "      <td>3.0</td>\n",
       "      <td>0.0</td>\n",
       "      <td>1.0</td>\n",
       "      <td>NaN</td>\n",
       "      <td>1.0</td>\n",
       "      <td>NaN</td>\n",
       "      <td>NaN</td>\n",
       "      <td>NaN</td>\n",
       "      <td>NaN</td>\n",
       "      <td>NaN</td>\n",
       "      <td>NaN</td>\n",
       "      <td>NaN</td>\n",
       "      <td>NaN</td>\n",
       "      <td>0.0</td>\n",
       "      <td>0.0</td>\n",
       "      <td>0.0</td>\n",
       "      <td>0.0</td>\n",
       "      <td>0.0</td>\n",
       "      <td>0.0</td>\n",
       "      <td>0.0</td>\n",
       "      <td>0.0</td>\n",
       "      <td>0.0</td>\n",
       "      <td>0.0</td>\n",
       "      <td>0.0</td>\n",
       "      <td>0.0</td>\n",
       "      <td>0.0</td>\n",
       "      <td>0.0</td>\n",
       "      <td>0.0</td>\n",
       "      <td>0.0</td>\n",
       "      <td>0.0</td>\n",
       "      <td>0.0</td>\n",
       "      <td>0.0</td>\n",
       "      <td>0.0</td>\n",
       "      <td>0.0</td>\n",
       "      <td>0.0</td>\n",
       "      <td>0.0</td>\n",
       "      <td>0.0</td>\n",
       "      <td>0.0</td>\n",
       "      <td>0.0</td>\n",
       "      <td>0.0</td>\n",
       "      <td>0.0</td>\n",
       "      <td>0.0</td>\n",
       "      <td>0.0</td>\n",
       "      <td>0.0</td>\n",
       "      <td>0.0</td>\n",
       "      <td>0.0</td>\n",
       "      <td>0.0</td>\n",
       "      <td>0.0</td>\n",
       "      <td>0.0</td>\n",
       "      <td>0.0</td>\n",
       "      <td>0.0</td>\n",
       "      <td>0.0</td>\n",
       "      <td>0.0</td>\n",
       "      <td>0.0</td>\n",
       "      <td>0.0</td>\n",
       "      <td>0.0</td>\n",
       "      <td>0.0</td>\n",
       "      <td>0.0</td>\n",
       "      <td>0.0</td>\n",
       "      <td>0.0</td>\n",
       "      <td>0.0</td>\n",
       "      <td>0.0</td>\n",
       "      <td>0.0</td>\n",
       "      <td>3137205.0</td>\n",
       "      <td>Lagoa da Prata</td>\n",
       "      <td>31.0</td>\n",
       "      <td>MG</td>\n",
       "      <td>1.0</td>\n",
       "      <td>1.0</td>\n",
       "      <td>1.0</td>\n",
       "      <td>1.0</td>\n",
       "      <td>392.0</td>\n",
       "      <td>398.0</td>\n",
       "      <td>401.0</td>\n",
       "      <td>404.0</td>\n",
       "      <td>585.4</td>\n",
       "      <td>603.8</td>\n",
       "      <td>560.9</td>\n",
       "      <td>670.5</td>\n",
       "      <td>BCAEACADAAECACACDEBADAADBDAAACEEBEAECCCEDBAAC</td>\n",
       "      <td>CACBDDAABBDAEDACCADEDCCEAEDCEEDEBBBEBBAACBDAD</td>\n",
       "      <td>DCEBC99999BBABAACEDBBDEDCAEABBCDCDBBAEDADBBABB...</td>\n",
       "      <td>CEECABBDDBABDCDCEBCBDCABECBABEBCDEBABAEABBACD</td>\n",
       "      <td>0.0</td>\n",
       "      <td>BCBBEBAAEDDCBDADEEBADECDCBCDAAEABCEEAAECDCCDA</td>\n",
       "      <td>DAEBEABDBEDACDDECADBCCCAECDEECAEBDBDBBAECDAEB</td>\n",
       "      <td>DEDCDBEEDEECABAAEDDCBDEDBAEABBBDEDBBCCDAEBCAAB...</td>\n",
       "      <td>CCECEECDADBBDBBDBAEBDDABECBDCCDEDBBACAEADAEAC</td>\n",
       "      <td>1.0</td>\n",
       "      <td>200.0</td>\n",
       "      <td>120.0</td>\n",
       "      <td>180.0</td>\n",
       "      <td>200.0</td>\n",
       "      <td>120.0</td>\n",
       "      <td>820.0</td>\n",
       "      <td>E</td>\n",
       "      <td>G</td>\n",
       "      <td>C</td>\n",
       "      <td>D</td>\n",
       "      <td>4.0</td>\n",
       "      <td>H</td>\n",
       "      <td>A</td>\n",
       "      <td>D</td>\n",
       "      <td>D</td>\n",
       "      <td>B</td>\n",
       "      <td>C</td>\n",
       "      <td>B</td>\n",
       "      <td>B</td>\n",
       "      <td>B</td>\n",
       "      <td>A</td>\n",
       "      <td>B</td>\n",
       "      <td>A</td>\n",
       "      <td>A</td>\n",
       "      <td>C</td>\n",
       "      <td>A</td>\n",
       "      <td>A</td>\n",
       "      <td>D</td>\n",
       "      <td>A</td>\n",
       "      <td>B</td>\n",
       "      <td>B</td>\n",
       "      <td>C</td>\n",
       "      <td>A</td>\n",
       "    </tr>\n",
       "    <tr>\n",
       "      <th>47855</th>\n",
       "      <td>1.700000e+11</td>\n",
       "      <td>2017.0</td>\n",
       "      <td>2105302.0</td>\n",
       "      <td>Imperatriz</td>\n",
       "      <td>21.0</td>\n",
       "      <td>MA</td>\n",
       "      <td>16.0</td>\n",
       "      <td>F</td>\n",
       "      <td>0.0</td>\n",
       "      <td>1.0</td>\n",
       "      <td>1.0</td>\n",
       "      <td>2105302.0</td>\n",
       "      <td>Imperatriz</td>\n",
       "      <td>21.0</td>\n",
       "      <td>MA</td>\n",
       "      <td>3.0</td>\n",
       "      <td>0.0</td>\n",
       "      <td>1.0</td>\n",
       "      <td>NaN</td>\n",
       "      <td>1.0</td>\n",
       "      <td>NaN</td>\n",
       "      <td>NaN</td>\n",
       "      <td>NaN</td>\n",
       "      <td>NaN</td>\n",
       "      <td>NaN</td>\n",
       "      <td>NaN</td>\n",
       "      <td>NaN</td>\n",
       "      <td>NaN</td>\n",
       "      <td>0.0</td>\n",
       "      <td>0.0</td>\n",
       "      <td>0.0</td>\n",
       "      <td>0.0</td>\n",
       "      <td>0.0</td>\n",
       "      <td>0.0</td>\n",
       "      <td>0.0</td>\n",
       "      <td>0.0</td>\n",
       "      <td>0.0</td>\n",
       "      <td>0.0</td>\n",
       "      <td>0.0</td>\n",
       "      <td>0.0</td>\n",
       "      <td>0.0</td>\n",
       "      <td>0.0</td>\n",
       "      <td>0.0</td>\n",
       "      <td>0.0</td>\n",
       "      <td>0.0</td>\n",
       "      <td>0.0</td>\n",
       "      <td>0.0</td>\n",
       "      <td>0.0</td>\n",
       "      <td>0.0</td>\n",
       "      <td>0.0</td>\n",
       "      <td>0.0</td>\n",
       "      <td>0.0</td>\n",
       "      <td>0.0</td>\n",
       "      <td>0.0</td>\n",
       "      <td>0.0</td>\n",
       "      <td>0.0</td>\n",
       "      <td>0.0</td>\n",
       "      <td>0.0</td>\n",
       "      <td>0.0</td>\n",
       "      <td>0.0</td>\n",
       "      <td>0.0</td>\n",
       "      <td>0.0</td>\n",
       "      <td>0.0</td>\n",
       "      <td>0.0</td>\n",
       "      <td>0.0</td>\n",
       "      <td>0.0</td>\n",
       "      <td>0.0</td>\n",
       "      <td>0.0</td>\n",
       "      <td>0.0</td>\n",
       "      <td>0.0</td>\n",
       "      <td>0.0</td>\n",
       "      <td>0.0</td>\n",
       "      <td>0.0</td>\n",
       "      <td>0.0</td>\n",
       "      <td>0.0</td>\n",
       "      <td>0.0</td>\n",
       "      <td>0.0</td>\n",
       "      <td>0.0</td>\n",
       "      <td>2105302.0</td>\n",
       "      <td>Imperatriz</td>\n",
       "      <td>21.0</td>\n",
       "      <td>MA</td>\n",
       "      <td>1.0</td>\n",
       "      <td>1.0</td>\n",
       "      <td>1.0</td>\n",
       "      <td>1.0</td>\n",
       "      <td>393.0</td>\n",
       "      <td>397.0</td>\n",
       "      <td>402.0</td>\n",
       "      <td>406.0</td>\n",
       "      <td>506.9</td>\n",
       "      <td>428.8</td>\n",
       "      <td>513.1</td>\n",
       "      <td>458.0</td>\n",
       "      <td>BAADEDDCBCEDBABADADCBBEDBDBADDAABEACADDBBDCAC</td>\n",
       "      <td>DDABBDBCBACBBDACAAADAEAABAAEBEBBADBADDABDDACA</td>\n",
       "      <td>99999EDBACCAEADEBBBDEDBAACBCBABEBABEBEABDBEBAB...</td>\n",
       "      <td>CEEEADABADCDABBBAEADBECCEAECAEDBECAEDBDADDEAC</td>\n",
       "      <td>1.0</td>\n",
       "      <td>CCDACDEEAAEABCDAAECDCBADECDEEBDACBEDDBCBBEBAA</td>\n",
       "      <td>ECAEBCDDECADBEABDDBDBDAEBCCCCDEAEDAEBBEDABAEC</td>\n",
       "      <td>DDCDEEDBEECEBADEDEABEDBBBDBCCABAAAABCBDAEDEDDB...</td>\n",
       "      <td>EECDCCECBDBBDBAEBADBECBDDABDEDEAADCCDAEACBBAC</td>\n",
       "      <td>1.0</td>\n",
       "      <td>140.0</td>\n",
       "      <td>100.0</td>\n",
       "      <td>100.0</td>\n",
       "      <td>100.0</td>\n",
       "      <td>20.0</td>\n",
       "      <td>460.0</td>\n",
       "      <td>G</td>\n",
       "      <td>G</td>\n",
       "      <td>E</td>\n",
       "      <td>E</td>\n",
       "      <td>3.0</td>\n",
       "      <td>H</td>\n",
       "      <td>A</td>\n",
       "      <td>C</td>\n",
       "      <td>C</td>\n",
       "      <td>B</td>\n",
       "      <td>B</td>\n",
       "      <td>C</td>\n",
       "      <td>B</td>\n",
       "      <td>B</td>\n",
       "      <td>A</td>\n",
       "      <td>B</td>\n",
       "      <td>A</td>\n",
       "      <td>A</td>\n",
       "      <td>D</td>\n",
       "      <td>B</td>\n",
       "      <td>A</td>\n",
       "      <td>D</td>\n",
       "      <td>A</td>\n",
       "      <td>C</td>\n",
       "      <td>B</td>\n",
       "      <td>C</td>\n",
       "      <td>A</td>\n",
       "    </tr>\n",
       "    <tr>\n",
       "      <th>89113</th>\n",
       "      <td>1.700017e+11</td>\n",
       "      <td>2017.0</td>\n",
       "      <td>2922508.0</td>\n",
       "      <td>Nazaré</td>\n",
       "      <td>29.0</td>\n",
       "      <td>BA</td>\n",
       "      <td>23.0</td>\n",
       "      <td>M</td>\n",
       "      <td>0.0</td>\n",
       "      <td>3.0</td>\n",
       "      <td>1.0</td>\n",
       "      <td>2922508.0</td>\n",
       "      <td>Nazaré</td>\n",
       "      <td>29.0</td>\n",
       "      <td>BA</td>\n",
       "      <td>1.0</td>\n",
       "      <td>4.0</td>\n",
       "      <td>1.0</td>\n",
       "      <td>NaN</td>\n",
       "      <td>0.0</td>\n",
       "      <td>NaN</td>\n",
       "      <td>NaN</td>\n",
       "      <td>NaN</td>\n",
       "      <td>NaN</td>\n",
       "      <td>NaN</td>\n",
       "      <td>NaN</td>\n",
       "      <td>NaN</td>\n",
       "      <td>NaN</td>\n",
       "      <td>0.0</td>\n",
       "      <td>0.0</td>\n",
       "      <td>0.0</td>\n",
       "      <td>0.0</td>\n",
       "      <td>0.0</td>\n",
       "      <td>0.0</td>\n",
       "      <td>0.0</td>\n",
       "      <td>0.0</td>\n",
       "      <td>0.0</td>\n",
       "      <td>0.0</td>\n",
       "      <td>0.0</td>\n",
       "      <td>0.0</td>\n",
       "      <td>0.0</td>\n",
       "      <td>0.0</td>\n",
       "      <td>0.0</td>\n",
       "      <td>0.0</td>\n",
       "      <td>0.0</td>\n",
       "      <td>0.0</td>\n",
       "      <td>0.0</td>\n",
       "      <td>0.0</td>\n",
       "      <td>0.0</td>\n",
       "      <td>0.0</td>\n",
       "      <td>0.0</td>\n",
       "      <td>0.0</td>\n",
       "      <td>0.0</td>\n",
       "      <td>0.0</td>\n",
       "      <td>0.0</td>\n",
       "      <td>0.0</td>\n",
       "      <td>0.0</td>\n",
       "      <td>0.0</td>\n",
       "      <td>0.0</td>\n",
       "      <td>0.0</td>\n",
       "      <td>0.0</td>\n",
       "      <td>0.0</td>\n",
       "      <td>0.0</td>\n",
       "      <td>0.0</td>\n",
       "      <td>0.0</td>\n",
       "      <td>0.0</td>\n",
       "      <td>0.0</td>\n",
       "      <td>0.0</td>\n",
       "      <td>0.0</td>\n",
       "      <td>0.0</td>\n",
       "      <td>0.0</td>\n",
       "      <td>0.0</td>\n",
       "      <td>0.0</td>\n",
       "      <td>0.0</td>\n",
       "      <td>0.0</td>\n",
       "      <td>0.0</td>\n",
       "      <td>0.0</td>\n",
       "      <td>0.0</td>\n",
       "      <td>2922508.0</td>\n",
       "      <td>Nazaré</td>\n",
       "      <td>29.0</td>\n",
       "      <td>BA</td>\n",
       "      <td>1.0</td>\n",
       "      <td>1.0</td>\n",
       "      <td>1.0</td>\n",
       "      <td>1.0</td>\n",
       "      <td>394.0</td>\n",
       "      <td>397.0</td>\n",
       "      <td>402.0</td>\n",
       "      <td>405.0</td>\n",
       "      <td>408.1</td>\n",
       "      <td>372.8</td>\n",
       "      <td>476.7</td>\n",
       "      <td>445.5</td>\n",
       "      <td>ABBBCAADAABCDECBEBBBAEADACDCDECADACBACBBCBACB</td>\n",
       "      <td>ABBBEBBCBADDBCDACBDAEDCECADEDCABDCDEABDEBCAAB</td>\n",
       "      <td>99999DBAEBCCAAEBEEDCDCABDABCBEDEAECCADEAEAEECB...</td>\n",
       "      <td>CAECDBACADCADEBDACDEDACEAABABCECBBADBDEACBDCB</td>\n",
       "      <td>1.0</td>\n",
       "      <td>EEAAECDCCDADAADECDCBCDAAEDEEBABCEDDCBEBAABCBB</td>\n",
       "      <td>ECAEBCDDECADBEABDDBDBDAEBCCCCDEAEDAEBBEDABAEC</td>\n",
       "      <td>DDCDEEDBEECEBADEDEABEDBBBDBCCABAAAABCBDAEDEDDB...</td>\n",
       "      <td>BBDBADBEECDCCECAEBBDDEDDCCBBACADAEACEADABDECB</td>\n",
       "      <td>1.0</td>\n",
       "      <td>120.0</td>\n",
       "      <td>120.0</td>\n",
       "      <td>120.0</td>\n",
       "      <td>120.0</td>\n",
       "      <td>140.0</td>\n",
       "      <td>620.0</td>\n",
       "      <td>H</td>\n",
       "      <td>C</td>\n",
       "      <td>C</td>\n",
       "      <td>B</td>\n",
       "      <td>3.0</td>\n",
       "      <td>B</td>\n",
       "      <td>A</td>\n",
       "      <td>C</td>\n",
       "      <td>D</td>\n",
       "      <td>A</td>\n",
       "      <td>A</td>\n",
       "      <td>B</td>\n",
       "      <td>A</td>\n",
       "      <td>A</td>\n",
       "      <td>A</td>\n",
       "      <td>B</td>\n",
       "      <td>A</td>\n",
       "      <td>A</td>\n",
       "      <td>B</td>\n",
       "      <td>B</td>\n",
       "      <td>A</td>\n",
       "      <td>C</td>\n",
       "      <td>A</td>\n",
       "      <td>B</td>\n",
       "      <td>B</td>\n",
       "      <td>A</td>\n",
       "      <td>A</td>\n",
       "    </tr>\n",
       "    <tr>\n",
       "      <th>18267</th>\n",
       "      <td>1.700033e+11</td>\n",
       "      <td>2017.0</td>\n",
       "      <td>3304557.0</td>\n",
       "      <td>Rio de Janeiro</td>\n",
       "      <td>33.0</td>\n",
       "      <td>RJ</td>\n",
       "      <td>16.0</td>\n",
       "      <td>M</td>\n",
       "      <td>0.0</td>\n",
       "      <td>1.0</td>\n",
       "      <td>1.0</td>\n",
       "      <td>2304400.0</td>\n",
       "      <td>Fortaleza</td>\n",
       "      <td>23.0</td>\n",
       "      <td>CE</td>\n",
       "      <td>2.0</td>\n",
       "      <td>0.0</td>\n",
       "      <td>3.0</td>\n",
       "      <td>1.0</td>\n",
       "      <td>0.0</td>\n",
       "      <td>33322201.0</td>\n",
       "      <td>3304557.0</td>\n",
       "      <td>Rio de Janeiro</td>\n",
       "      <td>33.0</td>\n",
       "      <td>RJ</td>\n",
       "      <td>4.0</td>\n",
       "      <td>1.0</td>\n",
       "      <td>1.0</td>\n",
       "      <td>0.0</td>\n",
       "      <td>0.0</td>\n",
       "      <td>0.0</td>\n",
       "      <td>0.0</td>\n",
       "      <td>0.0</td>\n",
       "      <td>0.0</td>\n",
       "      <td>0.0</td>\n",
       "      <td>0.0</td>\n",
       "      <td>0.0</td>\n",
       "      <td>0.0</td>\n",
       "      <td>0.0</td>\n",
       "      <td>0.0</td>\n",
       "      <td>0.0</td>\n",
       "      <td>0.0</td>\n",
       "      <td>0.0</td>\n",
       "      <td>0.0</td>\n",
       "      <td>0.0</td>\n",
       "      <td>0.0</td>\n",
       "      <td>0.0</td>\n",
       "      <td>0.0</td>\n",
       "      <td>0.0</td>\n",
       "      <td>0.0</td>\n",
       "      <td>0.0</td>\n",
       "      <td>0.0</td>\n",
       "      <td>0.0</td>\n",
       "      <td>0.0</td>\n",
       "      <td>0.0</td>\n",
       "      <td>0.0</td>\n",
       "      <td>0.0</td>\n",
       "      <td>0.0</td>\n",
       "      <td>0.0</td>\n",
       "      <td>0.0</td>\n",
       "      <td>0.0</td>\n",
       "      <td>0.0</td>\n",
       "      <td>0.0</td>\n",
       "      <td>0.0</td>\n",
       "      <td>0.0</td>\n",
       "      <td>0.0</td>\n",
       "      <td>0.0</td>\n",
       "      <td>0.0</td>\n",
       "      <td>0.0</td>\n",
       "      <td>0.0</td>\n",
       "      <td>0.0</td>\n",
       "      <td>0.0</td>\n",
       "      <td>0.0</td>\n",
       "      <td>0.0</td>\n",
       "      <td>0.0</td>\n",
       "      <td>0.0</td>\n",
       "      <td>0.0</td>\n",
       "      <td>0.0</td>\n",
       "      <td>3304557.0</td>\n",
       "      <td>Rio de Janeiro</td>\n",
       "      <td>33.0</td>\n",
       "      <td>RJ</td>\n",
       "      <td>1.0</td>\n",
       "      <td>1.0</td>\n",
       "      <td>1.0</td>\n",
       "      <td>1.0</td>\n",
       "      <td>394.0</td>\n",
       "      <td>396.0</td>\n",
       "      <td>400.0</td>\n",
       "      <td>405.0</td>\n",
       "      <td>589.7</td>\n",
       "      <td>673.3</td>\n",
       "      <td>615.7</td>\n",
       "      <td>769.7</td>\n",
       "      <td>BECCADDACCBCDECBBDCDBCDCBADEBEBBEBCDBBBACDABB</td>\n",
       "      <td>CDDAEECAEDDBDEBAACDCEBCCEDDADBABABEDBADECDBEC</td>\n",
       "      <td>BEDCD99999CCEBDCEDDBEAAECABCADEDEDDABAADBDCBEA...</td>\n",
       "      <td>CDDBADBBECCCBEBAEBBDDCEBCEBBBCEDBEAAEDEABDCEB</td>\n",
       "      <td>0.0</td>\n",
       "      <td>EEAAECDCCDADAADECDCBCDAAEDEEBABCEDDCBEBAABCBB</td>\n",
       "      <td>CDEAEECAEBDBDBBAECDAEBCCCDAEBEABDBEDAADBCDDEC</td>\n",
       "      <td>EDDCDBEEDECCEBDAEDAEDAABEDBBADEDEDDABAABBDCBEA...</td>\n",
       "      <td>BBDBADBEECDCCECAEBBDDEDDCCBBACADAEACEADABDECB</td>\n",
       "      <td>1.0</td>\n",
       "      <td>120.0</td>\n",
       "      <td>180.0</td>\n",
       "      <td>120.0</td>\n",
       "      <td>120.0</td>\n",
       "      <td>140.0</td>\n",
       "      <td>680.0</td>\n",
       "      <td>G</td>\n",
       "      <td>G</td>\n",
       "      <td>E</td>\n",
       "      <td>E</td>\n",
       "      <td>4.0</td>\n",
       "      <td>L</td>\n",
       "      <td>A</td>\n",
       "      <td>B</td>\n",
       "      <td>C</td>\n",
       "      <td>A</td>\n",
       "      <td>A</td>\n",
       "      <td>B</td>\n",
       "      <td>B</td>\n",
       "      <td>B</td>\n",
       "      <td>B</td>\n",
       "      <td>B</td>\n",
       "      <td>A</td>\n",
       "      <td>B</td>\n",
       "      <td>B</td>\n",
       "      <td>B</td>\n",
       "      <td>B</td>\n",
       "      <td>E</td>\n",
       "      <td>B</td>\n",
       "      <td>C</td>\n",
       "      <td>B</td>\n",
       "      <td>B</td>\n",
       "      <td>E</td>\n",
       "    </tr>\n",
       "  </tbody>\n",
       "</table>\n",
       "</div>"
      ],
      "text/plain": [
       "       NU_INSCRICAO  NU_ANO  CO_MUNICIPIO_RESIDENCIA NO_MUNICIPIO_RESIDENCIA  \\\n",
       "48095  1.700000e+11  2017.0                2408003.0                 Mossoró   \n",
       "79687  1.700050e+11  2017.0                3137205.0          Lagoa da Prata   \n",
       "47855  1.700000e+11  2017.0                2105302.0              Imperatriz   \n",
       "89113  1.700017e+11  2017.0                2922508.0                  Nazaré   \n",
       "18267  1.700033e+11  2017.0                3304557.0          Rio de Janeiro   \n",
       "\n",
       "       CO_UF_RESIDENCIA SG_UF_RESIDENCIA  NU_IDADE TP_SEXO  TP_ESTADO_CIVIL  \\\n",
       "48095              24.0               RN      17.0       M              0.0   \n",
       "79687              31.0               MG      16.0       F              0.0   \n",
       "47855              21.0               MA      16.0       F              0.0   \n",
       "89113              29.0               BA      23.0       M              0.0   \n",
       "18267              33.0               RJ      16.0       M              0.0   \n",
       "\n",
       "       TP_COR_RACA  TP_NACIONALIDADE  CO_MUNICIPIO_NASCIMENTO  \\\n",
       "48095          1.0               1.0                2408003.0   \n",
       "79687          1.0               1.0                3137205.0   \n",
       "47855          1.0               1.0                2105302.0   \n",
       "89113          3.0               1.0                2922508.0   \n",
       "18267          1.0               1.0                2304400.0   \n",
       "\n",
       "      NO_MUNICIPIO_NASCIMENTO  CO_UF_NASCIMENTO SG_UF_NASCIMENTO  \\\n",
       "48095                 Mossoró              24.0               RN   \n",
       "79687          Lagoa da Prata              31.0               MG   \n",
       "47855              Imperatriz              21.0               MA   \n",
       "89113                  Nazaré              29.0               BA   \n",
       "18267               Fortaleza              23.0               CE   \n",
       "\n",
       "       TP_ST_CONCLUSAO  TP_ANO_CONCLUIU  TP_ESCOLA  TP_ENSINO  IN_TREINEIRO  \\\n",
       "48095              2.0              0.0        2.0        1.0           0.0   \n",
       "79687              3.0              0.0        1.0        NaN           1.0   \n",
       "47855              3.0              0.0        1.0        NaN           1.0   \n",
       "89113              1.0              4.0        1.0        NaN           0.0   \n",
       "18267              2.0              0.0        3.0        1.0           0.0   \n",
       "\n",
       "        CO_ESCOLA  CO_MUNICIPIO_ESC NO_MUNICIPIO_ESC  CO_UF_ESC SG_UF_ESC  \\\n",
       "48095  24002402.0         2408003.0          Mossoró       24.0        RN   \n",
       "79687         NaN               NaN              NaN        NaN       NaN   \n",
       "47855         NaN               NaN              NaN        NaN       NaN   \n",
       "89113         NaN               NaN              NaN        NaN       NaN   \n",
       "18267  33322201.0         3304557.0   Rio de Janeiro       33.0        RJ   \n",
       "\n",
       "       TP_DEPENDENCIA_ADM_ESC  TP_LOCALIZACAO_ESC  TP_SIT_FUNC_ESC  \\\n",
       "48095                     2.0                 1.0              1.0   \n",
       "79687                     NaN                 NaN              NaN   \n",
       "47855                     NaN                 NaN              NaN   \n",
       "89113                     NaN                 NaN              NaN   \n",
       "18267                     4.0                 1.0              1.0   \n",
       "\n",
       "       IN_BAIXA_VISAO  IN_CEGUEIRA  IN_SURDEZ  IN_DEFICIENCIA_AUDITIVA  \\\n",
       "48095             0.0          0.0        0.0                      0.0   \n",
       "79687             0.0          0.0        0.0                      0.0   \n",
       "47855             0.0          0.0        0.0                      0.0   \n",
       "89113             0.0          0.0        0.0                      0.0   \n",
       "18267             0.0          0.0        0.0                      0.0   \n",
       "\n",
       "       IN_SURDO_CEGUEIRA  IN_DEFICIENCIA_FISICA  IN_DEFICIENCIA_MENTAL  \\\n",
       "48095                0.0                    0.0                    0.0   \n",
       "79687                0.0                    0.0                    0.0   \n",
       "47855                0.0                    0.0                    0.0   \n",
       "89113                0.0                    0.0                    0.0   \n",
       "18267                0.0                    0.0                    0.0   \n",
       "\n",
       "       IN_DEFICIT_ATENCAO  IN_DISLEXIA  IN_DISCALCULIA  IN_AUTISMO  \\\n",
       "48095                 0.0          0.0             0.0         0.0   \n",
       "79687                 0.0          0.0             0.0         0.0   \n",
       "47855                 0.0          0.0             0.0         0.0   \n",
       "89113                 0.0          0.0             0.0         0.0   \n",
       "18267                 0.0          0.0             0.0         0.0   \n",
       "\n",
       "       IN_VISAO_MONOCULAR  IN_OUTRA_DEF  IN_GESTANTE  IN_LACTANTE  IN_IDOSO  \\\n",
       "48095                 0.0           0.0          0.0          0.0       0.0   \n",
       "79687                 0.0           0.0          0.0          0.0       0.0   \n",
       "47855                 0.0           0.0          0.0          0.0       0.0   \n",
       "89113                 0.0           0.0          0.0          0.0       0.0   \n",
       "18267                 0.0           0.0          0.0          0.0       0.0   \n",
       "\n",
       "       IN_ESTUDA_CLASSE_HOSPITALAR  IN_SEM_RECURSO  IN_BRAILLE  \\\n",
       "48095                          0.0             0.0         0.0   \n",
       "79687                          0.0             0.0         0.0   \n",
       "47855                          0.0             0.0         0.0   \n",
       "89113                          0.0             0.0         0.0   \n",
       "18267                          0.0             0.0         0.0   \n",
       "\n",
       "       IN_AMPLIADA_24  IN_AMPLIADA_18  IN_LEDOR  IN_ACESSO  IN_TRANSCRICAO  \\\n",
       "48095             0.0             0.0       0.0        0.0             0.0   \n",
       "79687             0.0             0.0       0.0        0.0             0.0   \n",
       "47855             0.0             0.0       0.0        0.0             0.0   \n",
       "89113             0.0             0.0       0.0        0.0             0.0   \n",
       "18267             0.0             0.0       0.0        0.0             0.0   \n",
       "\n",
       "       IN_LIBRAS  IN_LEITURA_LABIAL  IN_MESA_CADEIRA_RODAS  \\\n",
       "48095        0.0                0.0                    0.0   \n",
       "79687        0.0                0.0                    0.0   \n",
       "47855        0.0                0.0                    0.0   \n",
       "89113        0.0                0.0                    0.0   \n",
       "18267        0.0                0.0                    0.0   \n",
       "\n",
       "       IN_MESA_CADEIRA_SEPARADA  IN_APOIO_PERNA  IN_GUIA_INTERPRETE  \\\n",
       "48095                       0.0             0.0                 0.0   \n",
       "79687                       0.0             0.0                 0.0   \n",
       "47855                       0.0             0.0                 0.0   \n",
       "89113                       0.0             0.0                 0.0   \n",
       "18267                       0.0             0.0                 0.0   \n",
       "\n",
       "       IN_COMPUTADOR  IN_CADEIRA_ESPECIAL  IN_CADEIRA_CANHOTO  \\\n",
       "48095            0.0                  0.0                 0.0   \n",
       "79687            0.0                  0.0                 0.0   \n",
       "47855            0.0                  0.0                 0.0   \n",
       "89113            0.0                  0.0                 0.0   \n",
       "18267            0.0                  0.0                 0.0   \n",
       "\n",
       "       IN_CADEIRA_ACOLCHOADA  IN_PROVA_DEITADO  IN_MOBILIARIO_OBESO  \\\n",
       "48095                    0.0               0.0                  0.0   \n",
       "79687                    0.0               0.0                  0.0   \n",
       "47855                    0.0               0.0                  0.0   \n",
       "89113                    0.0               0.0                  0.0   \n",
       "18267                    0.0               0.0                  0.0   \n",
       "\n",
       "       IN_LAMINA_OVERLAY  IN_PROTETOR_AURICULAR  IN_MEDIDOR_GLICOSE  \\\n",
       "48095                0.0                    0.0                 0.0   \n",
       "79687                0.0                    0.0                 0.0   \n",
       "47855                0.0                    0.0                 0.0   \n",
       "89113                0.0                    0.0                 0.0   \n",
       "18267                0.0                    0.0                 0.0   \n",
       "\n",
       "       IN_MAQUINA_BRAILE  IN_SOROBAN  IN_MARCA_PASSO  IN_SONDA  \\\n",
       "48095                0.0         0.0             0.0       0.0   \n",
       "79687                0.0         0.0             0.0       0.0   \n",
       "47855                0.0         0.0             0.0       0.0   \n",
       "89113                0.0         0.0             0.0       0.0   \n",
       "18267                0.0         0.0             0.0       0.0   \n",
       "\n",
       "       IN_MEDICAMENTOS  IN_SALA_INDIVIDUAL  IN_SALA_ESPECIAL  \\\n",
       "48095              0.0                 0.0               0.0   \n",
       "79687              0.0                 0.0               0.0   \n",
       "47855              0.0                 0.0               0.0   \n",
       "89113              0.0                 0.0               0.0   \n",
       "18267              0.0                 0.0               0.0   \n",
       "\n",
       "       IN_SALA_ACOMPANHANTE  IN_MOBILIARIO_ESPECIFICO  IN_MATERIAL_ESPECIFICO  \\\n",
       "48095                   0.0                       0.0                     0.0   \n",
       "79687                   0.0                       0.0                     0.0   \n",
       "47855                   0.0                       0.0                     0.0   \n",
       "89113                   0.0                       0.0                     0.0   \n",
       "18267                   0.0                       0.0                     0.0   \n",
       "\n",
       "       IN_NOME_SOCIAL  CO_MUNICIPIO_PROVA NO_MUNICIPIO_PROVA  CO_UF_PROVA  \\\n",
       "48095             0.0           2408003.0            Mossoró         24.0   \n",
       "79687             0.0           3137205.0     Lagoa da Prata         31.0   \n",
       "47855             0.0           2105302.0         Imperatriz         21.0   \n",
       "89113             0.0           2922508.0             Nazaré         29.0   \n",
       "18267             0.0           3304557.0     Rio de Janeiro         33.0   \n",
       "\n",
       "      SG_UF_PROVA  TP_PRESENCA_CN  TP_PRESENCA_CH  TP_PRESENCA_LC  \\\n",
       "48095          RN             1.0             1.0             1.0   \n",
       "79687          MG             1.0             1.0             1.0   \n",
       "47855          MA             1.0             1.0             1.0   \n",
       "89113          BA             1.0             1.0             1.0   \n",
       "18267          RJ             1.0             1.0             1.0   \n",
       "\n",
       "       TP_PRESENCA_MT  CO_PROVA_CN  CO_PROVA_CH  CO_PROVA_LC  CO_PROVA_MT  \\\n",
       "48095             1.0        394.0        396.0        400.0        405.0   \n",
       "79687             1.0        392.0        398.0        401.0        404.0   \n",
       "47855             1.0        393.0        397.0        402.0        406.0   \n",
       "89113             1.0        394.0        397.0        402.0        405.0   \n",
       "18267             1.0        394.0        396.0        400.0        405.0   \n",
       "\n",
       "       NU_NOTA_CN  NU_NOTA_CH  NU_NOTA_LC  NU_NOTA_MT  \\\n",
       "48095       631.8       609.3       591.6       696.5   \n",
       "79687       585.4       603.8       560.9       670.5   \n",
       "47855       506.9       428.8       513.1       458.0   \n",
       "89113       408.1       372.8       476.7       445.5   \n",
       "18267       589.7       673.3       615.7       769.7   \n",
       "\n",
       "                                     TX_RESPOSTAS_CN  \\\n",
       "48095  BEBDEDCCCAACAACEBDDBEBEBADEDBECEEBACAABACCCBB   \n",
       "79687  BCAEACADAAECACACDEBADAADBDAAACEEBEAECCCEDBAAC   \n",
       "47855  BAADEDDCBCEDBABADADCBBEDBDBADDAABEACADDBBDCAC   \n",
       "89113  ABBBCAADAABCDECBEBBBAEADACDCDECADACBACBBCBACB   \n",
       "18267  BECCADDACCBCDECBBDCDBCDCBADEBEBBEBCDBBBACDABB   \n",
       "\n",
       "                                     TX_RESPOSTAS_CH  \\\n",
       "48095  DCEBEACBCCDBABBAECACCBDCCCEEBEEBDECDCAEEBDBEC   \n",
       "79687  CACBDDAABBDAEDACCADEDCCEAEDCEEDEBBBEBBAACBDAD   \n",
       "47855  DDABBDBCBACBBDACAAADAEAABAAEBEBBADBADDABDDACA   \n",
       "89113  ABBBEBBCBADDBCDACBDAEDCECADEDCABDCDEABDEBCAAB   \n",
       "18267  CDDAEECAEDDBDEBAACDCEBCCEDDADBABABEDBADECDBEC   \n",
       "\n",
       "                                         TX_RESPOSTAS_LC  \\\n",
       "48095  99999BCBDECCEBDEEDCEDADDDABBADEDEDAAAABBBACAEB...   \n",
       "79687  DCEBC99999BBABAACEDBBDEDCAEABBCDCDBBAEDADBBABB...   \n",
       "47855  99999EDBACCAEADEBBBDEDBAACBCBABEBABEBEABDBEBAB...   \n",
       "89113  99999DBAEBCCAAEBEEDCDCABDABCBEDEAECCADEAEAEECB...   \n",
       "18267  BEDCD99999CCEBDCEDDBEAAECABCADEDEDDABAADBDCBEA...   \n",
       "\n",
       "                                     TX_RESPOSTAS_MT  TP_LINGUA  \\\n",
       "48095  ABCDBABEEBBCDABCEBBDBDEABEECBECABEDAEBDABBBCB        1.0   \n",
       "79687  CEECABBDDBABDCDCEBCBDCABECBABEBCDEBABAEABBACD        0.0   \n",
       "47855  CEEEADABADCDABBBAEADBECCEAECAEDBECAEDBDADDEAC        1.0   \n",
       "89113  CAECDBACADCADEBDACDEDACEAABABCECBBADBDEACBDCB        1.0   \n",
       "18267  CDDBADBBECCCBEBAEBBDDCEBCEBBBCEDBEAAEDEABDCEB        0.0   \n",
       "\n",
       "                                      TX_GABARITO_CN  \\\n",
       "48095  EEAAECDCCDADAADECDCBCDAAEDEEBABCEDDCBEBAABCBB   \n",
       "79687  BCBBEBAAEDDCBDADEEBADECDCBCDAAEABCEEAAECDCCDA   \n",
       "47855  CCDACDEEAAEABCDAAECDCBADECDEEBDACBEDDBCBBEBAA   \n",
       "89113  EEAAECDCCDADAADECDCBCDAAEDEEBABCEDDCBEBAABCBB   \n",
       "18267  EEAAECDCCDADAADECDCBCDAAEDEEBABCEDDCBEBAABCBB   \n",
       "\n",
       "                                      TX_GABARITO_CH  \\\n",
       "48095  CDEAEECAEBDBDBBAECDAEBCCCDAEBEABDBEDAADBCDDEC   \n",
       "79687  DAEBEABDBEDACDDECADBCCCAECDEECAEBDBDBBAECDAEB   \n",
       "47855  ECAEBCDDECADBEABDDBDBDAEBCCCCDEAEDAEBBEDABAEC   \n",
       "89113  ECAEBCDDECADBEABDDBDBDAEBCCCCDEAEDAEBBEDABAEC   \n",
       "18267  CDEAEECAEBDBDBBAECDAEBCCCDAEBEABDBEDAADBCDDEC   \n",
       "\n",
       "                                          TX_GABARITO_LC  \\\n",
       "48095  EDDCDBEEDECCEBDAEDAEDAABEDBBADEDEDDABAABBDCBEA...   \n",
       "79687  DEDCDBEEDEECABAAEDDCBDEDBAEABBBDEDBBCCDAEBCAAB...   \n",
       "47855  DDCDEEDBEECEBADEDEABEDBBBDBCCABAAAABCBDAEDEDDB...   \n",
       "89113  DDCDEEDBEECEBADEDEABEDBBBDBCCABAAAABCBDAEDEDDB...   \n",
       "18267  EDDCDBEEDECCEBDAEDAEDAABEDBBADEDEDDABAABBDCBEA...   \n",
       "\n",
       "                                      TX_GABARITO_MT  TP_STATUS_REDACAO  \\\n",
       "48095  BBDBADBEECDCCECAEBBDDEDDCCBBACADAEACEADABDECB                1.0   \n",
       "79687  CCECEECDADBBDBBDBAEBDDABECBDCCDEDBBACAEADAEAC                1.0   \n",
       "47855  EECDCCECBDBBDBAEBADBECBDDABDEDEAADCCDAEACBBAC                1.0   \n",
       "89113  BBDBADBEECDCCECAEBBDDEDDCCBBACADAEACEADABDECB                1.0   \n",
       "18267  BBDBADBEECDCCECAEBBDDEDDCCBBACADAEACEADABDECB                1.0   \n",
       "\n",
       "       NU_NOTA_COMP1  NU_NOTA_COMP2  NU_NOTA_COMP3  NU_NOTA_COMP4  \\\n",
       "48095          160.0          120.0          160.0          160.0   \n",
       "79687          200.0          120.0          180.0          200.0   \n",
       "47855          140.0          100.0          100.0          100.0   \n",
       "89113          120.0          120.0          120.0          120.0   \n",
       "18267          120.0          180.0          120.0          120.0   \n",
       "\n",
       "       NU_NOTA_COMP5  NU_NOTA_REDACAO Q001 Q002 Q003 Q004  Q005 Q006 Q007  \\\n",
       "48095           80.0            680.0    F    E    B    F   5.0    C    A   \n",
       "79687          120.0            820.0    E    G    C    D   4.0    H    A   \n",
       "47855           20.0            460.0    G    G    E    E   3.0    H    A   \n",
       "89113          140.0            620.0    H    C    C    B   3.0    B    A   \n",
       "18267          140.0            680.0    G    G    E    E   4.0    L    A   \n",
       "\n",
       "      Q008 Q009 Q010 Q011 Q012 Q013 Q014 Q015 Q016 Q017 Q018 Q019 Q020 Q021  \\\n",
       "48095    B    D    A    B    B    C    A    A    A    A    A    C    A    A   \n",
       "79687    D    D    B    C    B    B    B    A    B    A    A    C    A    A   \n",
       "47855    C    C    B    B    C    B    B    A    B    A    A    D    B    A   \n",
       "89113    C    D    A    A    B    A    A    A    B    A    A    B    B    A   \n",
       "18267    B    C    A    A    B    B    B    B    B    A    B    B    B    B   \n",
       "\n",
       "      Q022 Q023 Q024 Q025 Q026 Q027  \n",
       "48095    C    A    B    B    B    A  \n",
       "79687    D    A    B    B    C    A  \n",
       "47855    D    A    C    B    C    A  \n",
       "89113    C    A    B    B    A    A  \n",
       "18267    E    B    C    B    B    E  "
      ]
     },
     "execution_count": 29,
     "metadata": {},
     "output_type": "execute_result"
    }
   ],
   "source": [
    "pandas_df.head()"
   ]
  },
  {
   "cell_type": "code",
   "execution_count": 30,
   "metadata": {},
   "outputs": [
    {
     "data": {
      "application/vnd.jupyter.widget-view+json": {
       "model_id": "ae73442d8ccc4531b8ac04286719b983",
       "version_major": 2,
       "version_minor": 0
      },
      "text/plain": [
       "HBox(children=(IntProgress(value=0, max=137), HTML(value='')))"
      ]
     },
     "metadata": {},
     "output_type": "display_data"
    },
    {
     "name": "stdout",
     "output_type": "stream",
     "text": [
      "\n"
     ]
    }
   ],
   "source": [
    "number_na = dict()\n",
    "for i in tqdm_notebook(pandas_df.columns):\n",
    "    num_nan_i = pandas_df.loc[ (pd.isna(pandas_df[i])), i ].shape[0]\n",
    "    number_na[i]= num_nan_i"
   ]
  },
  {
   "cell_type": "code",
   "execution_count": 31,
   "metadata": {},
   "outputs": [
    {
     "data": {
      "text/plain": [
       "673134"
      ]
     },
     "execution_count": 31,
     "metadata": {},
     "output_type": "execute_result"
    }
   ],
   "source": [
    "len(pandas_df)"
   ]
  },
  {
   "cell_type": "code",
   "execution_count": 32,
   "metadata": {},
   "outputs": [
    {
     "data": {
      "text/plain": [
       "[('TP_SIT_FUNC_ESC', 495532),\n",
       " ('TP_ENSINO', 494932),\n",
       " ('CO_ESCOLA', 494931),\n",
       " ('CO_MUNICIPIO_ESC', 494931),\n",
       " ('NO_MUNICIPIO_ESC', 494931),\n",
       " ('CO_UF_ESC', 494931),\n",
       " ('SG_UF_ESC', 494931),\n",
       " ('TP_DEPENDENCIA_ADM_ESC', 494931),\n",
       " ('TP_LOCALIZACAO_ESC', 494931),\n",
       " ('CO_PROVA_CN', 229562),\n",
       " ('CO_PROVA_MT', 229562),\n",
       " ('NU_NOTA_CN', 229562),\n",
       " ('NU_NOTA_MT', 229562),\n",
       " ('TX_RESPOSTAS_CN', 229562),\n",
       " ('TX_RESPOSTAS_MT', 229562),\n",
       " ('TX_GABARITO_CN', 229562),\n",
       " ('TX_GABARITO_MT', 229562),\n",
       " ('CO_PROVA_CH', 203328),\n",
       " ('CO_PROVA_LC', 203328),\n",
       " ('NU_NOTA_CH', 203328),\n",
       " ('NU_NOTA_LC', 203328),\n",
       " ('TX_RESPOSTAS_CH', 203328),\n",
       " ('TX_RESPOSTAS_LC', 203328),\n",
       " ('TX_GABARITO_CH', 203328),\n",
       " ('TX_GABARITO_LC', 203328),\n",
       " ('TP_STATUS_REDACAO', 203328),\n",
       " ('NU_NOTA_COMP1', 203328),\n",
       " ('NU_NOTA_COMP2', 203328),\n",
       " ('NU_NOTA_COMP3', 203328),\n",
       " ('NU_NOTA_COMP4', 203328),\n",
       " ('NU_NOTA_COMP5', 203328),\n",
       " ('NU_NOTA_REDACAO', 203328),\n",
       " ('TP_ESTADO_CIVIL', 27591),\n",
       " ('CO_MUNICIPIO_NASCIMENTO', 23022),\n",
       " ('NO_MUNICIPIO_NASCIMENTO', 23022),\n",
       " ('CO_UF_NASCIMENTO', 23022),\n",
       " ('SG_UF_NASCIMENTO', 23022),\n",
       " ('TP_PRESENCA_CN', 30),\n",
       " ('TP_PRESENCA_CH', 30),\n",
       " ('TP_PRESENCA_LC', 30),\n",
       " ('TP_PRESENCA_MT', 30),\n",
       " ('NU_IDADE', 13),\n",
       " ('NU_INSCRICAO', 0),\n",
       " ('NU_ANO', 0),\n",
       " ('CO_MUNICIPIO_RESIDENCIA', 0),\n",
       " ('NO_MUNICIPIO_RESIDENCIA', 0),\n",
       " ('CO_UF_RESIDENCIA', 0),\n",
       " ('SG_UF_RESIDENCIA', 0),\n",
       " ('TP_SEXO', 0),\n",
       " ('TP_COR_RACA', 0),\n",
       " ('TP_NACIONALIDADE', 0),\n",
       " ('TP_ST_CONCLUSAO', 0),\n",
       " ('TP_ANO_CONCLUIU', 0),\n",
       " ('TP_ESCOLA', 0),\n",
       " ('IN_TREINEIRO', 0),\n",
       " ('IN_BAIXA_VISAO', 0),\n",
       " ('IN_CEGUEIRA', 0),\n",
       " ('IN_SURDEZ', 0),\n",
       " ('IN_DEFICIENCIA_AUDITIVA', 0),\n",
       " ('IN_SURDO_CEGUEIRA', 0),\n",
       " ('IN_DEFICIENCIA_FISICA', 0),\n",
       " ('IN_DEFICIENCIA_MENTAL', 0),\n",
       " ('IN_DEFICIT_ATENCAO', 0),\n",
       " ('IN_DISLEXIA', 0),\n",
       " ('IN_DISCALCULIA', 0),\n",
       " ('IN_AUTISMO', 0),\n",
       " ('IN_VISAO_MONOCULAR', 0),\n",
       " ('IN_OUTRA_DEF', 0),\n",
       " ('IN_GESTANTE', 0),\n",
       " ('IN_LACTANTE', 0),\n",
       " ('IN_IDOSO', 0),\n",
       " ('IN_ESTUDA_CLASSE_HOSPITALAR', 0),\n",
       " ('IN_SEM_RECURSO', 0),\n",
       " ('IN_BRAILLE', 0),\n",
       " ('IN_AMPLIADA_24', 0),\n",
       " ('IN_AMPLIADA_18', 0),\n",
       " ('IN_LEDOR', 0),\n",
       " ('IN_ACESSO', 0),\n",
       " ('IN_TRANSCRICAO', 0),\n",
       " ('IN_LIBRAS', 0),\n",
       " ('IN_LEITURA_LABIAL', 0),\n",
       " ('IN_MESA_CADEIRA_RODAS', 0),\n",
       " ('IN_MESA_CADEIRA_SEPARADA', 0),\n",
       " ('IN_APOIO_PERNA', 0),\n",
       " ('IN_GUIA_INTERPRETE', 0),\n",
       " ('IN_COMPUTADOR', 0),\n",
       " ('IN_CADEIRA_ESPECIAL', 0),\n",
       " ('IN_CADEIRA_CANHOTO', 0),\n",
       " ('IN_CADEIRA_ACOLCHOADA', 0),\n",
       " ('IN_PROVA_DEITADO', 0),\n",
       " ('IN_MOBILIARIO_OBESO', 0),\n",
       " ('IN_LAMINA_OVERLAY', 0),\n",
       " ('IN_PROTETOR_AURICULAR', 0),\n",
       " ('IN_MEDIDOR_GLICOSE', 0),\n",
       " ('IN_MAQUINA_BRAILE', 0),\n",
       " ('IN_SOROBAN', 0),\n",
       " ('IN_MARCA_PASSO', 0),\n",
       " ('IN_SONDA', 0),\n",
       " ('IN_MEDICAMENTOS', 0),\n",
       " ('IN_SALA_INDIVIDUAL', 0),\n",
       " ('IN_SALA_ESPECIAL', 0),\n",
       " ('IN_SALA_ACOMPANHANTE', 0),\n",
       " ('IN_MOBILIARIO_ESPECIFICO', 0),\n",
       " ('IN_MATERIAL_ESPECIFICO', 0),\n",
       " ('IN_NOME_SOCIAL', 0),\n",
       " ('CO_MUNICIPIO_PROVA', 0),\n",
       " ('NO_MUNICIPIO_PROVA', 0),\n",
       " ('CO_UF_PROVA', 0),\n",
       " ('SG_UF_PROVA', 0),\n",
       " ('TP_LINGUA', 0),\n",
       " ('Q001', 0),\n",
       " ('Q002', 0),\n",
       " ('Q003', 0),\n",
       " ('Q004', 0),\n",
       " ('Q005', 0),\n",
       " ('Q006', 0),\n",
       " ('Q007', 0),\n",
       " ('Q008', 0),\n",
       " ('Q009', 0),\n",
       " ('Q010', 0),\n",
       " ('Q011', 0),\n",
       " ('Q012', 0),\n",
       " ('Q013', 0),\n",
       " ('Q014', 0),\n",
       " ('Q015', 0),\n",
       " ('Q016', 0),\n",
       " ('Q017', 0),\n",
       " ('Q018', 0),\n",
       " ('Q019', 0),\n",
       " ('Q020', 0),\n",
       " ('Q021', 0),\n",
       " ('Q022', 0),\n",
       " ('Q023', 0),\n",
       " ('Q024', 0),\n",
       " ('Q025', 0),\n",
       " ('Q026', 0),\n",
       " ('Q027', 0)]"
      ]
     },
     "execution_count": 32,
     "metadata": {},
     "output_type": "execute_result"
    }
   ],
   "source": [
    "sorted(number_na.items(), key=operator.itemgetter(1), reverse=True)"
   ]
  },
  {
   "cell_type": "markdown",
   "metadata": {},
   "source": [
    "# Next steps\n",
    "\n",
    "- Remove all the rows with None as Grades\n",
    "- Remove Gabarito From Columns\n",
    "- Remove Presenca\n",
    "- NU_INSCRICAO\n",
    "- NU_ANO\n",
    "- E RESIDENCIAS\n",
    "- Remove Notas das Competencias da Redacao\n",
    "- Remover Codigo das Provas (CO)\n"
   ]
  },
  {
   "cell_type": "code",
   "execution_count": null,
   "metadata": {},
   "outputs": [],
   "source": []
  }
 ],
 "metadata": {
  "kernelspec": {
   "display_name": "Python [conda env:pgm]",
   "language": "python",
   "name": "conda-env-pgm-py"
  },
  "language_info": {
   "codemirror_mode": {
    "name": "ipython",
    "version": 3
   },
   "file_extension": ".py",
   "mimetype": "text/x-python",
   "name": "python",
   "nbconvert_exporter": "python",
   "pygments_lexer": "ipython3",
   "version": "3.7.0"
  },
  "toc": {
   "base_numbering": 1,
   "nav_menu": {},
   "number_sections": true,
   "sideBar": true,
   "skip_h1_title": false,
   "title_cell": "Table of Contents",
   "title_sidebar": "Contents",
   "toc_cell": false,
   "toc_position": {},
   "toc_section_display": true,
   "toc_window_display": false
  },
  "varInspector": {
   "cols": {
    "lenName": 16,
    "lenType": 16,
    "lenVar": 40
   },
   "kernels_config": {
    "python": {
     "delete_cmd_postfix": "",
     "delete_cmd_prefix": "del ",
     "library": "var_list.py",
     "varRefreshCmd": "print(var_dic_list())"
    },
    "r": {
     "delete_cmd_postfix": ") ",
     "delete_cmd_prefix": "rm(",
     "library": "var_list.r",
     "varRefreshCmd": "cat(var_dic_list()) "
    }
   },
   "position": {
    "height": "144px",
    "left": "997px",
    "right": "20px",
    "top": "120px",
    "width": "350px"
   },
   "types_to_exclude": [
    "module",
    "function",
    "builtin_function_or_method",
    "instance",
    "_Feature"
   ],
   "window_display": false
  }
 },
 "nbformat": 4,
 "nbformat_minor": 2
}
